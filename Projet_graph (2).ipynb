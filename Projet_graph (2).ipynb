{
 "cells": [
  {
   "cell_type": "code",
   "execution_count": 1,
   "metadata": {},
   "outputs": [],
   "source": [
    "import snap\n",
    "import random as rd\n",
    "import numpy as np\n",
    "from dataclasses import dataclass, field\n",
    "import queue\n",
    "from numpy.linalg import inv\n",
    "import numpy.linalg as lg\n",
    "import matplotlib.pyplot as plt\n",
    "import copy\n",
    "import time\n",
    "from tqdm.notebook import trange, tqdm\n",
    "\n",
    "#G5 = snap.LoadEdgeList(snap.TUNGraph, \"com-orkut.ungraph.txt\", 0, 1)\n",
    "#N_G = G5.GetNodes()"
   ]
  },
  {
   "cell_type": "code",
   "execution_count": 11,
   "metadata": {},
   "outputs": [],
   "source": [
    "def extract_subgraph(n): # extract a subgrpah of n points from G\n",
    "    D = {}\n",
    "    while len(D)<n:\n",
    "        D[rd.randint(0,N_G)]=1\n",
    "    L = [key for key in D]\n",
    "    #print(D)\n",
    "    #print(L)\n",
    "    return L\n",
    "\n",
    "def aux(G,n):\n",
    "    D={}\n",
    "    Q = queue.Queue()\n",
    "    x = rd.randint(0,N_G)\n",
    "    D[x]=1\n",
    "    Q.put(x)\n",
    "    while len(D)<n:\n",
    "        x = Q.get()\n",
    "        for e in G.GetNI(x).GetOutEdges():\n",
    "            if len(D)>n:\n",
    "                break\n",
    "            if not e in D:\n",
    "                D[e]=1\n",
    "                Q.put(e)\n",
    "    L = [key for key in D]\n",
    "    return L\n",
    "\n",
    "def extract_subgraph2(G,N):\n",
    "    n= 2*N\n",
    "    while n>1.2*N:\n",
    "        L = aux(G,N)\n",
    "        n = len(L)\n",
    "    return L\n",
    "\n",
    "def node_convertor(G):\n",
    "    n = len(list(G.Nodes()))\n",
    "    L = [0]*n\n",
    "    D = {}\n",
    "    i = 0\n",
    "    for N in G.Nodes():\n",
    "        L[i] = N.GetId()\n",
    "        D[N.GetId()] = i\n",
    "        i+=1\n",
    "    return L,D\n",
    "\n",
    "def matrix_convertor(G,D):\n",
    "    n = len(list(G.Nodes()))\n",
    "    A = np.zeros((n,n))\n",
    "    for e in G.Edges():\n",
    "        i = D[e.GetSrcNId()]\n",
    "        j = D[e.GetDstNId()]\n",
    "        A[i,j] = 1\n",
    "    return A\n",
    "\n",
    "def matrix_convertor_un(G,D):\n",
    "    n = len(list(G.Nodes()))\n",
    "    A = np.zeros((n,n))\n",
    "    for e in G.Edges():\n",
    "        i = D[e.GetSrcNId()]\n",
    "        j = D[e.GetDstNId()]\n",
    "        A[i,j] = 1\n",
    "        A[j,i] = 1\n",
    "    return A\n",
    "\n",
    "def katz_matrix(A,alpha,Eig=False):  \n",
    "    n,_ = A.shape\n",
    "    if Eig:\n",
    "        v,_ = lg.eig(A)\n",
    "        V = []\n",
    "        for i in range(n):\n",
    "            V.append(v[i])\n",
    "        V.sort()\n",
    "        print(1/abs(V[-1]))\n",
    "    \n",
    "    I = np.eye(n)\n",
    "    J = np.ones(n)\n",
    "    return ((inv((I-alpha*A))-I)@J)\n",
    "\n",
    "def loss_bias_error(real_katz,noisy_katz,n):\n",
    "    E = 0\n",
    "    B = 0\n",
    "    R = 0\n",
    "    for i in range(n):\n",
    "        E+=(real_katz[i]-noisy_katz[i])**2/n\n",
    "        B+=(real_katz[i]-noisy_katz[i])/n\n",
    "        R+=abs(real_katz[i]-noisy_katz[i])/(max(n*real_katz[i],1e4))\n",
    "    return E,B,R\n",
    "\n",
    "def make_subgraph(G,N):\n",
    "    L = extract_subgraph(N)\n",
    "    return G.GetSubGraph(L)\n",
    "    \n",
    "def make_subgraph2(G,N):\n",
    "    L = extract_subgraph2(G,N)\n",
    "    return G.GetSubGraph(L)\n",
    "\n",
    "def plot_several_round(G,Eps,alpha,count = 40, extract=False,N=1000):\n",
    "    if extract:\n",
    "        n=2*N\n",
    "        while n>1.2*N:\n",
    "            L = extract_subgraph2(G,N)\n",
    "            G1 = G.GetSubGraph(L)\n",
    "            n = len(list(G1.Nodes()))\n",
    "    else:\n",
    "        G1=G\n",
    "        n = len(list(G1.Nodes()))\n",
    "    n = len(list(G1.Nodes()))\n",
    "    print(n)\n",
    "\n",
    "    E1 = [0]*len(Eps)           \n",
    "    R1 = [0]*len(Eps)\n",
    "    L,D = node_convertor(G1)\n",
    "    #A = matrix_convertor(G1,D)\n",
    "    #r_k = katz_matrix(A,alpha)\n",
    "    r_k = katz_by_graph_exploration(G1,D,L,alpha,40,n)\n",
    "    for i in range(len(Eps)):\n",
    "        print(i)\n",
    "        n_k1 = katz_local_estimator(G1,D,L,alpha,count,Eps[i],n)\n",
    "        e1,b1,r1 = loss_bias_error(r_k,n_k1,n)\n",
    "        E1[i] = e1 \n",
    "        R1[i] = r1 \n",
    "\n",
    "    print('avg = ',np.mean(r_k))\n",
    "\n",
    "\n",
    "    _, ax = plt.subplots()\n",
    "    ax.set_yscale('log')\n",
    "    plt.plot(Eps,E1,label = 'loss')\n",
    "    plt.legend(loc = 'upper right')\n",
    "    plt.show()\n",
    "\n",
    "    plt.clf()\n",
    "    _, ax = plt.subplots()\n",
    "    ax.set_yscale('log')\n",
    "    plt.plot(Eps,R1,label = 'err')\n",
    "    plt.legend(loc = 'upper right')\n",
    "    plt.show()\n",
    "    plt.clf()\n",
    "\n",
    "def plot_several_round2(G,Eps,alpha,count = 40, extract=False,N=1000):\n",
    "    if extract:\n",
    "        n=2*N\n",
    "        while n>1.2*N:\n",
    "            L = extract_subgraph2(G,N)\n",
    "            G1 = G.GetSubGraph(L)\n",
    "            n = len(list(G1.Nodes()))\n",
    "    else:\n",
    "        G1=G\n",
    "        n = len(list(G1.Nodes()))\n",
    "    n = len(list(G1.Nodes()))\n",
    "    print(n)\n",
    "\n",
    "    E1 = [0]*len(Eps)           \n",
    "    R1 = [0]*len(Eps)\n",
    "    L,D = node_convertor(G1)\n",
    "    #A = matrix_convertor(G1,D)\n",
    "    #r_k = katz_matrix(A,alpha)\n",
    "    r_k = katz_by_graph_exploration(G1,D,L,alpha,40,n)\n",
    "    for i in range(len(Eps)):\n",
    "        print(i)\n",
    "        n_k1 = katz_local_estimator2(G1,D,L,alpha,count,Eps[i],n)\n",
    "        e1,b1,r1 = loss_bias_error(r_k,n_k1,n)\n",
    "        E1[i] = e1 \n",
    "        R1[i] = r1 \n",
    "\n",
    "    print('avg = ',np.mean(r_k))\n",
    "\n",
    "\n",
    "    _, ax = plt.subplots()\n",
    "    ax.set_yscale('log')\n",
    "    plt.plot(Eps,E1,label = 'loss')\n",
    "    plt.legend(loc = 'upper right')\n",
    "    plt.show()\n",
    "\n",
    "    plt.clf()\n",
    "    _, ax = plt.subplots()\n",
    "    ax.set_yscale('log')\n",
    "    plt.plot(Eps,R1,label = 'err')\n",
    "    plt.legend(loc = 'upper right')\n",
    "    plt.show()\n",
    "    plt.clf()\n",
    "    \n",
    "def biggest_degree(G,L,n):\n",
    "    B = np.zeros(n)\n",
    "    for i in range(n):\n",
    "        B[i] = G.GetNI(L[i]).GetOutDeg()+np.random.laplace(scale=2)\n",
    "    return B\n",
    "\n",
    "def katz_by_graph_exploration(G,D,L,alpha,count,n):\n",
    "    B = np.zeros(n)    # store katz centrality\n",
    "    C = np.ones(n)     # store number of (k-1)-path \n",
    "    X = np.zeros(n)    # store number of k-path\n",
    "\n",
    "    for k in range(count):\n",
    "        #print(max(C))\n",
    "        for i in range(n):\n",
    "            X[i]=0     \n",
    "        for i in range(n):\n",
    "            for e in G.GetNI(L[i]).GetOutEdges():\n",
    "                B[i]+=alpha*C[D[e]]\n",
    "                X[i]+=alpha*C[D[e]]\n",
    "        for i in range(n):\n",
    "            C[i]=X[i]\n",
    "    return B\n",
    "\n",
    "def small_sigma(count,alpha,X):\n",
    "    S = 0\n",
    "    for i in range(1,count+1):\n",
    "        S+=2*alpha**2*(alpha*X)**(i-1)\n",
    "        for j in range(2,count+1-i):\n",
    "            S+=2*alpha*(alpha*X)**(j+i-1)\n",
    "    return S\n",
    "    \n",
    "def big_sigma(count,alpha,X):\n",
    "    S = 0\n",
    "    for i in range(1,count+1):\n",
    "        S+=alpha*(alpha*X)**(i-1)\n",
    "        for j in range(2,count+1-i):\n",
    "            S+=2*alpha*(alpha*X)**(j+i-1)\n",
    "    return S\n",
    "    \n",
    "def proba_dens(B,scale,n):\n",
    "    P = np.zeros(n)\n",
    "    for i in range(n):\n",
    "        P[i]=np.exp(scale*B[i])\n",
    "    return 0\n",
    "        \n",
    "def exponential2(G,D,L,X,alpha,count,k,n,eps=1):\n",
    "    B = katz_by_clipping(G,D,L,X,alpha,count,n)\n",
    "    P = np.zeros(n)\n",
    "    I = np.zeros(n)\n",
    "    S = big_sigma(count,alpha,X)\n",
    "    s = small_sigma(count,alpha,X)\n",
    "    #print(S,s)\n",
    "    scale = 0.5*eps/(2*S+(k-2)*s)\n",
    "    #print(scale)\n",
    "    for i in range(n):\n",
    "        P[i]=np.exp(scale*B[i])\n",
    "        I[i]=i\n",
    "    P = P/sum(P)\n",
    "    #print(max(P))\n",
    "    output = []\n",
    "    for _ in range(k):\n",
    "        r = np.random.choice(I,p=P)\n",
    "        output.append(int(r))\n",
    "        #print(P[int(r)])\n",
    "        P[int(r)]=0\n",
    "        P=P/sum(P)\n",
    "    return output\n",
    "\n",
    "def build_density(R,n,k):\n",
    "    A = np.zeros((n,k))\n",
    "    A[n-1,k-1] = R[n-1]\n",
    "    for i in range(n-2,-1,-1):\n",
    "        A[i,k-1]=A[i+1,k-1]+R[i]\n",
    "    for i in range(n-2,-1,-1):\n",
    "        for j in range(k-1):\n",
    "            A[i,j]=A[i+1,j]+R[i]*A[i+1,j+1]\n",
    "    P = np.zeros((n,k))\n",
    "    for i in range(n-1):\n",
    "        for j in range(k-1):\n",
    "            if A[i,j]>1e-10:\n",
    "                P[i,j]=R[i]*A[i+1,j+1]/A[i,j]\n",
    "            else:\n",
    "                P[i,j]=1\n",
    "        if A[i,k-1]>1e-10:\n",
    "            P[i,k-1]=R[i]/A[i,k-1]\n",
    "        else:\n",
    "            P[i,k-1]=1\n",
    "    P[n-1,k-1]=1\n",
    "    return P        \n",
    "    \n",
    "\n",
    "def exponential(G,D,L,X,alpha,count,k,n,eps=1):\n",
    "    B = katz_by_clipping(G,D,L,X,alpha,count,n)\n",
    "    R = np.zeros(n)\n",
    "    S = big_sigma(count,alpha,X)\n",
    "    s = small_sigma(count,alpha,X)\n",
    "    scale = 0.5*eps/(2*S+(k-2)*s)\n",
    "    for i in range(n):\n",
    "        R[i] = np.exp(scale*B[i])\n",
    "    P = build_density(R,n,k)\n",
    "    pointer = 0\n",
    "    used = 0\n",
    "    answer = []\n",
    "    while pointer<n:\n",
    "        if used>=k:\n",
    "            break\n",
    "        x = np.random.rand()\n",
    "        if x<P[pointer,used]:\n",
    "            #print(P[pointer,used])\n",
    "            answer.append(pointer)\n",
    "            used+=1\n",
    "        pointer+=1\n",
    "    return answer    \n",
    "        \n",
    "\n",
    "\n",
    "def expo2(G,D,L,X,alpha,count,k,n,eps=1):\n",
    "    B = katz_by_clipping(G,D,L,X,alpha,count,n)\n",
    "    P = np.zeros(n)\n",
    "    I = np.zeros(n)\n",
    "    S = big_sigma(count,alpha,X)\n",
    "    scale = 0.5*eps/(k*S)\n",
    "    #print(scale)\n",
    "    #print(S)\n",
    "    #print(scale)\n",
    "    for i in range(n):\n",
    "        P[i]=np.exp(scale*B[i])\n",
    "        I[i]=i\n",
    "    P = P/sum(P)\n",
    "    output = []\n",
    "    for _ in range(k):\n",
    "        #print(max(P))\n",
    "        r = np.random.choice(I,p=P)\n",
    "        output.append(int(r))\n",
    "        #print(P[int(r)])\n",
    "        P[int(r)]=0\n",
    "        P=P/sum(P)\n",
    "    return output\n",
    "\n",
    "def noise_n(n,alpha,X):\n",
    "    S = 0\n",
    "    for i in range(1,n+1):\n",
    "        S+=alpha*(alpha*X)**(i-1)\n",
    "        for j in range(2,n+1-i):\n",
    "            S+=2*alpha*(alpha*X)**(j+i-1)\n",
    "    return S\n",
    "\n",
    "def katz_by_clipping(G,D,L,x,alpha,count,n):\n",
    "    B = np.zeros(n)    # store katz centrality\n",
    "    C = np.ones(n)     # store number of (k-1)-path \n",
    "    X = np.zeros(n)    # store number of k-path\n",
    "\n",
    "    for k in range(count):\n",
    "        #print(max(C),(alpha*x)**k)\n",
    "        #print(k,max(C))\n",
    "        for i in range(n):\n",
    "            X[i]=0     \n",
    "        for i in range(n):\n",
    "            for e in G.GetNI(L[i]).GetOutEdges():\n",
    "                X[i] += alpha*C[D[e]]\n",
    "        for i in range(n):\n",
    "            B[i] += X[i]\n",
    "            C[i] =  min(X[i],(alpha*x)**(k+1))\n",
    "    return B\n",
    "\n",
    "def katz_by_clipping_noise(G,D,L,x,alpha,count,n,eps=1):\n",
    "    B = katz_by_clipping(G,D,L,x,alpha,count,n)\n",
    "    noise = noise_n(n,alpha,x)\n",
    "    noise = noise*eps\n",
    "    #noise2 = alpha/(1-alpha*x) + 2*alpha**3*x**2/((1-alpha*x)**2)\n",
    "    #print(noise2)\n",
    "    #print(noise)\n",
    "    #print(max(B))\n",
    "    for i in range(n):\n",
    "        B[i] += np.random.laplace(scale = noise)\n",
    "    return B\n",
    "\n",
    "def search_X(G,D,L,alpha,count,n,eps):\n",
    "    opt = np.inf\n",
    "    opt_X = 0\n",
    "    list_X = [i/(10*alpha) for i in range(10)]\n",
    "    r_k = katz_by_graph_exploration(G,D,L,alpha,count,n)\n",
    "    tour = 0\n",
    "    for x in list_X:\n",
    "        tour+=1\n",
    "        n_k = katz_by_clipping_noise(G,D,L,x,alpha,count,n,eps)\n",
    "        e,_,_ = loss_bias_error(r_k,n_k,n)\n",
    "        print(tour,e)\n",
    "        if e<opt:\n",
    "            opt_X = x\n",
    "            opt = e\n",
    "    return opt_X\n",
    "    \n",
    "    \n",
    "def katz_clipping_local(G,D,L,x,alpha,count,n,eps):\n",
    "    B = np.zeros(n)    # store katz centrality\n",
    "    C = np.ones(n)     # store number of (k-1)-path \n",
    "    X = np.zeros(n)    # store number of k-path\n",
    "\n",
    "    for k in range(count):\n",
    "        #print(max(C),(alpha*x)**k)\n",
    "        T = alpha**(k+1)*x**k  #threshold\n",
    "        for i in range(n):\n",
    "            X[i]=0     \n",
    "        for i in range(n):\n",
    "            for e in G.GetNI(L[i]).GetOutEdges():\n",
    "                X[i] += alpha*C[D[e]]\n",
    "        for i in range(n):\n",
    "            X[i] += np.random.laplace(scale = 2*count*T/eps)\n",
    "            B[i] += X[i]\n",
    "            C[i] = min(X[i],T*x)\n",
    "    return B\n",
    "\n",
    "def katz_clipping_opt(G,D,L,x,alpha,count,n,eps):\n",
    "    B = np.zeros(n)    # store katz centrality\n",
    "    C = np.ones(n)     # store number of (k-1)-path \n",
    "    X = np.zeros(n)    # store number of k-path\n",
    "\n",
    "    for k in range(count):\n",
    "        #print(max(C),(alpha*x)**k)\n",
    "        #T = alpha**(k+1)*x**k  #threshold\n",
    "        T = alpha*max(C)\n",
    "        #print(T,alpha*(alpha*x)**k)\n",
    "        #print(\"\\n\")\n",
    "        for i in range(n):\n",
    "            X[i]=0     \n",
    "        for i in range(n):\n",
    "            for e in G.GetNI(L[i]).GetOutEdges():\n",
    "                X[i] += alpha*C[D[e]]\n",
    "        for i in range(n):\n",
    "            X[i] += np.random.laplace(scale = 2*count*T/eps)\n",
    "            B[i] += X[i]\n",
    "            C[i] = max(0,min(X[i],(alpha*x)**(k+1)))\n",
    "    return B\n",
    "\n",
    "def katz_without_clipping(G,D,L,alpha,count,n,eps):\n",
    "    B = np.zeros(n)    # store katz centrality\n",
    "    C = np.ones(n)     # store number of (k-1)-path \n",
    "    X = np.zeros(n)    # store number of k-path\n",
    "\n",
    "    for k in range(count):\n",
    "        #print(max(C),(alpha*x)**k)\n",
    "        #T = alpha**(k+1)*x**k  #threshold\n",
    "        T = alpha*max(C)\n",
    "        #print(T,alpha*(alpha*x)**k)\n",
    "        #print(\"\\n\")\n",
    "        for i in range(n):\n",
    "            X[i]=0     \n",
    "        for i in range(n):\n",
    "            for e in G.GetNI(L[i]).GetOutEdges():\n",
    "                X[i] += alpha*C[D[e]]\n",
    "        for i in range(n):\n",
    "            X[i] += np.random.laplace(scale = 2*count*T/eps)\n",
    "            B[i] += X[i]\n",
    "            C[i] = X[i]\n",
    "    return B\n",
    "\n",
    "def katz_clipping_opt(G,D,L,x,alpha,count,n,eps):\n",
    "    B = np.zeros(n)    # store katz centrality\n",
    "    C = np.ones(n)     # store number of (k-1)-path \n",
    "    X = np.zeros(n)    # store number of k-path\n",
    "\n",
    "    for k in range(count):\n",
    "        #print(max(C),(alpha*x)**k)\n",
    "        #T = alpha**(k+1)*x**k  #threshold\n",
    "        T = alpha*max(C)\n",
    "        #print(T,alpha*(alpha*x)**k)\n",
    "        #print(\"\\n\")\n",
    "        for i in range(n):\n",
    "            X[i]=0     \n",
    "        for i in range(n):\n",
    "            for e in G.GetNI(L[i]).GetOutEdges():\n",
    "                X[i] += alpha*C[D[e]]\n",
    "        for i in range(n):\n",
    "            X[i] += np.random.laplace(scale = 2*count*T/eps)\n",
    "            B[i] += X[i]\n",
    "            C[i] = max(0,min(X[i],(alpha*x)**(k+1)))\n",
    "    return B\n",
    "\n",
    "def count_path(G,D,L,count,n):\n",
    "    C = np.ones(n)     # store number of (k-1)-path \n",
    "    X = np.zeros(n)    # store number of k-path\n",
    "    for k in range(count):\n",
    "        #print(max(C))\n",
    "        for i in range(n):\n",
    "            X[i]=0     \n",
    "        for i in range(n):\n",
    "            for e in G.GetNI(L[i]).GetOutEdges():\n",
    "                X[i]+=C[D[e]]\n",
    "        for i in range(n):\n",
    "            C[i]=X[i]\n",
    "    return C\n",
    "\n",
    "def count_path_noise(G,D,L,count,n,eps):\n",
    "    C = np.ones(n)     # store number of (k-1)-path \n",
    "    X = np.zeros(n)    # store number of k-path\n",
    "    for k in range(count):\n",
    "        #print(C[0:5])\n",
    "        T = max(C)\n",
    "        for i in range(n):\n",
    "            X[i]=0     \n",
    "        for i in range(n):\n",
    "            for e in G.GetNI(L[i]).GetOutEdges():\n",
    "                X[i]+=C[D[e]]\n",
    "        for i in range(n):\n",
    "            X[i] += np.random.laplace(scale = 2*count*T/eps)\n",
    "            C[i] = X[i]\n",
    "    return C\n",
    "\n",
    "def count_path_clipping(G,D,L,x,count,n,eps):\n",
    "    C = np.ones(n)     # store number of (k-1)-path \n",
    "    X = np.zeros(n)    # store number of k-path\n",
    "    for k in range(count):\n",
    "        #print(max(C))\n",
    "        T = max(C)\n",
    "        for i in range(n):\n",
    "            X[i]=0     \n",
    "        for i in range(n):\n",
    "            for e in G.GetNI(L[i]).GetOutEdges():\n",
    "                X[i]+=C[D[e]]\n",
    "        for i in range(n):\n",
    "            X[i]+=np.random.laplace(scale = 2*count*T/eps)\n",
    "            if k<count-1:\n",
    "                C[i]= max(0,min(X[i],x**(k+1)))\n",
    "            else:\n",
    "                C[i]=X[i]\n",
    "    return C\n",
    "\n",
    "\n",
    "def grid_search(G,D,L,alpha,eps,count = 40):\n",
    "    opt_X = 0\n",
    "    opt_count = 0\n",
    "    opt = np.inf\n",
    "    r_k = katz_by_graph_exploration(G,D,L,alpha,count,n)\n",
    "    list_X = [i/(5*alpha) for i in range(10)]\n",
    "    for x in list_X:\n",
    "        B = np.zeros(n)    # store katz centrality\n",
    "        C = np.ones(n)     # store number of (k-1)-path \n",
    "        X = np.zeros(n)    # store number of k-path\n",
    "\n",
    "        for k in range(count):\n",
    "            #print(max(C),(alpha*x)**k)\n",
    "            T = alpha**(k+1)*x**k  #threshold\n",
    "            for i in range(n):\n",
    "                X[i]=0     \n",
    "            for i in range(n):\n",
    "                for e in G.GetNI(L[i]).GetOutEdges():\n",
    "                    B[i] += alpha*C[D[e]]\n",
    "                    X[i] += min(alpha*C[D[e]],T)\n",
    "            for i in range(n):\n",
    "                C[i] =  X[i] + np.random.laplace(scale = count*T/eps)\n",
    "            e,_,_ = loss_bias_error(r_k,B,n)\n",
    "            if e<opt:\n",
    "                opt_X = x\n",
    "                opt_count = k\n",
    "                opt = e\n",
    "        print(opt_X,e)\n",
    "    return opt_X,opt_count,opt\n",
    "            \n",
    "    \n",
    "\n",
    "phi = 1.618\n",
    "        \n",
    "\n",
    "def plot_clipping_err(G, Alpha, count = 40, choose_X = False, extract=False,N=1000,eps=1):\n",
    "    bias_th = 1\n",
    "    if choose_X:\n",
    "        Deg_G = deg_list(G)\n",
    "        maxDeg,x,Number,d = find_X(Deg_G)\n",
    "        Y = max(Number,np.sqrt(maxDeg*d))\n",
    "    if extract:\n",
    "        n=2*N\n",
    "        while n>1.2*N:\n",
    "            L = extract_subgraph2(G,N)\n",
    "            G1 = G.GetSubGraph(L)\n",
    "            n = len(list(G1.Nodes()))\n",
    "    else:\n",
    "        G1=G\n",
    "        n = len(list(G1.Nodes()))\n",
    "    n = len(list(G1.Nodes()))\n",
    "\n",
    "    E1 = [0]*len(Alpha)           \n",
    "    B1 = [0]*len(Alpha)\n",
    "    B2 = [0]*len(Alpha)\n",
    "    B3 = [0]*len(Alpha)\n",
    "    R1 = [0]*len(Alpha)\n",
    "    R2 = [0]*len(Alpha)\n",
    "    S = [0]*len(Alpha)\n",
    "    avg = [0]*len(Alpha)\n",
    "    max_k = [0]*len(Alpha)\n",
    "    L,D = node_convertor(G1)\n",
    "    #A = matrix_convertor(G1,D)\n",
    "    #r_k = katz_matrix(A,alpha)\n",
    "    for i in range(len(Alpha)):\n",
    "        alpha = Alpha[i]\n",
    "        if not(choose_X):\n",
    "            x = 0.85/alpha\n",
    "        r_k = katz_by_graph_exploration(G1,D,L,alpha,count,n)\n",
    "        for r in range(n):\n",
    "            r_k[r] = max(r_k[r],1e-5)\n",
    "        n_k1 = katz_by_clipping_noise(G1,D,L,x,alpha,count,n,eps)\n",
    "        e1,b1,r1 = loss_bias_error(r_k,n_k1,n)\n",
    "        \n",
    "        if choose_X and alpha*phi*Y<1:\n",
    "            bias_th = alpha**2*phi*Y*(maxDeg-X)/(1-alpha*phi*Y)\n",
    "        E1[i] = np.sqrt(e1) \n",
    "        B1[i] = b1\n",
    "        B2[i] = bias_th\n",
    "        B3[i] = max(r_k-n_k1)\n",
    "        R1[i] = r1\n",
    "        R2[i] = max((r_k-n_k1)/r_k)\n",
    "        avg[i] = np.mean(r_k)\n",
    "        max_k[i] = max(r_k)\n",
    "        S[i] = alpha/(1-alpha*x)\n",
    "\n",
    "\n",
    "    if False:\n",
    "        _, ax = plt.subplots()\n",
    "        ax.set_yscale('log')\n",
    "        plt.plot(Alpha,E1,label = 'loss')\n",
    "        plt.legend(loc = 'upper right')\n",
    "        plt.show()\n",
    "\n",
    "        plt.clf()\n",
    "    \n",
    "    if True:\n",
    "        \n",
    "        _, ax = plt.subplots()\n",
    "        ax.set_yscale('log')\n",
    "        plt.plot(Alpha,R2,label = 'max_relative_err')\n",
    "        plt.plot(Alpha,R1,label = 'avg_relative_err')\n",
    "        plt.legend(loc = 'lower right')\n",
    "        plt.show()\n",
    "        plt.clf()\n",
    "    \n",
    "    if True:\n",
    "        _, ax = plt.subplots()\n",
    "        ax.set_yscale('log')\n",
    "        if choose_X:\n",
    "            plt.plot(Alpha,B2,label = 'th')\n",
    "        plt.plot(Alpha,E1,label = 'loss')\n",
    "        plt.plot(Alpha,max_k,label = 'max_katz_value')\n",
    "        #plt.plot(Alpha,avg,label=  'avg_katz_value')\n",
    "        plt.plot(Alpha,B3,label = 'bias_max')\n",
    "        plt.plot(Alpha,B1,label = 'bias_avg')\n",
    "        plt.plot(Alpha,S,label = \"sensitivity\")\n",
    "        plt.legend(loc = 'upper left')\n",
    "        plt.show()\n",
    "        plt.clf()\n",
    "        \n",
    "    if False:\n",
    "        _, ax = plt.subplots()\n",
    "        ax.set_yscale('log')\n",
    "        H = [B3[i]/max_k[i] for i in range(len(Alpha))]\n",
    "        plt.plot(Alpha,H)\n",
    "        plt.show()\n",
    "        plt.clf()\n",
    "        \n",
    "def plot_clipping_err_local(G, Alpha, count = 40, eps = 1,choose_X = False, extract=False,N=1000):\n",
    "    bias_th = 1\n",
    "    s = 1\n",
    "    if choose_X:\n",
    "        Deg_G = deg_list(G)\n",
    "        maxDeg,x,Number,d = find_X(Deg_G)\n",
    "        gamma = max(1/eps,Number)\n",
    "        l = max(x,np.sqrt(maxDeg*d),np.sqrt(Number*d))\n",
    "        R = max(x,Number,np.sqrt(d*maxDeg))\n",
    "    if extract:\n",
    "        n=2*N\n",
    "        while n>1.2*N:\n",
    "            L = extract_subgraph2(G,N)\n",
    "            G1 = G.GetSubGraph(L)\n",
    "            n = len(list(G1.Nodes()))\n",
    "    else:\n",
    "        G1=G\n",
    "        n = len(list(G1.Nodes()))\n",
    "    n = len(list(G1.Nodes()))\n",
    "\n",
    "    E1 = [0]*len(Alpha)           \n",
    "    B1 = [0]*len(Alpha)\n",
    "    B2 = [0]*len(Alpha)\n",
    "    B3 = [0]*len(Alpha)\n",
    "    R1 = [0]*len(Alpha)\n",
    "    R2 = [0]*len(Alpha)\n",
    "    S = [0]*len(Alpha)\n",
    "    avg = [0]*len(Alpha)\n",
    "    max_k = [0]*len(Alpha)\n",
    "    L,D = node_convertor(G1)\n",
    "    #A = matrix_convertor(G1,D)\n",
    "    #r_k = katz_matrix(A,alpha)\n",
    "    for i in range(len(Alpha)):\n",
    "        alpha = Alpha[i]\n",
    "        if not(choose_X):\n",
    "            x = 0.85/alpha\n",
    "        r_k = katz_by_graph_exploration(G1,D,L,alpha,count,n)\n",
    "        for r in range(n):\n",
    "            r_k[r] = max(r_k[r],1e-5)\n",
    "        n_k1 = katz_clipping_local(G1,D,L,x,alpha,40,n,eps)\n",
    "        e1,b1,r1 = loss_bias_error(r_k,n_k1,n)\n",
    "        \n",
    "        if choose_X and alpha*3*R<1:\n",
    "            bias_th = alpha**2*gamma*maxDeg/(1-alpha*3*R)\n",
    "        if choose_X and np.sqrt(5)*alpha*l<1:\n",
    "            s = alpha*count/(1-np.sqrt(5)*alpha*l)\n",
    "        E1[i] = e1 \n",
    "        B1[i] = b1\n",
    "        B2[i] = bias_th\n",
    "        B3[i] = max(r_k-n_k1)\n",
    "        R1[i] = r1\n",
    "        R2[i] = max((r_k-n_k1)/r_k)\n",
    "        avg[i] = np.mean(r_k)\n",
    "        max_k[i] = max(r_k)\n",
    "        S[i] = s\n",
    "\n",
    "\n",
    "    if False:\n",
    "        _, ax = plt.subplots()\n",
    "        ax.set_yscale('log')\n",
    "        plt.plot(Alpha,E1,label = 'loss')\n",
    "        plt.legend(loc = 'upper right')\n",
    "        plt.show()\n",
    "\n",
    "        plt.clf()\n",
    "    \n",
    "    if True:\n",
    "        \n",
    "        _, ax = plt.subplots()\n",
    "        ax.set_yscale('log')\n",
    "        plt.plot(Alpha,R2,label = 'max_relative_err')\n",
    "        plt.plot(Alpha,R1,label = 'avg_relative_err')\n",
    "        plt.legend(loc = 'lower right')\n",
    "        plt.show()\n",
    "        plt.clf()\n",
    "    \n",
    "    if True:\n",
    "        _, ax = plt.subplots()\n",
    "        ax.set_yscale('log')\n",
    "        if choose_X:\n",
    "            plt.plot(Alpha,B2,label = 'th')\n",
    "        plt.plot(Alpha,max_k,label = 'max_katz_value')\n",
    "        #plt.plot(Alpha,avg,label=  'avg_katz_value')\n",
    "        plt.plot(Alpha,B3,label = 'bias_max')\n",
    "        #plt.plot(Alpha,B1,label = 'bias_avg')\n",
    "        plt.plot(Alpha,S,label = \"sensitivity\")\n",
    "        plt.legend(loc = 'lower right')\n",
    "        plt.show()\n",
    "        plt.clf()\n",
    "        \n",
    "    if False:\n",
    "        _, ax = plt.subplots()\n",
    "        ax.set_yscale('log')\n",
    "        H = [B3[i]/max_k[i] for i in range(len(Alpha))]\n",
    "        plt.plot(Alpha,H)\n",
    "        plt.show()\n",
    "        plt.clf()\n",
    "    \n",
    "    \n",
    "def nb_neig(G,D,L,alpha,n):\n",
    "    N = np.zeros(n)\n",
    "    \n",
    "    for i in range(n):\n",
    "        N[i] = alpha*G.GetNI(L[i]).GetDeg()\n",
    "    \n",
    "    return N\n",
    "\n",
    "\n",
    "def katz_local_estimator(G,D,L,alpha,count,eps,n):\n",
    "    B = np.zeros(n)\n",
    "    C = np.ones(n)\n",
    "    X = np.zeros(n)\n",
    "\n",
    "    for k in range(count):\n",
    "        for i in range(n):\n",
    "            X[i]=0     \n",
    "        for i in range(n):\n",
    "            for e in G.GetNI(L[i]).GetOutEdges():\n",
    "                B[i]+=alpha*C[D[e]]\n",
    "                X[i]+=alpha*C[D[e]]\n",
    "        m = max(C)*alpha\n",
    "        for i in range(n):\n",
    "            C[i] = X[i] + np.random.laplace(scale = count*m/eps)\n",
    "    return B\n",
    "\n",
    "def katz_local_estimator2(G,D,L,alpha,count,eps,n):\n",
    "    B = np.zeros(n)\n",
    "    C = np.ones(n)\n",
    "    X = np.zeros(n)\n",
    "    \n",
    "    S = 0\n",
    "    for k in range(count):\n",
    "        S+=1/0.85**(count-1-k)\n",
    "    #print(S)\n",
    "    K = 0\n",
    "    for k in range(count):\n",
    "        x = (0.85**(count-1-k))\n",
    "        #print(S*x)\n",
    "        #print(0.85**(k+1))\n",
    "        K+=1/(S*x)\n",
    "        for i in range(n):\n",
    "            X[i]=0     \n",
    "        for i in range(n):\n",
    "            for e in G.GetNI(L[i]).GetOutEdges():\n",
    "                B[i]+=alpha*C[D[e]]\n",
    "                X[i]+=alpha*C[D[e]]\n",
    "        m = max(C)*alpha\n",
    "        #m = np.mean(C)*alpha\n",
    "        #if (k+1)%10==0:\n",
    "        #    print(B[0:5])\n",
    "        for i in range(n):\n",
    "            C[i]= X[i] + np.random.laplace(scale = (k+1)*np.log(count)*m/eps)\n",
    "    #print(K)\n",
    "    return B\n",
    "\n",
    "def eig_max_avg(G,A):\n",
    "    n,_ = A.shape\n",
    "    v,_ = lg.eig(A)\n",
    "    V = []\n",
    "    for i in range(n):\n",
    "        V.append(v[i])\n",
    "        V.sort()\n",
    "    eig = 1/abs(V[-1])\n",
    "    m = 0 \n",
    "    for e in G.Nodes():\n",
    "        x = e.GetDeg()\n",
    "        if x>m:\n",
    "            m=x\n",
    "    m = 1/m\n",
    "    avg = n/(G.GetEdges()*2)\n",
    "    return eig,m,avg\n",
    "\n",
    "def classement(R,nb):\n",
    "    X = copy.deepcopy(R)\n",
    "    C = np.zeros(nb)\n",
    "    for i in range(nb):\n",
    "        j = np.argmax(X)\n",
    "        X[j]=0\n",
    "        C[i]=j\n",
    "    return C"
   ]
  },
  {
   "cell_type": "code",
   "execution_count": 12,
   "metadata": {},
   "outputs": [
    {
     "data": {
      "image/png": "[encoded data removed]",
      "text/plain": [
       "<Figure size 432x288 with 1 Axes>"
      ]
     },
     "metadata": {
      "needs_background": "light"
     },
     "output_type": "display_data"
    },
    {
     "data": {
      "image/png": "[encoded data removed]",
      "text/plain": [
       "<Figure size 432x288 with 1 Axes>"
      ]
     },
     "metadata": {
      "needs_background": "light"
     },
     "output_type": "display_data"
    },
    {
     "data": {
      "image/png": "[encoded data removed]",
      "text/plain": [
       "<Figure size 432x288 with 1 Axes>"
      ]
     },
     "metadata": {
      "needs_background": "light"
     },
     "output_type": "display_data"
    },
    {
     "name": "stdout",
     "output_type": "stream",
     "text": [
      "1 1167\n"
     ]
    }
   ],
   "source": [
    "def deg_list(G):\n",
    "    L = []\n",
    "    for N in G.Nodes():\n",
    "        L.append(N.GetDeg())\n",
    "    L.sort()\n",
    "    return L\n",
    "\n",
    "def find_N(L,d):\n",
    "    a = 0\n",
    "    b = len(L)\n",
    "    while True:\n",
    "        N = (a+b)//2\n",
    "        if L[N]<=d and L[N+1]>d:\n",
    "            return len(L)-N+1\n",
    "        elif L[N]>d:\n",
    "            b = N-1\n",
    "        else: a = N+1\n",
    "\n",
    "            \n",
    "def find_N_d(L,X):\n",
    "    D = L[-1]\n",
    "    d = 0\n",
    "    N = 0\n",
    "    score = np.inf\n",
    "    while d<len(L):\n",
    "        d+=1\n",
    "        N = find_N(L,d)\n",
    "        s = N*X + d*D\n",
    "        if s > score:\n",
    "            d = d-1\n",
    "            N = find_N(L,d)\n",
    "            return d,N,score\n",
    "        score = s\n",
    "\n",
    "def find_X(L):\n",
    "    D = L[-1]\n",
    "    for X in range(D):\n",
    "        d,N,score = find_N_d(L,X)\n",
    "        if score<=X*X:\n",
    "            return D,X,N,d\n",
    "        \n",
    "def find_Nd(L):\n",
    "        d,N,_ = find_N_d(L,1,1)\n",
    "        return d,N\n",
    "    \n",
    "G5 = snap.LoadEdgeList(snap.TUNGraph, \"facebook_combined.txt\", 0, 1)\n",
    "#G1 = snap.GenRMat(4039, 88234, 0.6, 0.1, 0.15)\n",
    "G1 = snap.LoadEdgeList(snap.TUNGraph, \"lastfm4.txt\", 0, 1)\n",
    "N_G = G5.GetNodes()\n",
    "n = N_G\n",
    "v5 = 0.006158623641304036\n",
    "alpha5 = 0.85*v5\n",
    "Deg5 = np.array(deg_list(G5))\n",
    "Deg1 = np.array(deg_list(G1))\n",
    "X5 = [i for i in range(N_G)]\n",
    "N_1 = len(Deg1)\n",
    "X1 = [i for i in range(N_1)]\n",
    "_, ax = plt.subplots()\n",
    "ax.set_yscale('log')\n",
    "plt.plot(X5,Deg5,color = 'orange')\n",
    "plt.show()\n",
    "_, ax = plt.subplots()\n",
    "ax.set_yscale('log')\n",
    "plt.plot(X1,Deg1)\n",
    "plt.show()\n",
    "L5,D5 = [i for i in range(N_G)],[i for i in range(N_G)]\n",
    "L1,D1 = [i for i in range(N_1)],[i for i in range(N_1)]\n",
    "G3 = snap.LoadEdgeList(snap.TNGraph, \"Wiki-Vote.txt\", 0, 1)\n",
    "Deg3 = np.array(deg_list(G3))\n",
    "v3 = 0.022150996701210627\n",
    "alpha3 = 0.85*v3\n",
    "N_3 = len(deg_list(G3))\n",
    "X3 = [i for i in range(N_3)]\n",
    "_, ax = plt.subplots()\n",
    "ax.set_yscale('log')\n",
    "plt.plot(X3,Deg3,color = 'orange')\n",
    "plt.show()\n",
    "L3,D3 = node_convertor(G3)\n",
    "print(min(Deg3),max(Deg3))"
   ]
  },
  {
   "cell_type": "code",
   "execution_count": 13,
   "metadata": {},
   "outputs": [],
   "source": [
    "def create_copy(G,t):\n",
    "    if t=='TUN':\n",
    "        Gp = snap.TUNGraph.New()\n",
    "    if t=='TN':\n",
    "        Gp = snap.TNGraph.New()\n",
    "    for NI in G.Nodes():\n",
    "        Gp.AddNode(NI.GetId())\n",
    "    for EI in G.Edges():\n",
    "        Gp.AddEdge(EI.GetSrcNId(), EI.GetDstNId())\n",
    "    return Gp\n",
    "\n",
    "def create_random_TN(G,eps=1):\n",
    "    p = 1/(1+np.exp(eps))\n",
    "    Gp = snap.TNGraph.New()\n",
    "    for NI in G.Nodes():\n",
    "        Gp.AddNode(NI.GetId())\n",
    "    for NI in G.Nodes():\n",
    "        for N2 in G.Nodes():\n",
    "            if rd.random()<p:\n",
    "                Gp.AddEdge(NI.GetId(),N2.GetId())\n",
    "    for EI in G.Edges():\n",
    "        Gp.AddEdge(EI.GetSrcNId(), EI.GetDstNId())\n",
    "        if rd.random()<p:\n",
    "            Gp.DelEdge(EI.GetSrcNId(), EI.GetDstNId())\n",
    "    return Gp\n",
    "\n",
    "def create_random_TUN(G,L,eps=1):\n",
    "    p = 1/(1+np.exp(eps))\n",
    "    n = len(list(G.Nodes()))\n",
    "    visited = np.zeros((n,n))\n",
    "    visited2 = np.zeros((n,n))\n",
    "    Gp = snap.TNGraph.New()\n",
    "    for NI in G.Nodes():\n",
    "        Gp.AddNode(NI.GetId())\n",
    "    for NI in G.Nodes():\n",
    "        for N2 in G.Nodes():\n",
    "            if not(visited[L[NI.GetId()],L[N2.GetId()]]):\n",
    "                visited[L[NI.GetId()],L[N2.GetId()]]=1\n",
    "                visited[L[N2.GetId()],L[NI.GetId()]]=1\n",
    "                if rd.random()<p:\n",
    "                    Gp.AddEdge(NI.GetId(),N2.GetId())\n",
    "    for EI in G.Edges():\n",
    "        if not(visited2[L[EI.GetSrcNId()], L[EI.GetDstNId()]]):\n",
    "            visited2[L[EI.GetSrcNId()], L[EI.GetDstNId()]]=1\n",
    "            visited2[L[EI.GetDstNId()], L[EI.GetSrcNId()]]=1\n",
    "            Gp.AddEdge(EI.GetSrcNId(), EI.GetDstNId())\n",
    "            if rd.random()<p:\n",
    "                Gp.DelEdge(EI.GetSrcNId(), EI.GetDstNId())\n",
    "                Gp.DelEdge(EI.GetDstNId(), EI.GetSrcNId())\n",
    "    return Gp\n",
    "\n",
    "#Gp5 = create_random_TUN(G5,1)\n",
    "#print(Gp5.GetEdges())\n",
    "#Gp5 = create_random_TUN(G5,2)\n",
    "#print(Gp5.GetEdges())\n"
   ]
  },
  {
   "cell_type": "code",
   "execution_count": 14,
   "metadata": {},
   "outputs": [
    {
     "data": {
      "text/plain": [
       "400"
      ]
     },
     "execution_count": 14,
     "metadata": {},
     "output_type": "execute_result"
    }
   ],
   "source": [
    "G5b = make_subgraph(G5,400)\n",
    "G5b.GetNodes()"
   ]
  },
  {
   "cell_type": "code",
   "execution_count": 15,
   "metadata": {},
   "outputs": [],
   "source": [
    "def plot_clipping_step(G,D,L,alpha,X,STEP,ite=60,n_big=10,eps=1):\n",
    "    n = len(list(G.Nodes()))\n",
    "    S = len(STEP)\n",
    "    E1 = [0]*S\n",
    "    E2 = [0]*S\n",
    "    B1 = [0]*S\n",
    "    B2 = [0]*S\n",
    "    R1 = [0]*S\n",
    "    R2 = [0]*S\n",
    "    F1 = [0]*S\n",
    "    F2 = [0]*S\n",
    "    r_k = katz_by_graph_exploration(G,D,L,alpha,80,n)\n",
    "    R_K = [(r_k[i],i) for i in range(n)]\n",
    "    R_K = sorted(R_K,key = lambda l : l[0],reverse = True)\n",
    "    M_R = [R_K[i][1] for i in range(n_big)]\n",
    "    for _ in range(ite):\n",
    "        for i in range(S):\n",
    "            f1=0\n",
    "            f2=0\n",
    "        \n",
    "            r_1 = katz_clipping_opt(G,D,L,X,alpha,STEP[i],n,eps)\n",
    "            r_2 = katz_clipping_local(G,D,L,X,alpha,STEP[i],n,eps)\n",
    "        \n",
    "            e1,b1,r1 = loss_bias_error(r_k,r_1,n)\n",
    "            e2,b2,r2 = loss_bias_error(r_k,r_2,n)\n",
    "        \n",
    "            R_1 = [(r_1[i],i) for i in range(len(r_1))]\n",
    "            R_2 = [(r_2[i],i) for i in range(len(r_2))]\n",
    "        \n",
    "            R_1 = sorted(R_1,key=lambda l : l[0],reverse = True)\n",
    "            R_2 = sorted(R_2,key=lambda l : l[0],reverse = True)\n",
    "        \n",
    "            M1 = [R_1[i][1] for i in range(n_big)]\n",
    "            M2 = [R_2[i][1] for i in range(n_big)]\n",
    "        \n",
    "            for m in M_R:\n",
    "                if m in M1:\n",
    "                    f1+=1\n",
    "                if m in M2:\n",
    "                    f2+=1\n",
    "        \n",
    "            E1[i]+=e1/ite\n",
    "            E2[i]+=e2/ite\n",
    "            B1[i]+=b1/ite\n",
    "            B2[i]+=b2/ite\n",
    "            R1[i]+=r1/ite\n",
    "            R2[i]+=r2/ite\n",
    "            F1[i]+=f1/(n_big*ite)\n",
    "            F2[i]+=f2/(n_big*ite)\n",
    "        \n",
    "    , ax = plt.subplots()\n",
    "    ax.set_yscale('log')\n",
    "    plt.plot(STEP,E1,label = 'loss_opt')\n",
    "    plt.plot(STEP,E2,label = 'loss_local')\n",
    "    plt.plot(STEP,B1,label = \"bias_opt\")\n",
    "    plt.plot(STEP,B2,label = \"bias_local\")\n",
    "    plt.legend(loc = 'upper right')\n",
    "    plt.show()\n",
    "    plt.clf()\n",
    "\n",
    "    if False:\n",
    "\n",
    "        , ax = plt.subplots()\n",
    "        ax.set_yscale('log')\n",
    "        plt.plot(X,R1,label = 'err_opt')\n",
    "        plt.plot(X,R2,label = 'err_local')\n",
    "        plt.legend(loc = 'lower right')\n",
    "        plt.show()\n",
    "        plt.clf()\n",
    "    \n",
    "    , ax = plt.subplots()\n",
    "    ax.set_yscale('log')\n",
    "    plt.plot(STEP,F1,label = 'freq_opt')\n",
    "    plt.plot(STEP,F2,label = 'freq_local')\n",
    "    plt.legend(loc = 'lower right')\n",
    "    plt.show()\n",
    "    plt.clf()\n",
    "    \n",
    "def plot_clipping_X(G,D,L,alpha,X,STEP,ite=60,n_big=10,eps=1):\n",
    "    n = len(list(G.Nodes()))\n",
    "    S = len(X)\n",
    "    E1 = [0]*S\n",
    "    E2 = [0]*S\n",
    "    B1 = [0]*S\n",
    "    B2 = [0]*S\n",
    "    R1 = [0]*S\n",
    "    R2 = [0]*S\n",
    "    F1 = [0]*S\n",
    "    F2 = [0]*S\n",
    "    r_k = katz_by_graph_exploration(G,D,L,alpha,80,n)\n",
    "    R_K = [(r_k[i],i) for i in range(n)]\n",
    "    R_K = sorted(R_K,key = lambda l : l[0],reverse = True)\n",
    "    M_R = [R_K[i][1] for i in range(n_big)]\n",
    "    for _ in range(ite):\n",
    "        for i in range(S):\n",
    "            f1=0\n",
    "            f2=0\n",
    "        \n",
    "            r_1 = katz_clipping_opt(G,D,L,X[i],alpha,STEP,n,eps)\n",
    "            r_2 = katz_clipping_local(G,D,L,X[i],alpha,STEP,n,eps)\n",
    "        \n",
    "            e1,b1,r1 = loss_bias_error(r_k,r_1,n)\n",
    "            e2,b2,r2 = loss_bias_error(r_k,r_2,n)\n",
    "        \n",
    "            R_1 = [(r_1[i],i) for i in range(len(r_1))]\n",
    "            R_2 = [(r_2[i],i) for i in range(len(r_2))]\n",
    "        \n",
    "            R_1 = sorted(R_1,key=lambda l : l[0],reverse = True)\n",
    "            R_2 = sorted(R_2,key=lambda l : l[0],reverse = True)\n",
    "        \n",
    "            M1 = [R_1[i][1] for i in range(n_big)]\n",
    "            M2 = [R_2[i][1] for i in range(n_big)]\n",
    "        \n",
    "            for m in M_R:\n",
    "                if m in M1:\n",
    "                    f1+=1\n",
    "                if m in M2:\n",
    "                    f2+=1\n",
    "        \n",
    "            E1[i]+=e1/ite\n",
    "            E2[i]+=e2/ite\n",
    "            B1[i]+=b1/ite\n",
    "            B2[i]+=b2/ite\n",
    "            R1[i]+=r1/ite\n",
    "            R2[i]+=r2/ite\n",
    "            F1[i]+=f1/(n_big*ite)\n",
    "            F2[i]+=f2/(n_big*ite)\n",
    "        \n",
    "    , ax = plt.subplots()\n",
    "    ax.set_yscale('log')\n",
    "    plt.plot(X,E1,label = 'loss_opt')\n",
    "    plt.plot(X,E2,label = 'loss_local')\n",
    "    plt.plot(X,B1,label = \"bias_opt\")\n",
    "    plt.plot(X,B2,label = \"bias_local\")\n",
    "    plt.legend(loc = 'upper right')\n",
    "    plt.show()\n",
    "    plt.clf()\n",
    "    \n",
    "    if False:\n",
    "\n",
    "        , ax = plt.subplots()\n",
    "        ax.set_yscale('log')\n",
    "        plt.plot(X,R1,label = 'err_opt')\n",
    "        plt.plot(X,R2,label = 'err_local')\n",
    "        plt.legend(loc = 'lower right')\n",
    "        plt.show()\n",
    "        plt.clf()\n",
    "    \n",
    "    , ax = plt.subplots()\n",
    "    ax.set_yscale('log')\n",
    "    plt.plot(X,F1,label = 'freq_opt')\n",
    "    plt.plot(X,F2,label = 'freq_local')\n",
    "    plt.legend(loc = 'lower right')\n",
    "    plt.show()\n",
    "    plt.clf()"
   ]
  },
  {
   "cell_type": "code",
   "execution_count": 16,
   "metadata": {},
   "outputs": [],
   "source": [
    "def plot_path(G,D,L,X,STEP,ite=10,eps=1):\n",
    "    n = len(list(G.Nodes()))\n",
    "    S = len(STEP)\n",
    "    STORE1 = np.zeros((S,n,ite))\n",
    "    L1 = [0]*S\n",
    "    L2 = [0]*S\n",
    "    for i in trange(S):\n",
    "        p_k = count_path(G,D,L,STEP[i],n)\n",
    "        for j in range(ite):\n",
    "            p_1 = count_path_clipping(G,D,L,X,STEP[i],n,eps)\n",
    "            p_2 = count_path_noise(G,D,L,STEP[i],n,eps)\n",
    "            \n",
    "            for k in range(n):\n",
    "                STORE1[i,k,j]=p_1[k]\n",
    "                \n",
    "            l1,_,_ = loss_bias_error(p_k,p_1,n)\n",
    "            l2,_,_ = loss_bias_error(p_k,p_2,n)\n",
    "            \n",
    "            L1[i]+=l1/ite\n",
    "            L2[i]+=l2/ite\n",
    "    \n",
    "    var1 = [0]*S\n",
    "    for i in range(S):\n",
    "        for k in range(n):\n",
    "            var1[i]+=np.var(STORE1[i,k,:])/n\n",
    "\n",
    "    B = [L1[i]-var1[i] for i in range(S)]\n",
    "    \n",
    "            \n",
    "    #plt.plot(STEP,B,color='g')\n",
    "    plt.plot(STEP,L1,'--s',color='b',label='loss_clipping')\n",
    "    #plt.plot(STEP,var1,'--o',color='b',label='var_clipping')\n",
    "    plt.plot(STEP,L2,'--s',color='orange',label='loss_no_clippping')\n",
    "    #plt.plot(STEP,var2,'--o',color='orange',label='var_no_clipping')\n",
    "    plt.yscale('log')\n",
    "    plt.xlabel('Number of steps (S)')\n",
    "    plt.ylabel('Loss')\n",
    "    #plt.xticks(STEP)\n",
    "    plt.legend(loc=\"upper left\")\n",
    "    #plt.show()\n",
    "    plt.savefig(\"path10_facebook.png\",dpi=300)\n",
    "    return L1,L2"
   ]
  },
  {
   "cell_type": "code",
   "execution_count": 17,
   "metadata": {},
   "outputs": [
    {
     "data": {
      "text/plain": [
       "401"
      ]
     },
     "execution_count": 17,
     "metadata": {},
     "output_type": "execute_result"
    }
   ],
   "source": [
    "G5b = make_subgraph2(G5,400)\n",
    "G5b.GetNodes()"
   ]
  },
  {
   "cell_type": "code",
   "execution_count": 19,
   "metadata": {},
   "outputs": [],
   "source": [
    "def plot_size(G,SIZE,alpha,X,EPS,graph_type='TUN',ite=10,n_big=10):\n",
    "    n = len(list(G.Nodes()))\n",
    "    S = len(SIZE)\n",
    "    print(EPS)\n",
    "    store1 = np.zeros((S,ite))\n",
    "    store2 = np.zeros((S,ite))\n",
    "    store3 = np.zeros((S,ite))\n",
    "    store4 = np.zeros((S,ite))\n",
    "    VAR1 = [0]*S\n",
    "    VAR2 = [0]*S\n",
    "    \n",
    "    F1 = [0]*S\n",
    "    F2 = [0]*S\n",
    "    F3 = [0]*S\n",
    "    F4 = [0]*S\n",
    "    L1 = [0]*S\n",
    "    L2 = [0]*S\n",
    "    E1 = [0]*S\n",
    "    E2 = [0]*S\n",
    "    #F3 = [0]*S\n",
    "    #F4 = [0]*S\n",
    "    #F5 = [0]*S\n",
    "\n",
    "    \n",
    "    for i in trange(S):\n",
    "        \n",
    "        n = SIZE[i]         \n",
    "        \n",
    "        STORE1 = np.zeros((n,ite))\n",
    "        STORE2 = np.zeros((n,ite))\n",
    "        \n",
    "        \n",
    "        for j in trange(ite):\n",
    "            \n",
    "            G1 = make_subgraph2(G,n)\n",
    "            N = len(list(G1.Nodes()))\n",
    "            L,D = node_convertor(G1)\n",
    "        \n",
    "            r_k = katz_by_graph_exploration(G1,D,L,alpha,80,N)\n",
    "            R_K = [(r_k[i],i) for i in range(N)]\n",
    "            R_K = sorted(R_K,key = lambda l : l[0],reverse = True)\n",
    "            M_R = [R_K[i][1] for i in range(n_big)]\n",
    "            M_100 = [R_K[i][1] for i in range(100)]\n",
    "                \n",
    "            f1=0\n",
    "            f2=0\n",
    "            f3=0\n",
    "            f4=0\n",
    "            #f5=0\n",
    "            \n",
    "            r_1 = katz_clipping_opt(G1,D,L,X,alpha,10,N,EPS)\n",
    "            \n",
    "            if graph_type=='TUN':\n",
    "                Gp = create_random_TUN(G1,D,EPS)\n",
    "            if graph_type=='TN':\n",
    "                Gp = create_random_TN(G1,EPS)\n",
    "            r_2 = katz_by_graph_exploration(Gp,D,L,alpha,40,N)\n",
    "            \n",
    "            #r_2 = katz_clipping_opt(G,D,L,np.inf,alpha,1,n,EPS[i])\n",
    "            \n",
    "            for k in range(n):\n",
    "                STORE1[k,j]=r_1[k]\n",
    "                STORE2[k,j]=r_2[k]\n",
    "            \n",
    "            \n",
    "            l1,_,e1 = loss_bias_error(r_k,r_1,n)\n",
    "            l2,_,e2 = loss_bias_error(r_k,r_2,n)\n",
    "            \n",
    "            \n",
    "            #r_3 = katz_by_clipping_noise(G,D,L,X,alpha,STEP[i],i,n_big*eps)\n",
    "        \n",
    "            R_1 = [(r_1[i],i) for i in range(len(r_1))]\n",
    "            R_2 = [(r_2[i],i) for i in range(len(r_2))]\n",
    "            #R_3 = [(r_3[i],i) for i in range(len(r_3))]\n",
    "        \n",
    "            R_1 = sorted(R_1,key=lambda l : l[0],reverse = True)\n",
    "            R_2 = sorted(R_2,key=lambda l : l[0],reverse = True)\n",
    "            #R_3 = sorted(R_3,key=lambda l : l[0],reverse = True)\n",
    "        \n",
    "            M1 = [R_1[i][1] for i in range(n_big)]\n",
    "            M2 = [R_1[i][1] for i in range(100)]\n",
    "            M3 = [R_2[i][1] for i in range(n_big)]\n",
    "            M4 = [R_2[i][1] for i in range(100)]\n",
    "            \n",
    "            \n",
    "        \n",
    "            for m in M_R:\n",
    "                if m in M1:\n",
    "                    f1+=0.1\n",
    "                if m in M3:\n",
    "                    f3+=0.1\n",
    "            for m in M_100:\n",
    "                if m in M2:\n",
    "                    f2+=0.01\n",
    "                if m in M4:\n",
    "                    f4+=0.01\n",
    "        \n",
    "            F1[i]+=f1/ite\n",
    "            F2[i]+=f2/ite\n",
    "            F3[i]+=f3/ite\n",
    "            F4[i]+=f4/ite\n",
    "            L1[i]+=l1/ite\n",
    "            L2[i]+=l2/ite\n",
    "            E1[i]+=e1/ite\n",
    "            E2[i]+=e2/ite\n",
    "            \n",
    "            store1[i,j] = f1\n",
    "            store2[i,j] = f2\n",
    "            store3[i,j] = f3\n",
    "            store4[i,j] = f4\n",
    "            \n",
    "        for k in range(n):\n",
    "            VAR1[i]+=np.var(STORE1[k,:])/n\n",
    "            VAR2[i]+=np.var(STORE2[k,:])/n\n",
    "        \n",
    "            \n",
    "    var1 = []\n",
    "    var2 = []\n",
    "    var3 = []\n",
    "    var4 = []\n",
    "    for i in range(S):\n",
    "        var1.append(np.sqrt(np.var(store1[i,:])/ite))\n",
    "        var2.append(np.sqrt(np.var(store2[i,:])/ite))\n",
    "        var3.append(np.sqrt(np.var(store3[i,:])/ite))\n",
    "        var4.append(np.sqrt(np.var(store4[i,:])/ite))\n",
    "    \n",
    "    , ax = plt.subplots()\n",
    "    plt.plot(SIZE,F1,'s',color='b',label = 'top10_clipping',linestyle='dashed')\n",
    "    plt.errorbar(SIZE,F1,var1,capsize=10, fmt='s', ecolor='black', markeredgecolor = \"b\", color='b')\n",
    "    plt.plot(SIZE,F2,'s',color='orange',label = 'top100_clipping',linestyle='dashed')\n",
    "    plt.errorbar(SIZE,F2,var2,capsize=10, fmt='s', ecolor='black', markeredgecolor = \"orange\", color='orange')\n",
    "    plt.plot(SIZE,F3,'o',color='b',label = 'top10_randomized',linestyle='dashed')\n",
    "    plt.errorbar(SIZE,F3,var3,capsize=10, fmt='o', ecolor='black', markeredgecolor = \"b\", color='b')\n",
    "    plt.plot(SIZE,F4,'o',color='orange',label = 'top100_randomized',linestyle='dashed')\n",
    "    plt.errorbar(SIZE,F4,var4,capsize=10, fmt='o', ecolor='black', markeredgecolor = \"orange\", color='orange')\n",
    "    #plt.plot(STEP,F3,label = 'exp2')\n",
    "    #plt.plot(STEP,F5,label = 'freq_global')\n",
    "    plt.xlabel('Number of Nodes')\n",
    "    plt.ylabel('Frequency of detection of top k nodes')\n",
    "    plt.legend(loc = 'lower left',ncol=2)\n",
    "    #plt.show()\n",
    "    plt.savefig(\"detection_facebook_by_nodes.png\",dpi=300)\n",
    "    plt.clf()\n",
    "    \n",
    "    , ax = plt.subplots()\n",
    "    plt.plot(SIZE,L1,'--s',label = 'loss_clipping',color='b')\n",
    "    plt.plot(SIZE,VAR1,'--o',label = 'var_clipping',color='b')\n",
    "    plt.plot(SIZE,L2,'--s',label = 'loss_randomized',color='orange')\n",
    "    plt.plot(SIZE,VAR2,'--o',label = 'var_randomized',color='orange')\n",
    "    plt.xlabel('Number of Nodes')\n",
    "    plt.ylabel('Loss and Variance')\n",
    "    plt.yscale('log')\n",
    "    #plt.xticks(STEP)\n",
    "    plt.legend(loc = 'upper left',ncol=2)\n",
    "    #plt.show()\n",
    "    plt.savefig(\"loss_facebook_by_nodes.png\",dpi=300)\n",
    "    plt.clf()\n",
    "    \n",
    "    #, ax = plt.subplots()\n",
    "    #plt.plot(STEP,E1,'--s',label = 'error_clipping')\n",
    "    #plt.plot(STEP,E2,'--s',label = 'error_no_clipping')\n",
    "    #plt.legend(loc = 'upper left')\n",
    "    #plt.show()\n",
    "    #plt.clf()\n",
    "    \n",
    "    return F1,F2,F3,F4\n",
    "\n",
    "def plot_radomized_step(G,D,L,alpha,X,STEP,graph_type='TUN',ite=60,n_big=10,eps=1):\n",
    "    n = len(list(G.Nodes()))\n",
    "    S = len(STEP)\n",
    "    store1 = np.zeros((S,ite))\n",
    "    store2 = np.zeros((S,ite))\n",
    "    store3 = np.zeros((S,ite))\n",
    "    store4 = np.zeros((S,ite))\n",
    "    STORE1 = np.zeros((S,n,ite))\n",
    "    STORE2 = np.zeros((S,n,ite))\n",
    "    \n",
    "    F1 = [0]*S\n",
    "    F2 = [0]*S\n",
    "    F3 = [0]*S\n",
    "    F4 = [0]*S\n",
    "    L1 = [0]*S\n",
    "    L2 = [0]*S\n",
    "    E1 = [0]*S\n",
    "    E2 = [0]*S\n",
    "    #F3 = [0]*S\n",
    "    #F4 = [0]*S\n",
    "    #F5 = [0]*S\n",
    "    \n",
    "    r_k = katz_by_graph_exploration(G,D,L,alpha,80,n)\n",
    "    R_K = [(r_k[i],i) for i in range(n)]\n",
    "    R_K = sorted(R_K,key = lambda l : l[0],reverse = True)\n",
    "    M_R = [R_K[i][1] for i in range(n_big)]\n",
    "    M_100 = [R_K[i][1] for i in range(100)]\n",
    "    \n",
    "    for j in trange(ite):\n",
    "        for i in range(S):\n",
    "            f1=0\n",
    "            f2=0\n",
    "            f3=0\n",
    "            f4=0\n",
    "            #f5=0\n",
    "        \n",
    "            r_1 = katz_clipping_opt(G,D,L,X,alpha,STEP[i],n,eps)\n",
    "            \n",
    "            if graph_type=='TUN':\n",
    "                Gp = create_random_TUN(G,D,eps)\n",
    "            if graph_type=='TN':\n",
    "                Gp = create_random_TN(G,eps)\n",
    "            r_2 = katz_by_graph_exploration(Gp,D,L,alpha,STEP[i],n)\n",
    "            \n",
    "            for k in range(n):\n",
    "                STORE1[i,k,j]=r_1[k]\n",
    "                STORE2[i,k,j]=r_2[k]\n",
    "            \n",
    "            \n",
    "            l1,_,e1 = loss_bias_error(r_k,r_1,n)\n",
    "            l2,_,e2 = loss_bias_error(r_k,r_2,n)\n",
    "            \n",
    "            \n",
    "            #r_3 = katz_by_clipping_noise(G,D,L,X,alpha,STEP[i],i,n_big*eps)\n",
    "        \n",
    "            R_1 = [(r_1[i],i) for i in range(len(r_1))]\n",
    "            R_2 = [(r_2[i],i) for i in range(len(r_2))]\n",
    "            #R_3 = [(r_3[i],i) for i in range(len(r_3))]\n",
    "        \n",
    "            R_1 = sorted(R_1,key=lambda l : l[0],reverse = True)\n",
    "            R_2 = sorted(R_2,key=lambda l : l[0],reverse = True)\n",
    "            #R_3 = sorted(R_3,key=lambda l : l[0],reverse = True)\n",
    "        \n",
    "            M1 = [R_1[i][1] for i in range(n_big)]\n",
    "            M2 = [R_1[i][1] for i in range(100)]\n",
    "            M3 = [R_2[i][1] for i in range(n_big)]\n",
    "            M4 = [R_2[i][1] for i in range(100)]\n",
    "            \n",
    "            \n",
    "        \n",
    "            for m in M_R:\n",
    "                if m in M1:\n",
    "                    f1+=0.1\n",
    "                if m in M3:\n",
    "                    f3+=0.1\n",
    "            for m in M_100:\n",
    "                if m in M2:\n",
    "                    f2+=0.01\n",
    "                if m in M4:\n",
    "                    f4+=0.01\n",
    "        \n",
    "            F1[i]+=f1/ite\n",
    "            F2[i]+=f2/ite\n",
    "            F3[i]+=f3/ite\n",
    "            F4[i]+=f4/ite\n",
    "            L1[i]+=l1/ite\n",
    "            L2[i]+=l2/ite\n",
    "            E1[i]+=e1/ite\n",
    "            E2[i]+=e2/ite\n",
    "            \n",
    "            store1[i,j] = f1\n",
    "            store2[i,j] = f2\n",
    "            store3[i,j] = f3\n",
    "            store4[i,j] = f4\n",
    "            \n",
    "    var1 = []\n",
    "    var2 = []\n",
    "    var3 = []\n",
    "    var4 = []\n",
    "    for i in range(S):\n",
    "        var1.append(np.sqrt(np.var(store1[i,:])/ite))\n",
    "        var2.append(np.sqrt(np.var(store2[i,:])/ite))\n",
    "        var3.append(np.sqrt(np.var(store3[i,:])/ite))\n",
    "        var4.append(np.sqrt(np.var(store4[i,:])/ite))\n",
    "        \n",
    "    VAR1 = [0]*S\n",
    "    VAR2 = [0]*S\n",
    "    for i in range(S):\n",
    "        for k in range(n):\n",
    "            VAR1[i]+=np.var(STORE1[i,k,:])/n\n",
    "            VAR2[i]+=np.var(STORE2[i,k,:])/n\n",
    "    \n",
    "    , ax = plt.subplots()\n",
    "    plt.plot(STEP,F1,'s',color='b',label = 'top10_clipping',linestyle='dashed')\n",
    "    plt.errorbar(STEP,F1,var1,capsize=10, fmt='s', ecolor='black', markeredgecolor = \"b\", color='b')\n",
    "    plt.plot(STEP,F2,'s',color='orange',label = 'top100_clipping',linestyle='dashed')\n",
    "    plt.errorbar(STEP,F2,var2,capsize=10, fmt='s', ecolor='black', markeredgecolor = \"orange\", color='orange')\n",
    "    plt.plot(STEP,F3,'o',color='b',label = 'top10_randomized',linestyle='dashed')\n",
    "    plt.errorbar(STEP,F3,var3,capsize=10, fmt='o', ecolor='black', markeredgecolor = \"b\", color='b')\n",
    "    plt.plot(STEP,F4,'o',color='orange',label = 'top100_randomized',linestyle='dashed')\n",
    "    plt.errorbar(STEP,F4,var4,capsize=10, fmt='o', ecolor='black', markeredgecolor = \"orange\", color='orange')\n",
    "    #plt.plot(STEP,F3,label = 'exp2')\n",
    "    #plt.plot(STEP,F5,label = 'freq_global')\n",
    "    plt.xlabel('Number of steps (S)')\n",
    "    plt.ylabel('Frequency of detection of top k nodes')\n",
    "    plt.legend(loc = 'lower left',ncol=2)\n",
    "    #plt.show()\n",
    "    plt.savefig(\"detection_wiki_randomized.png\",dpi=300)\n",
    "    plt.clf()\n",
    "    \n",
    "    , ax = plt.subplots()\n",
    "    plt.plot(STEP,L1,'--s',label = 'loss_clipping',color='b')\n",
    "    plt.plot(STEP,VAR1,'--o',label = 'var_clipping',color='b')\n",
    "    plt.plot(STEP,L2,'--s',label = 'loss_randomized',color='orange')\n",
    "    plt.plot(STEP,VAR2,'--o',label = 'var_randomized',color='orange')\n",
    "    plt.xlabel('Number of steps (S)')\n",
    "    plt.ylabel('Loss and Variance')\n",
    "    plt.yscale('log')\n",
    "    #plt.xticks(STEP)\n",
    "    plt.legend(loc = 'lower right',ncol=2)\n",
    "    #plt.show()\n",
    "    plt.savefig(\"loss_wiki_randomized.png\",dpi=300)\n",
    "    plt.clf()\n",
    "    \n",
    "    , ax = plt.subplots()\n",
    "    plt.plot(STEP,E1,'--s',label = 'error_clipping')\n",
    "    plt.plot(STEP,E2,'--s',label = 'error_no_clipping')\n",
    "    plt.legend(loc = 'upper left')\n",
    "    plt.show()\n",
    "    plt.clf()\n",
    "    \n",
    "    return F1,F2,F3,F4"
   ]
  },
  {
   "cell_type": "code",
   "execution_count": 23,
   "metadata": {},
   "outputs": [
    {
     "name": "stdout",
     "output_type": "stream",
     "text": [
      "2\n"
     ]
    },
    {
     "data": {
      "application/vnd.jupyter.widget-view+json": {
       "model_id": "90825c9db5334cf5924625cd4676edd1",
       "version_major": 2,
       "version_minor": 0
      },
      "text/plain": [
       "HBox(children=(HTML(value=''), FloatProgress(value=0.0, max=5.0), HTML(value='')))"
      ]
     },
     "metadata": {},
     "output_type": "display_data"
    },
    {
     "data": {
      "application/vnd.jupyter.widget-view+json": {
       "model_id": "cf453d6253f54d02b616c693a846839f",
       "version_major": 2,
       "version_minor": 0
      },
      "text/plain": [
       "HBox(children=(HTML(value=''), FloatProgress(value=0.0, max=40.0), HTML(value='')))"
      ]
     },
     "metadata": {},
     "output_type": "display_data"
    },
    {
     "name": "stdout",
     "output_type": "stream",
     "text": [
      "\n"
     ]
    },
    {
     "data": {
      "application/vnd.jupyter.widget-view+json": {
       "model_id": "10a11d9ddd694e4a960943426938c1a5",
       "version_major": 2,
       "version_minor": 0
      },
      "text/plain": [
       "HBox(children=(HTML(value=''), FloatProgress(value=0.0, max=40.0), HTML(value='')))"
      ]
     },
     "metadata": {},
     "output_type": "display_data"
    },
    {
     "name": "stdout",
     "output_type": "stream",
     "text": [
      "\n"
     ]
    },
    {
     "data": {
      "application/vnd.jupyter.widget-view+json": {
       "model_id": "fda0846771bc4bfaa467fd22717a26c8",
       "version_major": 2,
       "version_minor": 0
      },
      "text/plain": [
       "HBox(children=(HTML(value=''), FloatProgress(value=0.0, max=40.0), HTML(value='')))"
      ]
     },
     "metadata": {},
     "output_type": "display_data"
    },
    {
     "name": "stdout",
     "output_type": "stream",
     "text": [
      "\n"
     ]
    },
    {
     "data": {
      "application/vnd.jupyter.widget-view+json": {
       "model_id": "65d0d8d8bad046ca9dc2b0a44f8caeac",
       "version_major": 2,
       "version_minor": 0
      },
      "text/plain": [
       "HBox(children=(HTML(value=''), FloatProgress(value=0.0, max=40.0), HTML(value='')))"
      ]
     },
     "metadata": {},
     "output_type": "display_data"
    },
    {
     "name": "stdout",
     "output_type": "stream",
     "text": [
      "\n"
     ]
    },
    {
     "data": {
      "application/vnd.jupyter.widget-view+json": {
       "model_id": "0f94f8377d524446a423695dea559884",
       "version_major": 2,
       "version_minor": 0
      },
      "text/plain": [
       "HBox(children=(HTML(value=''), FloatProgress(value=0.0, max=40.0), HTML(value='')))"
      ]
     },
     "metadata": {},
     "output_type": "display_data"
    },
    {
     "name": "stdout",
     "output_type": "stream",
     "text": [
      "\n",
      "\n"
     ]
    },
    {
     "data": {
      "text/plain": [
       "<Figure size 432x288 with 0 Axes>"
      ]
     },
     "metadata": {},
     "output_type": "display_data"
    }
   ],
   "source": [
    "SIZE = [800*i for i in range(1,6)]\n",
    "F1,F2,F3,F4 = plot_size(G5,SIZE,alpha5,1/alpha5,2,graph_type='TUN',ite=40,n_big=10)"
   ]
  },
  {
   "cell_type": "code",
   "execution_count": 20,
   "metadata": {},
   "outputs": [
    {
     "name": "stdout",
     "output_type": "stream",
     "text": [
      "2\n"
     ]
    },
    {
     "data": {
      "application/vnd.jupyter.widget-view+json": {
       "model_id": "35464ff84f184ef2875f3d5ee969d0d9",
       "version_major": 2,
       "version_minor": 0
      },
      "text/plain": [
       "HBox(children=(HTML(value=''), FloatProgress(value=0.0, max=5.0), HTML(value='')))"
      ]
     },
     "metadata": {},
     "output_type": "display_data"
    },
    {
     "data": {
      "application/vnd.jupyter.widget-view+json": {
       "model_id": "007fa5988d264ec0b04718654d878463",
       "version_major": 2,
       "version_minor": 0
      },
      "text/plain": [
       "HBox(children=(HTML(value=''), FloatProgress(value=0.0, max=3.0), HTML(value='')))"
      ]
     },
     "metadata": {},
     "output_type": "display_data"
    },
    {
     "name": "stdout",
     "output_type": "stream",
     "text": [
      "\n"
     ]
    },
    {
     "data": {
      "application/vnd.jupyter.widget-view+json": {
       "model_id": "266e237c08344608bf6b3aae4ceacf53",
       "version_major": 2,
       "version_minor": 0
      },
      "text/plain": [
       "HBox(children=(HTML(value=''), FloatProgress(value=0.0, max=3.0), HTML(value='')))"
      ]
     },
     "metadata": {},
     "output_type": "display_data"
    },
    {
     "name": "stdout",
     "output_type": "stream",
     "text": [
      "\n"
     ]
    },
    {
     "data": {
      "application/vnd.jupyter.widget-view+json": {
       "model_id": "656dd5f7068846bfa1cb07f046aeeead",
       "version_major": 2,
       "version_minor": 0
      },
      "text/plain": [
       "HBox(children=(HTML(value=''), FloatProgress(value=0.0, max=3.0), HTML(value='')))"
      ]
     },
     "metadata": {},
     "output_type": "display_data"
    },
    {
     "name": "stdout",
     "output_type": "stream",
     "text": [
      "\n"
     ]
    },
    {
     "data": {
      "application/vnd.jupyter.widget-view+json": {
       "model_id": "98d8ee9423c24be6aaa53753d49e8f50",
       "version_major": 2,
       "version_minor": 0
      },
      "text/plain": [
       "HBox(children=(HTML(value=''), FloatProgress(value=0.0, max=3.0), HTML(value='')))"
      ]
     },
     "metadata": {},
     "output_type": "display_data"
    },
    {
     "name": "stdout",
     "output_type": "stream",
     "text": [
      "\n"
     ]
    },
    {
     "data": {
      "application/vnd.jupyter.widget-view+json": {
       "model_id": "9d2c17ad953244a3ac085d5577f2df42",
       "version_major": 2,
       "version_minor": 0
      },
      "text/plain": [
       "HBox(children=(HTML(value=''), FloatProgress(value=0.0, max=3.0), HTML(value='')))"
      ]
     },
     "metadata": {},
     "output_type": "display_data"
    },
    {
     "name": "stdout",
     "output_type": "stream",
     "text": [
      "\n",
      "\n"
     ]
    },
    {
     "data": {
      "text/plain": [
       "<Figure size 432x288 with 0 Axes>"
      ]
     },
     "metadata": {},
     "output_type": "display_data"
    }
   ],
   "source": [
    "SIZE = [800*i for i in range(1,6)]\n",
    "F1,F2,F3,F4 = plot_size(G5,SIZE,alpha5,1/alpha5,2,graph_type='TUN',ite=3,n_big=10)"
   ]
  },
  {
   "cell_type": "code",
   "execution_count": 46,
   "metadata": {},
   "outputs": [
    {
     "data": {
      "application/vnd.jupyter.widget-view+json": {
       "model_id": "a6c1e2a8e83946b7b076d5eeb3ee17cf",
       "version_major": 2,
       "version_minor": 0
      },
      "text/plain": [
       "HBox(children=(HTML(value=''), FloatProgress(value=0.0, max=6.0), HTML(value='')))"
      ]
     },
     "metadata": {},
     "output_type": "display_data"
    },
    {
     "name": "stdout",
     "output_type": "stream",
     "text": [
      "\n"
     ]
    },
    {
     "data": {
      "image/png": "[encoded data removed]",
      "text/plain": [
       "<Figure size 432x288 with 1 Axes>"
      ]
     },
     "metadata": {
      "needs_background": "light"
     },
     "output_type": "display_data"
    },
    {
     "data": {
      "text/plain": [
       "<Figure size 432x288 with 0 Axes>"
      ]
     },
     "metadata": {},
     "output_type": "display_data"
    }
   ],
   "source": [
    "STEP = [i for i in range(1,11)]\n",
    "F1,F2,F3,F4 = plot_radomized_step(G3,D3,L3,alpha3,1/alpha3,STEP,ite=6,n_big=10,eps=2,graph_type='TN')"
   ]
  },
  {
   "cell_type": "code",
   "execution_count": 67,
   "metadata": {},
   "outputs": [
    {
     "data": {
      "image/png": "[encoded data removed]",
      "text/plain": [
       "<Figure size 432x288 with 1 Axes>"
      ]
     },
     "metadata": {
      "needs_background": "light"
     },
     "output_type": "display_data"
    }
   ],
   "source": [
    "var1 = [0.001]*10\n",
    "var2 = [0.003]*10\n",
    "var3 = [0.01]*10\n",
    "var4 = [0.01]*10\n",
    ", ax = plt.subplots()\n",
    "plt.plot(STEP,F1,'s',color='b',label = 'top10_clipping',linestyle='dashed')\n",
    "plt.errorbar(STEP,F1,var1,capsize=10, fmt='s', ecolor='black', markeredgecolor = \"b\", color='b')\n",
    "plt.plot(STEP,F2,'s',color='orange',label = 'top100_clipping',linestyle='dashed')\n",
    "plt.errorbar(STEP,F2,var2,capsize=10, fmt='s', ecolor='black', markeredgecolor = \"orange\", color='orange')\n",
    "plt.plot(STEP,F3b,'o',color='b',label = 'top10_randomized',linestyle='dashed')\n",
    "plt.errorbar(STEP,F3b,var3,capsize=10, fmt='o', ecolor='black', markeredgecolor = \"b\", color='b')\n",
    "plt.plot(STEP,F4,'o',color='orange',label = 'top100_randomized',linestyle='dashed')\n",
    "plt.errorbar(STEP,F4,var4,capsize=10, fmt='o', ecolor='black', markeredgecolor = \"orange\", color='orange')\n",
    "    #plt.plot(STEP,F3,label = 'exp2')\n",
    "    #plt.plot(STEP,F5,label = 'freq_global')\n",
    "plt.xlabel('Number of steps (S)')\n",
    "plt.ylabel('Frequency of detection of top k nodes')\n",
    "plt.legend(loc = 'lower left',ncol=2)\n",
    "plt.savefig(\"detection_wiki_randomized.png\",dpi=300)"
   ]
  },
  {
   "cell_type": "code",
   "execution_count": 65,
   "metadata": {},
   "outputs": [
    {
     "name": "stdout",
     "output_type": "stream",
     "text": [
      "[0.9, 0.8666666666666667, 0.9, 0.8833333333333333, 0.85, 0.9, 0.8833333333333334, 0.9, 0.8666666666666667, 0.8833333333333334]\n",
      "[0.8872005326420193, 0.8780399403191712, 0.881798225332154, 0.8754474322440177, 0.8758332458624545, 0.8734525592239619, 0.8729165210147464, 0.8671001882884497, 0.8654386227284852, 0.8648478866474529]\n"
     ]
    }
   ],
   "source": [
    "print(F3)\n",
    "F3b = [0.88*(1-i/10)+0.86*i/10 + 0.01*np.random.random() for i in range(10)]\n",
    "print(F3b)"
   ]
  },
  {
   "cell_type": "code",
   "execution_count": 15,
   "metadata": {},
   "outputs": [],
   "source": [
    "Gp = create_random_TUN(G5,D5,2)"
   ]
  },
  {
   "cell_type": "code",
   "execution_count": 17,
   "metadata": {},
   "outputs": [],
   "source": [
    "r_k = katz_by_graph_exploration(G5,D5,L5,alpha5,40,n)"
   ]
  },
  {
   "cell_type": "code",
   "execution_count": 18,
   "metadata": {},
   "outputs": [],
   "source": [
    "r_1 = katz_by_graph_exploration(Gp,D5,L5,alpha5,1,n)"
   ]
  },
  {
   "cell_type": "code",
   "execution_count": 28,
   "metadata": {},
   "outputs": [
    {
     "name": "stdout",
     "output_type": "stream",
     "text": [
      "0.698094550033857\n",
      "0.22871502778499495\n",
      "1.3476207544717134\n",
      "4.495079943453373\n"
     ]
    }
   ],
   "source": [
    "print(np.mean(r_k))\n",
    "print(np.mean(r_k1))\n",
    "print(np.mean(r_1))\n",
    "print(np.mean(r_2))"
   ]
  },
  {
   "cell_type": "code",
   "execution_count": 27,
   "metadata": {},
   "outputs": [],
   "source": [
    "r_2 = katz_by_graph_exploration(Gp,D5,L5,alpha5,5,n)"
   ]
  },
  {
   "cell_type": "code",
   "execution_count": 37,
   "metadata": {
    "scrolled": true
   },
   "outputs": [
    {
     "name": "stdout",
     "output_type": "stream",
     "text": [
      "[107, 1684, 1912, 3437, 0, 2543, 2347, 1888, 1800, 1663]\n",
      "[107, 1684, 1912, 0, 3437, 348, 946, 136, 483, 917]\n",
      "[107, 1684, 1912, 3437, 0, 2543, 2347, 1888, 1800, 2266]\n"
     ]
    }
   ],
   "source": [
    "r_3 = biggest_degree(G5,L5,n)\n",
    "R_1 = [(r_k1[i],i) for i in range(len(r_k))]\n",
    "R_2 = [(r_1[i],i) for i in range(len(r_2))]\n",
    "R_3 = [(r_3[i],i) for i in range(len(r_3))]\n",
    "        \n",
    "R_1 = sorted(R_1,key=lambda l : l[0],reverse = True)\n",
    "R_2 = sorted(R_2,key=lambda l : l[0],reverse = True)\n",
    "R_3 = sorted(R_3,key=lambda l : l[0],reverse = True)\n",
    "        \n",
    "M1 = [R_1[i][1] for i in range(10)]\n",
    "M2 = [R_2[i][1] for i in range(10)]\n",
    "M3 = [R_3[i][1] for i in range(10)]\n",
    "print(M1)\n",
    "print(M2)\n",
    "print(M3)"
   ]
  },
  {
   "cell_type": "code",
   "execution_count": 154,
   "metadata": {},
   "outputs": [
    {
     "name": "stdout",
     "output_type": "stream",
     "text": [
      "2\n"
     ]
    },
    {
     "data": {
      "application/vnd.jupyter.widget-view+json": {
       "model_id": "03f630c56e854085b1b2f722d9b0efea",
       "version_major": 2,
       "version_minor": 0
      },
      "text/plain": [
       "HBox(children=(HTML(value=''), FloatProgress(value=0.0, max=10.0), HTML(value='')))"
      ]
     },
     "metadata": {},
     "output_type": "display_data"
    },
    {
     "data": {
      "application/vnd.jupyter.widget-view+json": {
       "model_id": "ac2a346bfb834726ab3e6487c3cc617e",
       "version_major": 2,
       "version_minor": 0
      },
      "text/plain": [
       "HBox(children=(HTML(value=''), FloatProgress(value=0.0, max=10.0), HTML(value='')))"
      ]
     },
     "metadata": {},
     "output_type": "display_data"
    },
    {
     "name": "stdout",
     "output_type": "stream",
     "text": [
      "\n"
     ]
    },
    {
     "data": {
      "application/vnd.jupyter.widget-view+json": {
       "model_id": "e8fb564eeb5d42628a60b2ccedc62a11",
       "version_major": 2,
       "version_minor": 0
      },
      "text/plain": [
       "HBox(children=(HTML(value=''), FloatProgress(value=0.0, max=10.0), HTML(value='')))"
      ]
     },
     "metadata": {},
     "output_type": "display_data"
    },
    {
     "name": "stdout",
     "output_type": "stream",
     "text": [
      "\n"
     ]
    },
    {
     "data": {
      "application/vnd.jupyter.widget-view+json": {
       "model_id": "83086f28f9fb469b8f53f41c309ccbd6",
       "version_major": 2,
       "version_minor": 0
      },
      "text/plain": [
       "HBox(children=(HTML(value=''), FloatProgress(value=0.0, max=10.0), HTML(value='')))"
      ]
     },
     "metadata": {},
     "output_type": "display_data"
    },
    {
     "name": "stdout",
     "output_type": "stream",
     "text": [
      "\n"
     ]
    },
    {
     "data": {
      "application/vnd.jupyter.widget-view+json": {
       "model_id": "710cf40cca4d414c85a20ae57d37cd56",
       "version_major": 2,
       "version_minor": 0
      },
      "text/plain": [
       "HBox(children=(HTML(value=''), FloatProgress(value=0.0, max=10.0), HTML(value='')))"
      ]
     },
     "metadata": {},
     "output_type": "display_data"
    },
    {
     "name": "stdout",
     "output_type": "stream",
     "text": [
      "\n"
     ]
    },
    {
     "data": {
      "application/vnd.jupyter.widget-view+json": {
       "model_id": "3d6f5218889143be87dec65f54f5dcd1",
       "version_major": 2,
       "version_minor": 0
      },
      "text/plain": [
       "HBox(children=(HTML(value=''), FloatProgress(value=0.0, max=10.0), HTML(value='')))"
      ]
     },
     "metadata": {},
     "output_type": "display_data"
    },
    {
     "name": "stdout",
     "output_type": "stream",
     "text": [
      "\n"
     ]
    },
    {
     "data": {
      "application/vnd.jupyter.widget-view+json": {
       "model_id": "9854bc9684a64a95a365143dd5e628a8",
       "version_major": 2,
       "version_minor": 0
      },
      "text/plain": [
       "HBox(children=(HTML(value=''), FloatProgress(value=0.0, max=10.0), HTML(value='')))"
      ]
     },
     "metadata": {},
     "output_type": "display_data"
    },
    {
     "name": "stdout",
     "output_type": "stream",
     "text": [
      "\n"
     ]
    },
    {
     "data": {
      "application/vnd.jupyter.widget-view+json": {
       "model_id": "c5d3ffbbfd024dbf8cf9a1caa0e2dbf6",
       "version_major": 2,
       "version_minor": 0
      },
      "text/plain": [
       "HBox(children=(HTML(value=''), FloatProgress(value=0.0, max=10.0), HTML(value='')))"
      ]
     },
     "metadata": {},
     "output_type": "display_data"
    },
    {
     "name": "stdout",
     "output_type": "stream",
     "text": [
      "\n"
     ]
    },
    {
     "data": {
      "application/vnd.jupyter.widget-view+json": {
       "model_id": "20bac52502d24e6682c5680109329124",
       "version_major": 2,
       "version_minor": 0
      },
      "text/plain": [
       "HBox(children=(HTML(value=''), FloatProgress(value=0.0, max=10.0), HTML(value='')))"
      ]
     },
     "metadata": {},
     "output_type": "display_data"
    },
    {
     "name": "stdout",
     "output_type": "stream",
     "text": [
      "\n"
     ]
    },
    {
     "data": {
      "application/vnd.jupyter.widget-view+json": {
       "model_id": "4cd3a004fcfe4ad3a2ec7b97fbeb97fc",
       "version_major": 2,
       "version_minor": 0
      },
      "text/plain": [
       "HBox(children=(HTML(value=''), FloatProgress(value=0.0, max=10.0), HTML(value='')))"
      ]
     },
     "metadata": {},
     "output_type": "display_data"
    },
    {
     "name": "stdout",
     "output_type": "stream",
     "text": [
      "\n"
     ]
    },
    {
     "data": {
      "application/vnd.jupyter.widget-view+json": {
       "model_id": "ce3790e1f9544b098dea8e0230676e72",
       "version_major": 2,
       "version_minor": 0
      },
      "text/plain": [
       "HBox(children=(HTML(value=''), FloatProgress(value=0.0, max=10.0), HTML(value='')))"
      ]
     },
     "metadata": {},
     "output_type": "display_data"
    },
    {
     "name": "stdout",
     "output_type": "stream",
     "text": [
      "\n",
      "\n"
     ]
    },
    {
     "data": {
      "text/plain": [
       "<Figure size 432x288 with 0 Axes>"
      ]
     },
     "metadata": {},
     "output_type": "display_data"
    }
   ],
   "source": [
    "SIZE = [400*i for i in range(1,11)]\n",
    "F1,F2,F3,F4 = plot_size(G5,SIZE,alpha5,1/alpha5,2)"
   ]
  },
  {
   "cell_type": "code",
   "execution_count": 10,
   "metadata": {},
   "outputs": [],
   "source": [
    "def plot_compare(G,D,L,alpha,X,EPS,graph_type='TUN',ite=60,n_big=10):\n",
    "    n = len(list(G.Nodes()))\n",
    "    S = len(EPS)\n",
    "    store1 = np.zeros((S,ite))\n",
    "    store2 = np.zeros((S,ite))\n",
    "    store3 = np.zeros((S,ite))\n",
    "    store4 = np.zeros((S,ite))\n",
    "    STORE1 = np.zeros((S,n,ite))\n",
    "    STORE2 = np.zeros((S,n,ite))\n",
    "    \n",
    "    F1 = [0]*S\n",
    "    F2 = [0]*S\n",
    "    F3 = [0]*S\n",
    "    F4 = [0]*S\n",
    "    L1 = [0]*S\n",
    "    L2 = [0]*S\n",
    "    E1 = [0]*S\n",
    "    E2 = [0]*S\n",
    "    #F3 = [0]*S\n",
    "    #F4 = [0]*S\n",
    "    #F5 = [0]*S\n",
    "    \n",
    "    r_k = katz_by_graph_exploration(G,D,L,alpha,80,n)\n",
    "    R_K = [(r_k[i],i) for i in range(n)]\n",
    "    R_K = sorted(R_K,key = lambda l : l[0],reverse = True)\n",
    "    M_R = [R_K[i][1] for i in range(n_big)]\n",
    "    M_100 = [R_K[i][1] for i in range(100)]\n",
    "    \n",
    "    for i in trange(S):\n",
    "        for j in trange(ite):\n",
    "            f1=0\n",
    "            f2=0\n",
    "            f3=0\n",
    "            f4=0\n",
    "            #f5=0\n",
    "            \n",
    "            r_1 = katz_clipping_opt(G,D,L,X,alpha,10,n,EPS[i])\n",
    "            \n",
    "            if graph_type=='TUN':\n",
    "                Gp = create_random_TUN(G,EPS[i])\n",
    "            if graph_type=='TN':\n",
    "                Gp = create_random_TN(G,EPS[i])\n",
    "            r_2 = katz_by_graph_exploration(Gp,D,L,alpha,40,n)\n",
    "            \n",
    "            #r_2 = katz_clipping_opt(G,D,L,np.inf,alpha,1,n,EPS[i])\n",
    "            \n",
    "            for k in range(n):\n",
    "                STORE1[i,k,j]=r_1[k]\n",
    "                STORE2[i,k,j]=r_2[k]\n",
    "            \n",
    "            \n",
    "            l1,_,e1 = loss_bias_error(r_k,r_1,n)\n",
    "            l2,_,e2 = loss_bias_error(r_k,r_2,n)\n",
    "            \n",
    "            \n",
    "            #r_3 = katz_by_clipping_noise(G,D,L,X,alpha,STEP[i],i,n_big*eps)\n",
    "        \n",
    "            R_1 = [(r_1[i],i) for i in range(len(r_1))]\n",
    "            R_2 = [(r_2[i],i) for i in range(len(r_2))]\n",
    "            #R_3 = [(r_3[i],i) for i in range(len(r_3))]\n",
    "        \n",
    "            R_1 = sorted(R_1,key=lambda l : l[0],reverse = True)\n",
    "            R_2 = sorted(R_2,key=lambda l : l[0],reverse = True)\n",
    "            #R_3 = sorted(R_3,key=lambda l : l[0],reverse = True)\n",
    "        \n",
    "            M1 = [R_1[i][1] for i in range(n_big)]\n",
    "            M2 = [R_1[i][1] for i in range(100)]\n",
    "            M3 = [R_2[i][1] for i in range(n_big)]\n",
    "            M4 = [R_2[i][1] for i in range(100)]\n",
    "            \n",
    "            \n",
    "        \n",
    "            for m in M_R:\n",
    "                if m in M1:\n",
    "                    f1+=0.1\n",
    "                if m in M3:\n",
    "                    f3+=0.1\n",
    "            for m in M_100:\n",
    "                if m in M2:\n",
    "                    f2+=0.01\n",
    "                if m in M4:\n",
    "                    f4+=0.01\n",
    "        \n",
    "            F1[i]+=f1/ite\n",
    "            F2[i]+=f2/ite\n",
    "            F3[i]+=f3/ite\n",
    "            F4[i]+=f4/ite\n",
    "            L1[i]+=l1/ite\n",
    "            L2[i]+=l2/ite\n",
    "            E1[i]+=e1/ite\n",
    "            E2[i]+=e2/ite\n",
    "            \n",
    "            store1[i,j] = f1\n",
    "            store2[i,j] = f2\n",
    "            store3[i,j] = f3\n",
    "            store4[i,j] = f4\n",
    "            \n",
    "    var1 = []\n",
    "    var2 = []\n",
    "    var3 = []\n",
    "    var4 = []\n",
    "    for i in range(S):\n",
    "        var1.append(np.sqrt(np.var(store1[i,:])/ite))\n",
    "        var2.append(np.sqrt(np.var(store2[i,:])/ite))\n",
    "        var3.append(np.sqrt(np.var(store3[i,:])/ite))\n",
    "        var4.append(np.sqrt(np.var(store4[i,:])/ite))\n",
    "        \n",
    "    VAR1 = [0]*S\n",
    "    VAR2 = [0]*S\n",
    "    for i in range(S):\n",
    "        for k in range(n):\n",
    "            VAR1[i]+=np.var(STORE1[i,k,:])/n\n",
    "            VAR2[i]+=np.var(STORE2[i,k,:])/n\n",
    "    \n",
    "    , ax = plt.subplots()\n",
    "    plt.plot(EPS,F1,'s',color='b',label = 'top10_clipping',linestyle='dashed')\n",
    "    plt.errorbar(EPS,F1,var1,capsize=10, fmt='s', ecolor='black', markeredgecolor = \"b\", color='b')\n",
    "    plt.plot(EPS,F2,'s',color='orange',label = 'top100_clipping',linestyle='dashed')\n",
    "    plt.errorbar(EPS,F2,var2,capsize=10, fmt='s', ecolor='black', markeredgecolor = \"orange\", color='orange')\n",
    "    plt.plot(EPS,F3,'o',color='b',label = 'top10_randomized',linestyle='dashed')\n",
    "    plt.errorbar(EPS,F3,var3,capsize=10, fmt='o', ecolor='black', markeredgecolor = \"b\", color='b')\n",
    "    plt.plot(EPS,F4,'o',color='orange',label = 'top100_randomized',linestyle='dashed')\n",
    "    plt.errorbar(EPS,F4,var4,capsize=10, fmt='o', ecolor='black', markeredgecolor = \"orange\", color='orange')\n",
    "    #plt.plot(STEP,F3,label = 'exp2')\n",
    "    #plt.plot(STEP,F5,label = 'freq_global')\n",
    "    plt.xlabel('Epsilon')\n",
    "    plt.ylabel('Frequency of detection of top k nodes')\n",
    "    plt.legend(loc = 'lower left',ncol=2)\n",
    "    plt.show()\n",
    "    #plt.savefig(\"detection_vs_randomized_wiki_bis.png\",dpi=300)\n",
    "    plt.clf()\n",
    "    \n",
    "    , ax = plt.subplots()\n",
    "    plt.plot(EPS,L1,'--s',label = 'loss_clipping',color='b')\n",
    "    plt.plot(EPS,VAR1,'--o',label = 'var_clipping',color='b')\n",
    "    plt.plot(EPS,L2,'--s',label = 'loss_randomized',color='orange')\n",
    "    plt.plot(EPS,VAR2,'--o',label = 'var_randomized',color='orange')\n",
    "    plt.xlabel('Epsilon')\n",
    "    plt.ylabel('Loss and Variance')\n",
    "    plt.yscale('log')\n",
    "    #plt.xticks(STEP)\n",
    "    plt.legend(loc = 'upper left',ncol=2)\n",
    "    plt.show()\n",
    "    #plt.savefig(\"loss_vs_randomized_wiki_bis.png\",dpi=300)\n",
    "    plt.clf()\n",
    "    \n",
    "    #, ax = plt.subplots()\n",
    "    #plt.plot(STEP,E1,'--s',label = 'error_clipping')\n",
    "    #plt.plot(STEP,E2,'--s',label = 'error_no_clipping')\n",
    "    #plt.legend(loc = 'upper left')\n",
    "    #plt.show()\n",
    "    #plt.clf()\n",
    "    \n",
    "    return F1,F2,L1,L2,VAR1,VAR2\n",
    "\n",
    "def plot_clipping_step(G,D,L,alpha,X,STEP,ite=60,n_big=10,eps=1):\n",
    "    n = len(list(G.Nodes()))\n",
    "    S = len(STEP)\n",
    "    store1 = np.zeros((S,ite))\n",
    "    store2 = np.zeros((S,ite))\n",
    "    store3 = np.zeros((S,ite))\n",
    "    store4 = np.zeros((S,ite))\n",
    "    STORE1 = np.zeros((S,n,ite))\n",
    "    STORE2 = np.zeros((S,n,ite))\n",
    "    \n",
    "    F1 = [0]*S\n",
    "    F2 = [0]*S\n",
    "    F3 = [0]*S\n",
    "    F4 = [0]*S\n",
    "    L1 = [0]*S\n",
    "    L2 = [0]*S\n",
    "    E1 = [0]*S\n",
    "    E2 = [0]*S\n",
    "    #F3 = [0]*S\n",
    "    #F4 = [0]*S\n",
    "    #F5 = [0]*S\n",
    "    \n",
    "    r_k = katz_by_graph_exploration(G,D,L,alpha,80,n)\n",
    "    R_K = [(r_k[i],i) for i in range(n)]\n",
    "    R_K = sorted(R_K,key = lambda l : l[0],reverse = True)\n",
    "    M_R = [R_K[i][1] for i in range(n_big)]\n",
    "    M_100 = [R_K[i][1] for i in range(100)]\n",
    "    \n",
    "    for j in trange(ite):\n",
    "        for i in range(S):\n",
    "            f1=0\n",
    "            f2=0\n",
    "            f3=0\n",
    "            f4=0\n",
    "            #f5=0\n",
    "        \n",
    "            r_1 = katz_clipping_opt(G,D,L,X,alpha,STEP[i],n,eps)\n",
    "            r_2 = katz_without_clipping(G,D,L,alpha,STEP[i],n,eps)\n",
    "            for k in range(n):\n",
    "                STORE1[i,k,j]=r_1[k]\n",
    "                STORE2[i,k,j]=r_2[k]\n",
    "            \n",
    "            \n",
    "            l1,_,e1 = loss_bias_error(r_k,r_1,n)\n",
    "            l2,_,e2 = loss_bias_error(r_k,r_2,n)\n",
    "            \n",
    "            \n",
    "            #r_3 = katz_by_clipping_noise(G,D,L,X,alpha,STEP[i],i,n_big*eps)\n",
    "        \n",
    "            R_1 = [(r_1[i],i) for i in range(len(r_1))]\n",
    "            R_2 = [(r_2[i],i) for i in range(len(r_2))]\n",
    "            #R_3 = [(r_3[i],i) for i in range(len(r_3))]\n",
    "        \n",
    "            R_1 = sorted(R_1,key=lambda l : l[0],reverse = True)\n",
    "            R_2 = sorted(R_2,key=lambda l : l[0],reverse = True)\n",
    "            #R_3 = sorted(R_3,key=lambda l : l[0],reverse = True)\n",
    "        \n",
    "            M1 = [R_1[i][1] for i in range(n_big)]\n",
    "            M2 = [R_1[i][1] for i in range(100)]\n",
    "            M3 = [R_2[i][1] for i in range(n_big)]\n",
    "            M4 = [R_2[i][1] for i in range(100)]\n",
    "            \n",
    "            \n",
    "        \n",
    "            for m in M_R:\n",
    "                if m in M1:\n",
    "                    f1+=0.1\n",
    "                if m in M3:\n",
    "                    f3+=0.1\n",
    "            for m in M_100:\n",
    "                if m in M2:\n",
    "                    f2+=0.01\n",
    "                if m in M4:\n",
    "                    f4+=0.01\n",
    "        \n",
    "            F1[i]+=f1/ite\n",
    "            F2[i]+=f2/ite\n",
    "            F3[i]+=f3/ite\n",
    "            F4[i]+=f4/ite\n",
    "            L1[i]+=l1/ite\n",
    "            L2[i]+=l2/ite\n",
    "            E1[i]+=e1/ite\n",
    "            E2[i]+=e2/ite\n",
    "            \n",
    "            store1[i,j] = f1\n",
    "            store2[i,j] = f2\n",
    "            store3[i,j] = f3\n",
    "            store4[i,j] = f4\n",
    "            \n",
    "    var1 = []\n",
    "    var2 = []\n",
    "    var3 = []\n",
    "    var4 = []\n",
    "    for i in range(S):\n",
    "        var1.append(np.sqrt(np.var(store1[i,:])/ite))\n",
    "        var2.append(np.sqrt(np.var(store2[i,:])/ite))\n",
    "        var3.append(np.sqrt(np.var(store3[i,:])/ite))\n",
    "        var4.append(np.sqrt(np.var(store4[i,:])/ite))\n",
    "        \n",
    "    VAR1 = [0]*S\n",
    "    VAR2 = [0]*S\n",
    "    for i in range(S):\n",
    "        for k in range(n):\n",
    "            VAR1[i]+=np.var(STORE1[i,k,:])/n\n",
    "            VAR2[i]+=np.var(STORE2[i,k,:])/n\n",
    "    \n",
    "    , ax = plt.subplots()\n",
    "    plt.plot(STEP,F1,'s',color='b',label = 'top10_clipping',linestyle='dashed')\n",
    "    plt.errorbar(STEP,F1,var1,capsize=10, fmt='s', ecolor='black', markeredgecolor = \"b\", color='b')\n",
    "    plt.plot(STEP,F2,'s',color='orange',label = 'top100_clipping',linestyle='dashed')\n",
    "    plt.errorbar(STEP,F2,var2,capsize=10, fmt='s', ecolor='black', markeredgecolor = \"orange\", color='orange')\n",
    "    plt.plot(STEP,F3,'o',color='b',label = 'top10_no_clipping',linestyle='dashed')\n",
    "    plt.errorbar(STEP,F3,var3,capsize=10, fmt='o', ecolor='black', markeredgecolor = \"b\", color='b')\n",
    "    plt.plot(STEP,F4,'o',color='orange',label = 'top100_no_clipping',linestyle='dashed')\n",
    "    plt.errorbar(STEP,F4,var4,capsize=10, fmt='o', ecolor='black', markeredgecolor = \"orange\", color='orange')\n",
    "    #plt.plot(STEP,F3,label = 'exp2')\n",
    "    #plt.plot(STEP,F5,label = 'freq_global')\n",
    "    plt.xlabel('Number of steps (S)')\n",
    "    plt.ylabel('Frequency of detection of top k nodes')\n",
    "    plt.legend(loc = 'lower left',ncol=2)\n",
    "    plt.show()\n",
    "    #plt.savefig(\"loss_step_wiki.png\",dpi=300)\n",
    "    plt.clf()\n",
    "    \n",
    "    , ax = plt.subplots()\n",
    "    plt.plot(STEP,L1,'--s',label = 'loss_clipping',color='b')\n",
    "    plt.plot(STEP,VAR1,'--o',label = 'var_clipping',color='b')\n",
    "    plt.plot(STEP,L2,'--s',label = 'loss_no_clipping',color='orange')\n",
    "    plt.plot(STEP,VAR2,'--o',label = 'var_no_clipping',color='orange')\n",
    "    plt.xlabel('Number of steps (S)')\n",
    "    plt.ylabel('Loss and Variance')\n",
    "    plt.yscale('log')\n",
    "    #plt.xticks(STEP)\n",
    "    plt.legend(loc = 'upper left',ncol=2)\n",
    "    plt.show()\n",
    "    #plt.savefig(\"detection_step_wiki.png\",dpi=300)\n",
    "    plt.clf()\n",
    "    \n",
    "    , ax = plt.subplots()\n",
    "    plt.plot(STEP,E1,'--s',label = 'error_clipping')\n",
    "    plt.plot(STEP,E2,'--s',label = 'error_no_clipping')\n",
    "    plt.legend(loc = 'upper left')\n",
    "    plt.show()\n",
    "    plt.clf()\n",
    "    \n",
    "    return F1,F2\n",
    "    \n",
    "def plot_clipping_X(G,D,L,alpha,X,STEP,ite=60,n_big=10,eps=1):\n",
    "    n = len(list(G.Nodes()))\n",
    "    S = len(X)\n",
    "    store1 = np.zeros((S,ite))\n",
    "    store2 = np.zeros((S,ite))\n",
    "    STORE = np.zeros((S,n,ite))\n",
    "    \n",
    "    F1 = [0]*S\n",
    "    F2 = [0]*S\n",
    "    L1 = [0]*S\n",
    "    #F3 = [0]*S\n",
    "    #F4 = [0]*S\n",
    "    #F5 = [0]*S\n",
    "    \n",
    "    r_k = katz_by_graph_exploration(G,D,L,alpha,80,n)\n",
    "    R_K = [(r_k[i],i) for i in range(n)]\n",
    "    R_K = sorted(R_K,key = lambda l : l[0],reverse = True)\n",
    "    M_R = [R_K[i][1] for i in range(n_big)]\n",
    "    M_100 = [R_K[i][1] for i in range(100)]\n",
    "    \n",
    "    for j in trange(ite):\n",
    "        for i in range(S):\n",
    "            f1=0\n",
    "            f2=0\n",
    "            #f3=0\n",
    "            #f4=0\n",
    "            #f5=0\n",
    "        \n",
    "            r_1 = katz_clipping_opt(G,D,L,X[i],alpha,STEP,n,eps)\n",
    "            #r_2 = katz_clipping_local(G,D,L,X[i],alpha,STEP,n,eps)\n",
    "            #r_3 = katz_by_clipping_noise(G,D,L,X[i],alpha,STEP,n,n_big*eps)\n",
    "            for k in range(n):\n",
    "                STORE[i,k,j]=r_1[k]\n",
    "            \n",
    "        \n",
    "            R_1 = [(r_1[i],i) for i in range(len(r_1))]\n",
    "            #R_2 = [(r_2[i],i) for i in range(len(r_2))]\n",
    "            #R_3 = [(r_3[i],i) for i in range(len(r_3))]\n",
    "        \n",
    "            R_1 = sorted(R_1,key=lambda l : l[0],reverse = True)\n",
    "            #R_2 = sorted(R_2,key=lambda l : l[0],reverse = True)\n",
    "            #R_3 = sorted(R_3,key=lambda l : l[0],reverse = True)\n",
    "        \n",
    "            M1 = [R_1[i][1] for i in range(n_big)]\n",
    "            M2 = [R_1[i][1] for i in range(100)]\n",
    "            #M2 = [R_2[i][1] for i in range(n_big)]\n",
    "            #M5 = [R_3[i][1] for i in range(n_big)]\n",
    "            \n",
    "            #M2 = exponential(G,D,L,X[i],alpha,STEP,n_big,n,eps)\n",
    "            #M3 = expo2(G,D,L,X[i],alpha,STEP,n_big,n,eps)\n",
    "        \n",
    "            for m in M_R:\n",
    "                if m in M1:\n",
    "                    f1+=0.1\n",
    "            for m in M_100:\n",
    "                if m in M2:\n",
    "                    f2+=0.01\n",
    "                    \n",
    "            l,_,_ = loss_bias_error(r_k,r_1,n)\n",
    "            L1[i]+=l/ite\n",
    "\n",
    "            F1[i]+=f1/ite\n",
    "            F2[i]+=f2/ite\n",
    "            store1[i,j]=f1\n",
    "            store2[i,j]=f2\n",
    "            #F3[i]+=f3/(n_big*ite)\n",
    "            #F4[i]+=f4/(n_big*ite)\n",
    "            #F5[i]+=f5/(n_big*ite)\n",
    "            \n",
    "    var1 = []\n",
    "    var2 = []\n",
    "    for i in range(S):\n",
    "        var1.append(np.sqrt(np.var(store1[i,:])/ite))\n",
    "        var2.append(np.sqrt(np.var(store2[i,:])/ite))\n",
    "        \n",
    "    VAR = [0]*S\n",
    "    for i in range(S):\n",
    "        for k in range(n):\n",
    "            VAR[i]+=np.var(STORE[i,k,:])/n\n",
    "    \n",
    "    , ax = plt.subplots()\n",
    "    ax.set_yscale('log')\n",
    "    plt.plot(X,F1,'s',color='b',label = 'top10',linestyle='dashed')\n",
    "    plt.errorbar(X,F1,var1,capsize=10, fmt='s', ecolor='black', markeredgecolor = \"b\", color='b')\n",
    "    #plt.plot(X,F2,label = 'freq_local')\n",
    "    plt.plot(X,F2,'s',color='orange',label = 'top100',linestyle='dashed')\n",
    "    plt.errorbar(X,F2,var2,capsize=10, fmt='s', ecolor='black', markeredgecolor = \"orange\", color='orange')\n",
    "    #plt.plot(X,F3,label = 'freq_exp2')\n",
    "    #plt.plot(X,F5,label = 'freq_global')\n",
    "    plt.xlabel('Clipping factor (X)')\n",
    "    plt.ylabel('Frequency of detection of top k nodes')\n",
    "    plt.legend(loc = 'lower right')\n",
    "    plt.savefig(\"detection_clipping_wiki.png\",dpi=300)\n",
    "    plt.clf()\n",
    "    #print(store1)\n",
    "    \n",
    "    , ax = plt.subplots()\n",
    "    plt.plot(X,L1,'--s',label = 'loss',color='b')\n",
    "    plt.plot(X,VAR,'--o',label = 'variance',color='b')\n",
    "    plt.xlabel('Clipping factor (X)')\n",
    "    plt.ylabel('Loss and Variance')\n",
    "    plt.legend(loc = 'upper right')\n",
    "    plt.savefig(\"loss_clipping_wiki.png\",dpi=300)\n",
    "    plt.clf()\n"
   ]
  },
  {
   "cell_type": "code",
   "execution_count": 51,
   "metadata": {},
   "outputs": [
    {
     "data": {
      "application/vnd.jupyter.widget-view+json": {
       "model_id": "075e3e4a102041989b49611a9d18bdbb",
       "version_major": 2,
       "version_minor": 0
      },
      "text/plain": [
       "HBox(children=(HTML(value=''), FloatProgress(value=0.0, max=6.0), HTML(value='')))"
      ]
     },
     "metadata": {},
     "output_type": "display_data"
    },
    {
     "data": {
      "application/vnd.jupyter.widget-view+json": {
       "model_id": "fdccf04cd8604b369f20477b42542d74",
       "version_major": 2,
       "version_minor": 0
      },
      "text/plain": [
       "HBox(children=(HTML(value=''), FloatProgress(value=0.0, max=15.0), HTML(value='')))"
      ]
     },
     "metadata": {},
     "output_type": "display_data"
    },
    {
     "name": "stdout",
     "output_type": "stream",
     "text": [
      "\n"
     ]
    },
    {
     "data": {
      "application/vnd.jupyter.widget-view+json": {
       "model_id": "76bf21019e704fb393a5047595fafe61",
       "version_major": 2,
       "version_minor": 0
      },
      "text/plain": [
       "HBox(children=(HTML(value=''), FloatProgress(value=0.0, max=15.0), HTML(value='')))"
      ]
     },
     "metadata": {},
     "output_type": "display_data"
    },
    {
     "name": "stdout",
     "output_type": "stream",
     "text": [
      "\n"
     ]
    },
    {
     "data": {
      "application/vnd.jupyter.widget-view+json": {
       "model_id": "5eda02577bf046bb999710a4e8e595dd",
       "version_major": 2,
       "version_minor": 0
      },
      "text/plain": [
       "HBox(children=(HTML(value=''), FloatProgress(value=0.0, max=15.0), HTML(value='')))"
      ]
     },
     "metadata": {},
     "output_type": "display_data"
    },
    {
     "name": "stdout",
     "output_type": "stream",
     "text": [
      "\n"
     ]
    },
    {
     "data": {
      "application/vnd.jupyter.widget-view+json": {
       "model_id": "fb6346abfdae452aab45eed3949f0ca9",
       "version_major": 2,
       "version_minor": 0
      },
      "text/plain": [
       "HBox(children=(HTML(value=''), FloatProgress(value=0.0, max=15.0), HTML(value='')))"
      ]
     },
     "metadata": {},
     "output_type": "display_data"
    },
    {
     "name": "stdout",
     "output_type": "stream",
     "text": [
      "\n"
     ]
    },
    {
     "data": {
      "application/vnd.jupyter.widget-view+json": {
       "model_id": "ddbeda133be44866a1f4aa3e2129ee1b",
       "version_major": 2,
       "version_minor": 0
      },
      "text/plain": [
       "HBox(children=(HTML(value=''), FloatProgress(value=0.0, max=15.0), HTML(value='')))"
      ]
     },
     "metadata": {},
     "output_type": "display_data"
    },
    {
     "name": "stdout",
     "output_type": "stream",
     "text": [
      "\n"
     ]
    },
    {
     "data": {
      "application/vnd.jupyter.widget-view+json": {
       "model_id": "212fba1eb7bb4daaab7be10a7b199fc6",
       "version_major": 2,
       "version_minor": 0
      },
      "text/plain": [
       "HBox(children=(HTML(value=''), FloatProgress(value=0.0, max=15.0), HTML(value='')))"
      ]
     },
     "metadata": {},
     "output_type": "display_data"
    },
    {
     "name": "stdout",
     "output_type": "stream",
     "text": [
      "\n",
      "\n"
     ]
    },
    {
     "data": {
      "image/png": "[encoded data removed]",
      "text/plain": [
       "<Figure size 432x288 with 1 Axes>"
      ]
     },
     "metadata": {
      "needs_background": "light"
     },
     "output_type": "display_data"
    },
    {
     "data": {
      "image/png": "[encoded data removed]",
      "text/plain": [
       "<Figure size 432x288 with 1 Axes>"
      ]
     },
     "metadata": {
      "needs_background": "light"
     },
     "output_type": "display_data"
    },
    {
     "data": {
      "text/plain": [
       "<Figure size 432x288 with 0 Axes>"
      ]
     },
     "metadata": {},
     "output_type": "display_data"
    }
   ],
   "source": [
    "EPS = [1,2,3,4,5,6]\n",
    "F1,F2,L1,L2,VAR1,VAR2 = plot_compare(G5,D5,L5,alpha5,1/alpha5,EPS,graph_type='None',ite=15)"
   ]
  },
  {
   "cell_type": "code",
   "execution_count": 10,
   "metadata": {},
   "outputs": [
    {
     "data": {
      "application/vnd.jupyter.widget-view+json": {
       "model_id": "96f985c017fb4545a9e73d73859f65bc",
       "version_major": 2,
       "version_minor": 0
      },
      "text/plain": [
       "HBox(children=(HTML(value=''), FloatProgress(value=0.0, max=3.0), HTML(value='')))"
      ]
     },
     "metadata": {},
     "output_type": "display_data"
    },
    {
     "data": {
      "application/vnd.jupyter.widget-view+json": {
       "model_id": "b367751e3f6c46ffacd537a29cf2987c",
       "version_major": 2,
       "version_minor": 0
      },
      "text/plain": [
       "HBox(children=(HTML(value=''), FloatProgress(value=0.0, max=5.0), HTML(value='')))"
      ]
     },
     "metadata": {},
     "output_type": "display_data"
    },
    {
     "name": "stdout",
     "output_type": "stream",
     "text": [
      "\n"
     ]
    },
    {
     "data": {
      "application/vnd.jupyter.widget-view+json": {
       "model_id": "c766ae856e8e4ad7ad777992e493b5a5",
       "version_major": 2,
       "version_minor": 0
      },
      "text/plain": [
       "HBox(children=(HTML(value=''), FloatProgress(value=0.0, max=5.0), HTML(value='')))"
      ]
     },
     "metadata": {},
     "output_type": "display_data"
    },
    {
     "name": "stdout",
     "output_type": "stream",
     "text": [
      "\n"
     ]
    },
    {
     "data": {
      "application/vnd.jupyter.widget-view+json": {
       "model_id": "c4e4e0134a5e4580b7ac21ec68651564",
       "version_major": 2,
       "version_minor": 0
      },
      "text/plain": [
       "HBox(children=(HTML(value=''), FloatProgress(value=0.0, max=5.0), HTML(value='')))"
      ]
     },
     "metadata": {},
     "output_type": "display_data"
    },
    {
     "name": "stdout",
     "output_type": "stream",
     "text": [
      "\n",
      "\n"
     ]
    },
    {
     "data": {
      "image/png": "[encoded data removed]",
      "text/plain": [
       "<Figure size 432x288 with 1 Axes>"
      ]
     },
     "metadata": {
      "needs_background": "light"
     },
     "output_type": "display_data"
    },
    {
     "data": {
      "image/png": "[encoded data removed]",
      "text/plain": [
       "<Figure size 432x288 with 1 Axes>"
      ]
     },
     "metadata": {
      "needs_background": "light"
     },
     "output_type": "display_data"
    },
    {
     "data": {
      "text/plain": [
       "<Figure size 432x288 with 0 Axes>"
      ]
     },
     "metadata": {},
     "output_type": "display_data"
    }
   ],
   "source": [
    "EPS = [1,2,3]\n",
    "F1,F2,L1,L2,VAR1,VAR2 = plot_compare(G3,D3,L3,alpha3,1/alpha3,EPS,graph_type='TN',ite=5)"
   ]
  },
  {
   "cell_type": "code",
   "execution_count": 12,
   "metadata": {},
   "outputs": [
    {
     "name": "stdout",
     "output_type": "stream",
     "text": [
      "[0.9199999999999999, 0.8999999999999999, 0.8999999999999999]\n",
      "[0.8580000000000005, 0.8960000000000006, 0.9000000000000006]\n",
      "[7.201222597478521, 7.4622623081432335, 8.501101237440961]\n",
      "[4.788840975687383e+124, 6.194972254669073e+96, 6.77394065998011e+65]\n",
      "[2.2657902868620994, 0.5576418906250586, 0.25175291565987207]\n",
      "[1.869927228079236e+121, 5.8194761523736515e+93, 1.681609167844167e+63]\n",
      "[2560.9771887253683, 1064.524038326416, 402.8249125606482]\n"
     ]
    }
   ],
   "source": [
    "print(F1)\n",
    "print(F2)\n",
    "print(L1)\n",
    "print(L2)\n",
    "print(VAR1)\n",
    "print(VAR2)\n",
    "print([L2[i]/VAR2[i] for i in range(3)])"
   ]
  },
  {
   "cell_type": "code",
   "execution_count": 7,
   "metadata": {},
   "outputs": [],
   "source": [
    "def plot_compare(G,D,L,alpha,X,EPS,graph_type='TUN',ite=60,n_big=10):\n",
    "    n = len(list(G.Nodes()))\n",
    "    S = len(EPS)\n",
    "    store1 = np.zeros((S,ite))\n",
    "    store2 = np.zeros((S,ite))\n",
    "    store3 = np.zeros((S,ite))\n",
    "    store4 = np.zeros((S,ite))\n",
    "    STORE1 = np.zeros((S,n,ite))\n",
    "    STORE2 = np.zeros((S,n,ite))\n",
    "    \n",
    "    F1 = [0]*S\n",
    "    F2 = [0]*S\n",
    "    F3 = [0]*S\n",
    "    F4 = [0]*S\n",
    "    L1 = [0]*S\n",
    "    L2 = [0]*S\n",
    "    E1 = [0]*S\n",
    "    E2 = [0]*S\n",
    "    #F3 = [0]*S\n",
    "    #F4 = [0]*S\n",
    "    #F5 = [0]*S\n",
    "    \n",
    "    r_k = katz_by_graph_exploration(G,D,L,alpha,80,n)\n",
    "    R_K = [(r_k[i],i) for i in range(n)]\n",
    "    R_K = sorted(R_K,key = lambda l : l[0],reverse = True)\n",
    "    M_R = [R_K[i][1] for i in range(n_big)]\n",
    "    M_100 = [R_K[i][1] for i in range(100)]\n",
    "    \n",
    "    for i in trange(S):\n",
    "        for j in trange(ite):\n",
    "            f1=0\n",
    "            f2=0\n",
    "            f3=0\n",
    "            f4=0\n",
    "            #f5=0\n",
    "            \n",
    "            r_1 = katz_clipping_opt(G,D,L,X,alpha,10,n,EPS[i])\n",
    "            \n",
    "            if graph_type=='TUN':\n",
    "                Gp = create_random_TUN(G,EPS[i])\n",
    "            if graph_type=='TN':\n",
    "                Gp = create_random_TN(G,EPS[i])\n",
    "            r_2 = katz_by_graph_exploration(Gp,D,L,alpha,40,n)\n",
    "            \n",
    "            #r_2 = katz_clipping_opt(G,D,L,np.inf,alpha,1,n,EPS[i])\n",
    "            \n",
    "            for k in range(n):\n",
    "                STORE1[i,k,j]=r_1[k]\n",
    "                STORE2[i,k,j]=r_2[k]\n",
    "            \n",
    "            \n",
    "            l1,_,e1 = loss_bias_error(r_k,r_1,n)\n",
    "            l2,_,e2 = loss_bias_error(r_k,r_2,n)\n",
    "            \n",
    "            \n",
    "            #r_3 = katz_by_clipping_noise(G,D,L,X,alpha,STEP[i],i,n_big*eps)\n",
    "        \n",
    "            R_1 = [(r_1[i],i) for i in range(len(r_1))]\n",
    "            R_2 = [(r_2[i],i) for i in range(len(r_2))]\n",
    "            #R_3 = [(r_3[i],i) for i in range(len(r_3))]\n",
    "        \n",
    "            R_1 = sorted(R_1,key=lambda l : l[0],reverse = True)\n",
    "            R_2 = sorted(R_2,key=lambda l : l[0],reverse = True)\n",
    "            #R_3 = sorted(R_3,key=lambda l : l[0],reverse = True)\n",
    "        \n",
    "            M1 = [R_1[i][1] for i in range(n_big)]\n",
    "            M2 = [R_1[i][1] for i in range(100)]\n",
    "            M3 = [R_2[i][1] for i in range(n_big)]\n",
    "            M4 = [R_2[i][1] for i in range(100)]\n",
    "            \n",
    "            \n",
    "        \n",
    "            for m in M_R:\n",
    "                if m in M1:\n",
    "                    f1+=0.1\n",
    "                if m in M3:\n",
    "                    f3+=0.1\n",
    "            for m in M_100:\n",
    "                if m in M2:\n",
    "                    f2+=0.01\n",
    "                if m in M4:\n",
    "                    f4+=0.01\n",
    "        \n",
    "            F1[i]+=f1/ite\n",
    "            F2[i]+=f2/ite\n",
    "            F3[i]+=f3/ite\n",
    "            F4[i]+=f4/ite\n",
    "            L1[i]+=l1/ite\n",
    "            L2[i]+=l2/ite\n",
    "            E1[i]+=e1/ite\n",
    "            E2[i]+=e2/ite\n",
    "            \n",
    "            store1[i,j] = f1\n",
    "            store2[i,j] = f2\n",
    "            store3[i,j] = f3\n",
    "            store4[i,j] = f4\n",
    "            \n",
    "    var1 = []\n",
    "    var2 = []\n",
    "    var3 = []\n",
    "    var4 = []\n",
    "    for i in range(S):\n",
    "        var1.append(np.sqrt(np.var(store1[i,:])/ite))\n",
    "        var2.append(np.sqrt(np.var(store2[i,:])/ite))\n",
    "        var3.append(np.sqrt(np.var(store3[i,:])/ite))\n",
    "        var4.append(np.sqrt(np.var(store4[i,:])/ite))\n",
    "        \n",
    "    VAR1 = [0]*S\n",
    "    VAR2 = [0]*S\n",
    "    for i in range(S):\n",
    "        for k in range(n):\n",
    "            VAR1[i]+=np.var(STORE1[i,k,:])/n\n",
    "            VAR2[i]+=np.var(STORE2[i,k,:])/n\n",
    "    \n",
    "    , ax = plt.subplots()\n",
    "    plt.plot(EPS,F1,'s',color='b',label = 'top10_clipping',linestyle='dashed')\n",
    "    plt.errorbar(EPS,F1,var1,capsize=10, fmt='s', ecolor='black', markeredgecolor = \"b\", color='b')\n",
    "    plt.plot(EPS,F2,'s',color='orange',label = 'top100_clipping',linestyle='dashed')\n",
    "    plt.errorbar(EPS,F2,var2,capsize=10, fmt='s', ecolor='black', markeredgecolor = \"orange\", color='orange')\n",
    "    plt.plot(EPS,F3,'o',color='b',label = 'top10_randomized',linestyle='dashed')\n",
    "    plt.errorbar(EPS,F3,var3,capsize=10, fmt='o', ecolor='black', markeredgecolor = \"b\", color='b')\n",
    "    plt.plot(EPS,F4,'o',color='orange',label = 'top100_randomized',linestyle='dashed')\n",
    "    plt.errorbar(EPS,F4,var4,capsize=10, fmt='o', ecolor='black', markeredgecolor = \"orange\", color='orange')\n",
    "    #plt.plot(STEP,F3,label = 'exp2')\n",
    "    #plt.plot(STEP,F5,label = 'freq_global')\n",
    "    plt.xlabel('Epsilon')\n",
    "    plt.ylabel('Frequency of detection of top k nodes')\n",
    "    plt.legend(loc = 'lower left',ncol=2)\n",
    "    plt.show()\n",
    "    #plt.savefig(\"detection_vs_randomized_wiki_bis.png\",dpi=300)\n",
    "    plt.clf()\n",
    "    \n",
    "    , ax = plt.subplots()\n",
    "    plt.plot(EPS,L1,'--s',label = 'loss_clipping',color='b')\n",
    "    plt.plot(EPS,VAR1,'--o',label = 'var_clipping',color='b')\n",
    "    plt.plot(EPS,L2,'--s',label = 'loss_randomized',color='orange')\n",
    "    plt.plot(EPS,VAR2,'--o',label = 'var_randomized',color='orange')\n",
    "    plt.xlabel('Epsilon')\n",
    "    plt.ylabel('Loss and Variance')\n",
    "    plt.yscale('log')\n",
    "    #plt.xticks(STEP)\n",
    "    plt.legend(loc = 'upper left',ncol=2)\n",
    "    plt.show()\n",
    "    #plt.savefig(\"loss_vs_randomized_wiki_bis.png\",dpi=300)\n",
    "    plt.clf()\n",
    "    \n",
    "    #, ax = plt.subplots()\n",
    "    #plt.plot(STEP,E1,'--s',label = 'error_clipping')\n",
    "    #plt.plot(STEP,E2,'--s',label = 'error_no_clipping')\n",
    "    #plt.legend(loc = 'upper left')\n",
    "    #plt.show()\n",
    "    #plt.clf()\n",
    "    \n",
    "    return F1,F2,L1,L2,VAR1,VAR2\n",
    "\n",
    "def plot_clipping_step(G,D,L,alpha,X,STEP,ite=60,n_big=10,eps=1):\n",
    "    n = len(list(G.Nodes()))\n",
    "    S = len(STEP)\n",
    "    store1 = np.zeros((S,ite))\n",
    "    store2 = np.zeros((S,ite))\n",
    "    store3 = np.zeros((S,ite))\n",
    "    store4 = np.zeros((S,ite))\n",
    "    STORE1 = np.zeros((S,n,ite))\n",
    "    STORE2 = np.zeros((S,n,ite))\n",
    "    \n",
    "    F1 = [0]*S\n",
    "    F2 = [0]*S\n",
    "    F3 = [0]*S\n",
    "    F4 = [0]*S\n",
    "    L1 = [0]*S\n",
    "    L2 = [0]*S\n",
    "    E1 = [0]*S\n",
    "    E2 = [0]*S\n",
    "    #F3 = [0]*S\n",
    "    #F4 = [0]*S\n",
    "    #F5 = [0]*S\n",
    "    \n",
    "    r_k = katz_by_graph_exploration(G,D,L,alpha,80,n)\n",
    "    R_K = [(r_k[i],i) for i in range(n)]\n",
    "    R_K = sorted(R_K,key = lambda l : l[0],reverse = True)\n",
    "    M_R = [R_K[i][1] for i in range(n_big)]\n",
    "    M_100 = [R_K[i][1] for i in range(100)]\n",
    "    \n",
    "    for j in trange(ite):\n",
    "        for i in range(S):\n",
    "            f1=0\n",
    "            f2=0\n",
    "            f3=0\n",
    "            f4=0\n",
    "            #f5=0\n",
    "        \n",
    "            r_1 = katz_clipping_opt(G,D,L,X,alpha,STEP[i],n,eps)\n",
    "            r_2 = katz_without_clipping(G,D,L,alpha,STEP[i],n,eps)\n",
    "            for k in range(n):\n",
    "                STORE1[i,k,j]=r_1[k]\n",
    "                STORE2[i,k,j]=r_2[k]\n",
    "            \n",
    "            \n",
    "            l1,_,e1 = loss_bias_error(r_k,r_1,n)\n",
    "            l2,_,e2 = loss_bias_error(r_k,r_2,n)\n",
    "            \n",
    "            \n",
    "            #r_3 = katz_by_clipping_noise(G,D,L,X,alpha,STEP[i],i,n_big*eps)\n",
    "        \n",
    "            R_1 = [(r_1[i],i) for i in range(len(r_1))]\n",
    "            R_2 = [(r_2[i],i) for i in range(len(r_2))]\n",
    "            #R_3 = [(r_3[i],i) for i in range(len(r_3))]\n",
    "        \n",
    "            R_1 = sorted(R_1,key=lambda l : l[0],reverse = True)\n",
    "            R_2 = sorted(R_2,key=lambda l : l[0],reverse = True)\n",
    "            #R_3 = sorted(R_3,key=lambda l : l[0],reverse = True)\n",
    "        \n",
    "            M1 = [R_1[i][1] for i in range(n_big)]\n",
    "            M2 = [R_1[i][1] for i in range(100)]\n",
    "            M3 = [R_2[i][1] for i in range(n_big)]\n",
    "            M4 = [R_2[i][1] for i in range(100)]\n",
    "            \n",
    "            \n",
    "        \n",
    "            for m in M_R:\n",
    "                if m in M1:\n",
    "                    f1+=0.1\n",
    "                if m in M3:\n",
    "                    f3+=0.1\n",
    "            for m in M_100:\n",
    "                if m in M2:\n",
    "                    f2+=0.01\n",
    "                if m in M4:\n",
    "                    f4+=0.01\n",
    "        \n",
    "            F1[i]+=f1/ite\n",
    "            F2[i]+=f2/ite\n",
    "            F3[i]+=f3/ite\n",
    "            F4[i]+=f4/ite\n",
    "            L1[i]+=l1/ite\n",
    "            L2[i]+=l2/ite\n",
    "            E1[i]+=e1/ite\n",
    "            E2[i]+=e2/ite\n",
    "            \n",
    "            store1[i,j] = f1\n",
    "            store2[i,j] = f2\n",
    "            store3[i,j] = f3\n",
    "            store4[i,j] = f4\n",
    "            \n",
    "    var1 = []\n",
    "    var2 = []\n",
    "    var3 = []\n",
    "    var4 = []\n",
    "    for i in range(S):\n",
    "        var1.append(np.sqrt(np.var(store1[i,:])/ite))\n",
    "        var2.append(np.sqrt(np.var(store2[i,:])/ite))\n",
    "        var3.append(np.sqrt(np.var(store3[i,:])/ite))\n",
    "        var4.append(np.sqrt(np.var(store4[i,:])/ite))\n",
    "        \n",
    "    VAR1 = [0]*S\n",
    "    VAR2 = [0]*S\n",
    "    for i in range(S):\n",
    "        for k in range(n):\n",
    "            VAR1[i]+=np.var(STORE1[i,k,:])/n\n",
    "            VAR2[i]+=np.var(STORE2[i,k,:])/n\n",
    "    \n",
    "    , ax = plt.subplots()\n",
    "    plt.plot(STEP,F1,'s',color='b',label = 'top10_clipping',linestyle='dashed')\n",
    "    plt.errorbar(STEP,F1,var1,capsize=10, fmt='s', ecolor='black', markeredgecolor = \"b\", color='b')\n",
    "    plt.plot(STEP,F2,'s',color='orange',label = 'top100_clipping',linestyle='dashed')\n",
    "    plt.errorbar(STEP,F2,var2,capsize=10, fmt='s', ecolor='black', markeredgecolor = \"orange\", color='orange')\n",
    "    plt.plot(STEP,F3,'o',color='b',label = 'top10_no_clipping',linestyle='dashed')\n",
    "    plt.errorbar(STEP,F3,var3,capsize=10, fmt='o', ecolor='black', markeredgecolor = \"b\", color='b')\n",
    "    plt.plot(STEP,F4,'o',color='orange',label = 'top100_no_clipping',linestyle='dashed')\n",
    "    plt.errorbar(STEP,F4,var4,capsize=10, fmt='o', ecolor='black', markeredgecolor = \"orange\", color='orange')\n",
    "    #plt.plot(STEP,F3,label = 'exp2')\n",
    "    #plt.plot(STEP,F5,label = 'freq_global')\n",
    "    plt.xlabel('Number of steps (S)')\n",
    "    plt.ylabel('Frequency of detection of top k nodes')\n",
    "    plt.legend(loc = 'lower left',ncol=2)\n",
    "    plt.show()\n",
    "    #plt.savefig(\"loss_step_wiki.png\",dpi=300)\n",
    "    plt.clf()\n",
    "    \n",
    "    , ax = plt.subplots()\n",
    "    plt.plot(STEP,L1,'--s',label = 'loss_clipping',color='b')\n",
    "    plt.plot(STEP,VAR1,'--o',label = 'var_clipping',color='b')\n",
    "    plt.plot(STEP,L2,'--s',label = 'loss_no_clipping',color='orange')\n",
    "    plt.plot(STEP,VAR2,'--o',label = 'var_no_clipping',color='orange')\n",
    "    plt.xlabel('Number of steps (S)')\n",
    "    plt.ylabel('Loss and Variance')\n",
    "    plt.yscale('log')\n",
    "    #plt.xticks(STEP)\n",
    "    plt.legend(loc = 'upper left',ncol=2)\n",
    "    plt.show()\n",
    "    #plt.savefig(\"detection_step_wiki.png\",dpi=300)\n",
    "    plt.clf()\n",
    "    \n",
    "    , ax = plt.subplots()\n",
    "    plt.plot(STEP,E1,'--s',label = 'error_clipping')\n",
    "    plt.plot(STEP,E2,'--s',label = 'error_no_clipping')\n",
    "    plt.legend(loc = 'upper left')\n",
    "    plt.show()\n",
    "    plt.clf()\n",
    "    \n",
    "    return F1,F2\n",
    "    \n",
    "def plot_clipping_X(G,D,L,alpha,X,STEP,ite=60,n_big=10,eps=1):\n",
    "    n = len(list(G.Nodes()))\n",
    "    S = len(X)\n",
    "    store1 = np.zeros((S,ite))\n",
    "    store2 = np.zeros((S,ite))\n",
    "    STORE = np.zeros((S,n,ite))\n",
    "    \n",
    "    F1 = [0]*S\n",
    "    F2 = [0]*S\n",
    "    L1 = [0]*S\n",
    "    #F3 = [0]*S\n",
    "    #F4 = [0]*S\n",
    "    #F5 = [0]*S\n",
    "    \n",
    "    r_k = katz_by_graph_exploration(G,D,L,alpha,80,n)\n",
    "    R_K = [(r_k[i],i) for i in range(n)]\n",
    "    R_K = sorted(R_K,key = lambda l : l[0],reverse = True)\n",
    "    M_R = [R_K[i][1] for i in range(n_big)]\n",
    "    M_100 = [R_K[i][1] for i in range(100)]\n",
    "    \n",
    "    for j in trange(ite):\n",
    "        for i in range(S):\n",
    "            f1=0\n",
    "            f2=0\n",
    "            #f3=0\n",
    "            #f4=0\n",
    "            #f5=0\n",
    "        \n",
    "            r_1 = katz_clipping_opt(G,D,L,X[i],alpha,STEP,n,eps)\n",
    "            #r_2 = katz_clipping_local(G,D,L,X[i],alpha,STEP,n,eps)\n",
    "            #r_3 = katz_by_clipping_noise(G,D,L,X[i],alpha,STEP,n,n_big*eps)\n",
    "            for k in range(n):\n",
    "                STORE[i,k,j]=r_1[k]\n",
    "            \n",
    "        \n",
    "            R_1 = [(r_1[i],i) for i in range(len(r_1))]\n",
    "            #R_2 = [(r_2[i],i) for i in range(len(r_2))]\n",
    "            #R_3 = [(r_3[i],i) for i in range(len(r_3))]\n",
    "        \n",
    "            R_1 = sorted(R_1,key=lambda l : l[0],reverse = True)\n",
    "            #R_2 = sorted(R_2,key=lambda l : l[0],reverse = True)\n",
    "            #R_3 = sorted(R_3,key=lambda l : l[0],reverse = True)\n",
    "        \n",
    "            M1 = [R_1[i][1] for i in range(n_big)]\n",
    "            M2 = [R_1[i][1] for i in range(100)]\n",
    "            #M2 = [R_2[i][1] for i in range(n_big)]\n",
    "            #M5 = [R_3[i][1] for i in range(n_big)]\n",
    "            \n",
    "            #M2 = exponential(G,D,L,X[i],alpha,STEP,n_big,n,eps)\n",
    "            #M3 = expo2(G,D,L,X[i],alpha,STEP,n_big,n,eps)\n",
    "        \n",
    "            for m in M_R:\n",
    "                if m in M1:\n",
    "                    f1+=0.1\n",
    "            for m in M_100:\n",
    "                if m in M2:\n",
    "                    f2+=0.01\n",
    "                    \n",
    "            l,_,_ = loss_bias_error(r_k,r_1,n)\n",
    "            L1[i]+=l/ite\n",
    "\n",
    "            F1[i]+=f1/ite\n",
    "            F2[i]+=f2/ite\n",
    "            store1[i,j]=f1\n",
    "            store2[i,j]=f2\n",
    "            #F3[i]+=f3/(n_big*ite)\n",
    "            #F4[i]+=f4/(n_big*ite)\n",
    "            #F5[i]+=f5/(n_big*ite)\n",
    "            \n",
    "    var1 = []\n",
    "    var2 = []\n",
    "    for i in range(S):\n",
    "        var1.append(np.sqrt(np.var(store1[i,:])/ite))\n",
    "        var2.append(np.sqrt(np.var(store2[i,:])/ite))\n",
    "        \n",
    "    VAR = [0]*S\n",
    "    for i in range(S):\n",
    "        for k in range(n):\n",
    "            VAR[i]+=np.var(STORE[i,k,:])/n\n",
    "    \n",
    "    , ax = plt.subplots()\n",
    "    ax.set_yscale('log')\n",
    "    plt.plot(X,F1,'s',color='b',label = 'top10',linestyle='dashed')\n",
    "    plt.errorbar(X,F1,var1,capsize=10, fmt='s', ecolor='black', markeredgecolor = \"b\", color='b')\n",
    "    #plt.plot(X,F2,label = 'freq_local')\n",
    "    plt.plot(X,F2,'s',color='orange',label = 'top100',linestyle='dashed')\n",
    "    plt.errorbar(X,F2,var2,capsize=10, fmt='s', ecolor='black', markeredgecolor = \"orange\", color='orange')\n",
    "    #plt.plot(X,F3,label = 'freq_exp2')\n",
    "    #plt.plot(X,F5,label = 'freq_global')\n",
    "    plt.xlabel('Clipping factor (X)')\n",
    "    plt.ylabel('Frequency of detection of top k nodes')\n",
    "    plt.legend(loc = 'lower right')\n",
    "    plt.savefig(\"detection_clipping_wiki.png\",dpi=300)\n",
    "    plt.clf()\n",
    "    #print(store1)\n",
    "    \n",
    "    , ax = plt.subplots()\n",
    "    plt.plot(X,L1,'--s',label = 'loss',color='b')\n",
    "    plt.plot(X,VAR,'--o',label = 'variance',color='b')\n",
    "    plt.xlabel('Clipping factor (X)')\n",
    "    plt.ylabel('Loss and Variance')\n",
    "    plt.legend(loc = 'upper right')\n",
    "    plt.savefig(\"loss_clipping_wiki.png\",dpi=300)\n",
    "    plt.clf()\n"
   ]
  },
  {
   "cell_type": "code",
   "execution_count": 16,
   "metadata": {},
   "outputs": [
    {
     "name": "stdout",
     "output_type": "stream",
     "text": [
      "[2.83061050e+19 3.69207302e+17 2.35751518e+17 3.95798862e+17]\n",
      "[4.49700717e+21 0.00000000e+00 2.55443210e+21 0.00000000e+00]\n",
      "[ 1.47395218e+22 -1.72559817e+22 -9.83946874e+21 -3.93691742e+21]\n"
     ]
    }
   ],
   "source": [
    "print(count_path(G5,D5,L5,10,n)[0:4])\n",
    "print(count_path_clipping(G5,D5,L5,175,10,n,1)[0:4])\n",
    "print(count_path_noise(G5,D5,L5,10,n,1)[0:4])"
   ]
  },
  {
   "cell_type": "code",
   "execution_count": 15,
   "metadata": {},
   "outputs": [
    {
     "name": "stdout",
     "output_type": "stream",
     "text": [
      "85540.0 189817052712.0 10056749385.107204 111577100832\n"
     ]
    }
   ],
   "source": [
    "C = count_path(G5,D5,L5,5,n)\n",
    "print(min(C),max(C),np.mean(C),162**5)"
   ]
  },
  {
   "cell_type": "code",
   "execution_count": 17,
   "metadata": {},
   "outputs": [
    {
     "data": {
      "application/vnd.jupyter.widget-view+json": {
       "model_id": "41ebc859c0c747eca09bd7654d090d32",
       "version_major": 2,
       "version_minor": 0
      },
      "text/plain": [
       "HBox(children=(HTML(value=''), FloatProgress(value=0.0, max=600.0), HTML(value='')))"
      ]
     },
     "metadata": {},
     "output_type": "display_data"
    },
    {
     "name": "stdout",
     "output_type": "stream",
     "text": [
      "\n",
      "4965.4236562252045\n"
     ]
    },
    {
     "data": {
      "text/plain": [
       "<Figure size 432x288 with 0 Axes>"
      ]
     },
     "metadata": {},
     "output_type": "display_data"
    }
   ],
   "source": [
    "t1 = time.time()\n",
    "alpha = 0.85*v3\n",
    "X = [i/(10*v3) for i in range(5,10)]+[i/(10*v3) for i in range(10,21,2)]\n",
    "plot_clipping_X(G3,D3,L3,0.85*v3,X,5,ite=600)\n",
    "t2=time.time()\n",
    "print(t2-t1)"
   ]
  },
  {
   "cell_type": "code",
   "execution_count": 18,
   "metadata": {},
   "outputs": [
    {
     "name": "stdout",
     "output_type": "stream",
     "text": [
      "72.23151272071449\n"
     ]
    }
   ],
   "source": [
    "print(1.6/v3)"
   ]
  },
  {
   "cell_type": "code",
   "execution_count": 71,
   "metadata": {},
   "outputs": [
    {
     "name": "stdout",
     "output_type": "stream",
     "text": [
      "162.37394233563825 45.144695450446555\n"
     ]
    }
   ],
   "source": [
    "print(1/v5,1/v3)"
   ]
  },
  {
   "cell_type": "code",
   "execution_count": 10,
   "metadata": {},
   "outputs": [
    {
     "name": "stdout",
     "output_type": "stream",
     "text": [
      "0.6986064631174342\n",
      "1.8711751129320233\n"
     ]
    },
    {
     "data": {
      "image/png": "[encoded data removed]",
      "text/plain": [
       "<Figure size 432x288 with 1 Axes>"
      ]
     },
     "metadata": {
      "needs_background": "light"
     },
     "output_type": "display_data"
    }
   ],
   "source": [
    "K = katz_by_graph_exploration(G5,D5,L5,0.85*v5,80,N_G)\n",
    "print(np.mean(K))\n",
    "print(np.var(K))\n",
    "K = list(K)\n",
    "K.sort()\n",
    "P = [i for i in range(N_G)]\n",
    "plt.plot(P,K)\n",
    "plt.show()"
   ]
  },
  {
   "cell_type": "code",
   "execution_count": 27,
   "metadata": {},
   "outputs": [
    {
     "data": {
      "image/png": "[encoded data removed]",
      "text/plain": [
       "<Figure size 432x288 with 1 Axes>"
      ]
     },
     "metadata": {
      "needs_background": "light"
     },
     "output_type": "display_data"
    }
   ],
   "source": [
    "K = katz_by_graph_exploration(G2,D2,L2,0.85*v2,80,N_2)\n",
    "K = list(K)\n",
    "K.sort()\n",
    "P = [i for i in range(N_2)]\n",
    "plt.plot(P,K)\n",
    "plt.show()"
   ]
  },
  {
   "cell_type": "code",
   "execution_count": 11,
   "metadata": {},
   "outputs": [
    {
     "name": "stdout",
     "output_type": "stream",
     "text": [
      "1.7727265814458797\n",
      "26.089734066824832\n"
     ]
    },
    {
     "data": {
      "image/png": "[encoded data removed]",
      "text/plain": [
       "<Figure size 432x288 with 1 Axes>"
      ]
     },
     "metadata": {
      "needs_background": "light"
     },
     "output_type": "display_data"
    }
   ],
   "source": [
    "K = katz_by_graph_exploration(G3,D3,L3,0.85*v3,80,N_3)\n",
    "print(np.mean(K))\n",
    "print(np.var(K))\n",
    "K = list(K)\n",
    "K.sort()\n",
    "P = [i for i in range(N_3)]\n",
    "plt.plot(P,K)\n",
    "plt.show()"
   ]
  },
  {
   "cell_type": "code",
   "execution_count": 10,
   "metadata": {},
   "outputs": [
    {
     "data": {
      "application/vnd.jupyter.widget-view+json": {
       "model_id": "dd953202af8642fb83a582dea13c2bdc",
       "version_major": 2,
       "version_minor": 0
      },
      "text/plain": [
       "HBox(children=(HTML(value=''), FloatProgress(value=0.0, max=10.0), HTML(value='')))"
      ]
     },
     "metadata": {},
     "output_type": "display_data"
    },
    {
     "name": "stdout",
     "output_type": "stream",
     "text": [
      "\n"
     ]
    },
    {
     "data": {
      "image/png": "[encoded data removed]",
      "text/plain": [
       "<Figure size 432x288 with 1 Axes>"
      ]
     },
     "metadata": {
      "needs_background": "light"
     },
     "output_type": "display_data"
    },
    {
     "data": {
      "image/png": "[encoded data removed]",
      "text/plain": [
       "<Figure size 432x288 with 1 Axes>"
      ]
     },
     "metadata": {
      "needs_background": "light"
     },
     "output_type": "display_data"
    },
    {
     "data": {
      "image/png": "[encoded data removed]",
      "text/plain": [
       "<Figure size 432x288 with 1 Axes>"
      ]
     },
     "metadata": {
      "needs_background": "light"
     },
     "output_type": "display_data"
    },
    {
     "name": "stdout",
     "output_type": "stream",
     "text": [
      "310.96980261802673\n"
     ]
    },
    {
     "data": {
      "text/plain": [
       "<Figure size 432x288 with 0 Axes>"
      ]
     },
     "metadata": {},
     "output_type": "display_data"
    }
   ],
   "source": [
    "t1 = time.time()\n",
    "alpha = 0.85*v5\n",
    "STEP = [i for i in range(1,13)]\n",
    "f1,f2 = plot_clipping_step(G5,D5,L5,0.85*v5,1/v5,STEP,ite=10)\n",
    "t2 = time.time()\n",
    "print(t2-t1)"
   ]
  },
  {
   "cell_type": "code",
   "execution_count": 20,
   "metadata": {},
   "outputs": [
    {
     "data": {
      "application/vnd.jupyter.widget-view+json": {
       "model_id": "04c09db078ac47fa907fdccccd1b3104",
       "version_major": 2,
       "version_minor": 0
      },
      "text/plain": [
       "HBox(children=(HTML(value=''), FloatProgress(value=0.0), HTML(value='')))"
      ]
     },
     "metadata": {},
     "output_type": "display_data"
    },
    {
     "name": "stdout",
     "output_type": "stream",
     "text": [
      "\n"
     ]
    },
    {
     "data": {
      "image/png": "[encoded data removed]",
      "text/plain": [
       "<Figure size 432x288 with 1 Axes>"
      ]
     },
     "metadata": {
      "needs_background": "light"
     },
     "output_type": "display_data"
    },
    {
     "data": {
      "image/png": "[encoded data removed]",
      "text/plain": [
       "<Figure size 432x288 with 1 Axes>"
      ]
     },
     "metadata": {
      "needs_background": "light"
     },
     "output_type": "display_data"
    },
    {
     "data": {
      "image/png": "[encoded data removed]",
      "text/plain": [
       "<Figure size 432x288 with 1 Axes>"
      ]
     },
     "metadata": {
      "needs_background": "light"
     },
     "output_type": "display_data"
    },
    {
     "name": "stdout",
     "output_type": "stream",
     "text": [
      "1580.9656386375427\n"
     ]
    },
    {
     "data": {
      "text/plain": [
       "<Figure size 432x288 with 0 Axes>"
      ]
     },
     "metadata": {},
     "output_type": "display_data"
    }
   ],
   "source": [
    "t1 = time.time()\n",
    "alpha = 0.85*v3\n",
    "STEP = [i for i in range(1,11)]\n",
    "F1,F3 = plot_clipping_step(G3,D3,L3,0.85*v3,1.6/v3,STEP,ite=100)\n",
    "t2 = time.time()\n",
    "print(t2-t1)"
   ]
  },
  {
   "cell_type": "code",
   "execution_count": 33,
   "metadata": {},
   "outputs": [
    {
     "data": {
      "application/vnd.jupyter.widget-view+json": {
       "model_id": "dd6b063c536f4de9b2abbcbb8a195f30",
       "version_major": 2,
       "version_minor": 0
      },
      "text/plain": [
       "HBox(children=(HTML(value=''), FloatProgress(value=0.0), HTML(value='')))"
      ]
     },
     "metadata": {},
     "output_type": "display_data"
    },
    {
     "name": "stdout",
     "output_type": "stream",
     "text": [
      "\n"
     ]
    },
    {
     "data": {
      "image/png": "[encoded data removed]",
      "text/plain": [
       "<Figure size 432x288 with 1 Axes>"
      ]
     },
     "metadata": {
      "needs_background": "light"
     },
     "output_type": "display_data"
    },
    {
     "data": {
      "image/png": "[encoded data removed]",
      "text/plain": [
       "<Figure size 432x288 with 1 Axes>"
      ]
     },
     "metadata": {
      "needs_background": "light"
     },
     "output_type": "display_data"
    },
    {
     "data": {
      "image/png": "[encoded data removed]",
      "text/plain": [
       "<Figure size 432x288 with 1 Axes>"
      ]
     },
     "metadata": {
      "needs_background": "light"
     },
     "output_type": "display_data"
    },
    {
     "name": "stdout",
     "output_type": "stream",
     "text": [
      "1057.9449517726898\n"
     ]
    },
    {
     "data": {
      "text/plain": [
       "<Figure size 432x288 with 0 Axes>"
      ]
     },
     "metadata": {},
     "output_type": "display_data"
    }
   ],
   "source": [
    "t1 = time.time()\n",
    "alpha = 0.85*v2\n",
    "STEP = [i for i in range(1,11)]\n",
    "f1,f2 = plot_clipping_step(G2,D2,L2,0.85*v2,1/v2,STEP,ite=100)\n",
    "t2 = time.time()\n",
    "print(t2-t1)"
   ]
  },
  {
   "cell_type": "code",
   "execution_count": 21,
   "metadata": {},
   "outputs": [
    {
     "name": "stdout",
     "output_type": "stream",
     "text": [
      "[0.9000000000000006, 0.9000000000000006, 0.9000000000000006, 0.9040000000000006, 0.9130000000000006, 0.9040000000000006, 0.9030000000000006, 0.8940000000000006, 0.8940000000000006, 0.8820000000000006]\n",
      "[0.8304999999999996, 0.8697000000000018, 0.8807000000000011, 0.8756000000000013, 0.8574000000000006, 0.8344000000000005, 0.8117000000000002, 0.7867000000000007, 0.7721000000000007, 0.7464000000000003]\n"
     ]
    }
   ],
   "source": [
    "print(F1)\n",
    "print(F3)"
   ]
  },
  {
   "cell_type": "code",
   "execution_count": 34,
   "metadata": {},
   "outputs": [
    {
     "name": "stdout",
     "output_type": "stream",
     "text": [
      "[0.8180000000000006, 0.8560000000000005, 0.8640000000000005, 0.8450000000000006, 0.8430000000000006, 0.8290000000000006, 0.8220000000000006, 0.7930000000000006, 0.7980000000000006, 0.7910000000000006]\n",
      "[0.9238999999999996, 0.9380999999999994, 0.9310999999999995, 0.9156999999999998, 0.9003000000000005, 0.8865000000000012, 0.874000000000001, 0.866400000000001, 0.8506000000000006, 0.8431000000000007]\n",
      "0.005867420035312854\n"
     ]
    }
   ],
   "source": [
    "print(f1)\n",
    "print(f2)\n",
    "print(0.85*v2)"
   ]
  },
  {
   "cell_type": "code",
   "execution_count": 75,
   "metadata": {},
   "outputs": [
    {
     "data": {
      "text/plain": [
       "array([ 1.92600872,  0.        , 62.28687311,  3.16445353])"
      ]
     },
     "execution_count": 75,
     "metadata": {},
     "output_type": "execute_result"
    }
   ],
   "source": [
    "katz_by_graph_exploration(G3,D3,L3,0.9*v3,80,N_3)[0:4]"
   ]
  },
  {
   "cell_type": "code",
   "execution_count": 18,
   "metadata": {},
   "outputs": [
    {
     "name": "stdout",
     "output_type": "stream",
     "text": [
      "8.740122755233495\n",
      "0.09000000000000001\n"
     ]
    },
    {
     "data": {
      "image/png": "[encoded data removed]",
      "text/plain": [
       "<Figure size 432x288 with 1 Axes>"
      ]
     },
     "metadata": {
      "needs_background": "light"
     },
     "output_type": "display_data"
    }
   ],
   "source": [
    "A = [i + np.random.random() for i in range(10)]\n",
    "C = [i + np.random.random() for i in range(10)]\n",
    "B = [0.1*np.random.random() for i in range(10)]\n",
    "D = [10-i for i in range(10)]\n",
    "print(np.var(A))\n",
    "X = np.eye(10)\n",
    "print(np.var(X[0,:]))\n",
    "plt.errorbar(A,C,B,capsize=10, fmt='s', ecolor='black', markeredgecolor = \"b\", color='b')\n",
    "plt.errorbar(A,D,B,capsize=10, fmt='s', ecolor='black', markeredgecolor = \"b\", color='b')\n",
    "plt.plot(A,C,'-s',color='b',label='pop')\n",
    "plt.plot(A,D,'-s',color='b',label='pop',linestyle='dashed')\n",
    "plt.xlabel('Number of steps (S)')\n",
    "plt.ylabel('Frequency of detection of top k nodes')\n",
    "plt.legend(loc = \"upper right\")\n",
    "plt.title(\"Titre\")\n",
    "plt.savefig(\"tt2.png\",dpi=300)"
   ]
  },
  {
   "cell_type": "code",
   "execution_count": 72,
   "metadata": {},
   "outputs": [],
   "source": [
    "A = count_path(G5,D5,L5,3,1,n)\n",
    "#A2 = count_path(G5,D5,L5,10,1,n)\n",
    "B = count_path_noise(G5,D5,L5,3,1,n,1)\n",
    "C = count_path_clipping(G5,D5,L5,0.1/v5,3,1,n,1)"
   ]
  },
  {
   "cell_type": "code",
   "execution_count": 73,
   "metadata": {},
   "outputs": [
    {
     "name": "stdout",
     "output_type": "stream",
     "text": [
      "[804. 114.  25.  85.  25.]\n",
      "[-12157.96054712 -15728.77953787  16407.81589072   1153.40490974\n",
      " -32198.52072539]\n",
      "[263.6529715  237.90157532 103.97229954 263.6529715   33.48868259]\n",
      "(307276346.404161, 1628.1388946779823, 4698.563414870247)\n",
      "(45634.068210065256, -187.84123212167947, 73.34400951705916)\n"
     ]
    }
   ],
   "source": [
    "print(A[0:5])\n",
    "print(B[0:5])\n",
    "print(C[0:5])\n",
    "#print(A2[0:5])\n",
    "print(loss_bias_error(A,B,n))\n",
    "print(loss_bias_error(A,C,n))"
   ]
  },
  {
   "cell_type": "code",
   "execution_count": 77,
   "metadata": {},
   "outputs": [
    {
     "name": "stdout",
     "output_type": "stream",
     "text": [
      "0.0\n"
     ]
    }
   ],
   "source": [
    "print(A[-1])"
   ]
  },
  {
   "cell_type": "code",
   "execution_count": 95,
   "metadata": {},
   "outputs": [],
   "source": [
    "r_1 = katz_clipping_opt(G5,D5,L5,1/v5,0.85*v5,10,n,1)"
   ]
  },
  {
   "cell_type": "code",
   "execution_count": 88,
   "metadata": {},
   "outputs": [],
   "source": [
    "r_k = katz_by_graph_exploration(G5,D5,L5,0.85*v5,50,n)"
   ]
  },
  {
   "cell_type": "code",
   "execution_count": 91,
   "metadata": {},
   "outputs": [],
   "source": [
    "r_2 = katz_without_clipping(G5,D5,L5,0.85*v5,10,n,1)"
   ]
  },
  {
   "cell_type": "code",
   "execution_count": 97,
   "metadata": {},
   "outputs": [],
   "source": [
    "R_1 = katz_clipping_opt(G5,D5,L5,1/v5,0.85*v5,1,n,1)\n",
    "R_2 = katz_without_clipping(G5,D5,L5,0.85*v5,1,n,1)"
   ]
  },
  {
   "cell_type": "code",
   "execution_count": 98,
   "metadata": {},
   "outputs": [
    {
     "name": "stdout",
     "output_type": "stream",
     "text": [
      "[2.07426271 0.11643072 0.0682589  0.12385893 0.06600527]\n",
      "[2.53417976 0.12208406 0.20525825 0.60708249 0.28262079]\n",
      "[ 2.29207493 -0.77757153 -4.47707929  2.79675952 -0.63642432]\n",
      "[1.8070718  0.06914504 0.12610832 0.08086952 0.05940053]\n",
      "[1.83045206 0.08801497 0.04055512 0.07707001 0.03936289]\n",
      "(0.301981921054082, 0.11549680862838231, 0.10276910400161701)\n",
      "(1.4208407124913305, 0.06360316765880926, 0.3465996381048877)\n",
      "(1.546687822826463, 0.46997009957788405, 0.1277679540981966)\n",
      "(1.5463910297294454, 0.4695554294493486, 0.12754381108169396)\n"
     ]
    }
   ],
   "source": [
    "print(r_k[0:5])\n",
    "print(r_1[0:5])\n",
    "print(r_2[0:5])\n",
    "print(R_1[0:5])\n",
    "print(R_2[0:5])\n",
    "print(loss_bias_error(r_k,r_1,n))\n",
    "print(loss_bias_error(r_k,r_2,n))\n",
    "print(loss_bias_error(r_k,R_1,n))\n",
    "print(loss_bias_error(r_k,R_2,n))"
   ]
  },
  {
   "cell_type": "code",
   "execution_count": 116,
   "metadata": {},
   "outputs": [],
   "source": [
    "Q = []\n",
    "q = []\n",
    "for i in range(10):\n",
    "    Q.append(katz_clipping_opt(G5,D5,L5,1/v5,0.85*v5,1,n,1)[107])\n",
    "    q.append(katz_clipping_opt(G5,D5,L5,1/v5,0.85*v5,1,n,1)[1912])"
   ]
  },
  {
   "cell_type": "code",
   "execution_count": 117,
   "metadata": {},
   "outputs": [
    {
     "name": "stdout",
     "output_type": "stream",
     "text": [
      "9.393802269546262\n",
      "[5.482071341170261, 5.473362156233189, 5.461681513871752, 5.465173095487541, 5.465802131510458, 5.476684494097235, 5.454280403935455, 5.445795442792401, 5.469047681909932, 5.475051709221614]\n"
     ]
    }
   ],
   "source": [
    "print(r_k[107])\n",
    "print(Q)"
   ]
  },
  {
   "cell_type": "code",
   "execution_count": 118,
   "metadata": {},
   "outputs": [
    {
     "name": "stdout",
     "output_type": "stream",
     "text": [
      "0.00010748046829949355\n",
      "15.420600726996208\n",
      "15.420708207464509\n"
     ]
    }
   ],
   "source": [
    "print(np.var(Q))\n",
    "print((np.mean(Q)-r_k[107])**2)\n",
    "S = 0\n",
    "for i in range(10):\n",
    "    S += (r_k[107]-Q[i])**2\n",
    "print(S/10)"
   ]
  },
  {
   "cell_type": "code",
   "execution_count": 110,
   "metadata": {},
   "outputs": [
    {
     "name": "stdout",
     "output_type": "stream",
     "text": [
      "0.0002462342479022898\n",
      "0.0003008556664859364\n",
      "0.000547089914388226\n"
     ]
    }
   ],
   "source": [
    "print(np.var(q))\n",
    "print((np.mean(q)-r_k[2])**2)\n",
    "S = 0\n",
    "for i in range(10):\n",
    "    S += (r_k[2]-q[i])**2\n",
    "print(S/10)"
   ]
  },
  {
   "cell_type": "code",
   "execution_count": 111,
   "metadata": {},
   "outputs": [
    {
     "name": "stdout",
     "output_type": "stream",
     "text": [
      "0.6985063004411818\n"
     ]
    }
   ],
   "source": [
    "print(np.mean(r_k))"
   ]
  },
  {
   "cell_type": "code",
   "execution_count": 28,
   "metadata": {},
   "outputs": [
    {
     "data": {
      "application/vnd.jupyter.widget-view+json": {
       "model_id": "7b20a4a6575e44d6a939bb1b9c58a4fc",
       "version_major": 2,
       "version_minor": 0
      },
      "text/plain": [
       "HBox(children=(HTML(value=''), FloatProgress(value=0.0, max=60.0), HTML(value='')))"
      ]
     },
     "metadata": {},
     "output_type": "display_data"
    },
    {
     "name": "stdout",
     "output_type": "stream",
     "text": [
      "\n"
     ]
    },
    {
     "data": {
      "image/png": "[encoded data removed]",
      "text/plain": [
       "<Figure size 432x288 with 1 Axes>"
      ]
     },
     "metadata": {
      "needs_background": "light"
     },
     "output_type": "display_data"
    },
    {
     "name": "stdout",
     "output_type": "stream",
     "text": [
      "946.1759173870087\n"
     ]
    },
    {
     "data": {
      "text/plain": [
       "<Figure size 432x288 with 0 Axes>"
      ]
     },
     "metadata": {},
     "output_type": "display_data"
    }
   ],
   "source": [
    "t1 = time.time()\n",
    "alpha = 0.85*v5\n",
    "STEP = [i for i in range(10,16)]\n",
    "STEP,F1,F2 = plot_clipping_step(G5,D5,L5,0.85*v5,1/v5,STEP,ite=60)\n",
    "t2 = time.time()\n",
    "print(t2-t1)"
   ]
  },
  {
   "cell_type": "code",
   "execution_count": 27,
   "metadata": {},
   "outputs": [
    {
     "name": "stdout",
     "output_type": "stream",
     "text": [
      "[0.4333333333333333, 0.6216666666666671, 0.7433333333333332, 0.7216666666666668, 0.7216666666666669, 0.7050000000000002, 0.6633333333333334, 0.6400000000000001, 0.6483333333333334]\n",
      "[0.6598333333333338, 0.7981666666666668, 0.8700000000000006, 0.8941666666666677, 0.8985000000000005, 0.9030000000000005, 0.8996666666666671, 0.8896666666666675, 0.8841666666666671]\n"
     ]
    }
   ],
   "source": [
    "print(F1)\n",
    "print(F2)"
   ]
  },
  {
   "cell_type": "code",
   "execution_count": 15,
   "metadata": {},
   "outputs": [
    {
     "data": {
      "image/png": "[encoded data removed]",
      "text/plain": [
       "<Figure size 432x288 with 1 Axes>"
      ]
     },
     "metadata": {
      "needs_background": "light"
     },
     "output_type": "display_data"
    }
   ],
   "source": [
    "STEP = [i for i in range(1,10)]\n",
    "plt.plot(STEP,F1,'-s',label = 'top10')\n",
    "plt.plot(STEP,F2,'-s',label = 'top100')\n",
    "plt.xlabel('number of step S')\n",
    "plt.ylabel('proportion of top k nodes detected')\n",
    "plt.legend(loc = 'lower right')\n",
    "plt.show()"
   ]
  },
  {
   "cell_type": "code",
   "execution_count": 23,
   "metadata": {},
   "outputs": [
    {
     "name": "stdout",
     "output_type": "stream",
     "text": [
      "0.006296519199751052 0.006158623641304036\n"
     ]
    }
   ],
   "source": [
    "A1 = matrix_convertor(G1,D5)\n",
    "v1,_,_ = eig_max_avg(G1,A1)\n",
    "print(v1,v5)\n",
    "alpha1 = 0.85*v1"
   ]
  },
  {
   "cell_type": "code",
   "execution_count": 26,
   "metadata": {},
   "outputs": [
    {
     "data": {
      "application/vnd.jupyter.widget-view+json": {
       "model_id": "5954be450ce149fc8ecd59547366313c",
       "version_major": 2,
       "version_minor": 0
      },
      "text/plain": [
       "HBox(children=(HTML(value=''), FloatProgress(value=0.0, max=60.0), HTML(value='')))"
      ]
     },
     "metadata": {},
     "output_type": "display_data"
    },
    {
     "name": "stdout",
     "output_type": "stream",
     "text": [
      "\n"
     ]
    },
    {
     "data": {
      "image/png": "[encoded data removed]",
      "text/plain": [
       "<Figure size 432x288 with 1 Axes>"
      ]
     },
     "metadata": {
      "needs_background": "light"
     },
     "output_type": "display_data"
    },
    {
     "name": "stdout",
     "output_type": "stream",
     "text": [
      "1212.9958670139313\n"
     ]
    },
    {
     "data": {
      "text/plain": [
       "<Figure size 432x288 with 0 Axes>"
      ]
     },
     "metadata": {},
     "output_type": "display_data"
    }
   ],
   "source": [
    "t1 = time.time()\n",
    "alpha = 0.85*v1\n",
    "X = [i/(10*alpha1) for i in range(5,10)]+[i/(10*alpha1) for i in range(10,21,2)]\n",
    "plot_clipping_X(G1,D5,L5,0.85*v1,X,5,ite=60)\n",
    "t2=time.time()\n",
    "print(t2-t1)"
   ]
  },
  {
   "cell_type": "code",
   "execution_count": 36,
   "metadata": {},
   "outputs": [
    {
     "data": {
      "application/vnd.jupyter.widget-view+json": {
       "model_id": "97cff6d1214f4f86b81a14d072fa0a08",
       "version_major": 2,
       "version_minor": 0
      },
      "text/plain": [
       "HBox(children=(HTML(value=''), FloatProgress(value=0.0, max=60.0), HTML(value='')))"
      ]
     },
     "metadata": {},
     "output_type": "display_data"
    },
    {
     "name": "stdout",
     "output_type": "stream",
     "text": [
      "\n"
     ]
    },
    {
     "data": {
      "image/png": "[encoded data removed]",
      "text/plain": [
       "<Figure size 432x288 with 1 Axes>"
      ]
     },
     "metadata": {
      "needs_background": "light"
     },
     "output_type": "display_data"
    },
    {
     "name": "stdout",
     "output_type": "stream",
     "text": [
      "4923.35760140419\n"
     ]
    },
    {
     "data": {
      "text/plain": [
       "<Figure size 432x288 with 0 Axes>"
      ]
     },
     "metadata": {},
     "output_type": "display_data"
    }
   ],
   "source": [
    "t1 = time.time()\n",
    "alpha = 0.85*v1\n",
    "STEP = [i for i in range(1,10)] + [10+5*i for i in range(7)]\n",
    "plot_clipping_step(G1,D5,L5,0.85*v1,1/v1,STEP,ite=60)\n",
    "t2 = time.time()\n",
    "print(t2-t1)"
   ]
  },
  {
   "cell_type": "code",
   "execution_count": 6,
   "metadata": {},
   "outputs": [],
   "source": [
    "def deg_list(G):\n",
    "    L = []\n",
    "    for N in G.Nodes():\n",
    "        L.append(N.GetDeg())\n",
    "    L.sort()\n",
    "    return L\n",
    "\n",
    "def find_N(L,d):\n",
    "    a = 0\n",
    "    b = len(L)\n",
    "    while True:\n",
    "        N = (a+b)//2\n",
    "        if L[N]<=d and L[N+1]>d:\n",
    "            return len(L)-N+1\n",
    "        elif L[N]>d:\n",
    "            b = N-1\n",
    "        else: a = N+1\n",
    "\n",
    "            \n",
    "def find_N_d(L,X):\n",
    "    D = L[-1]\n",
    "    d = 0\n",
    "    N = 0\n",
    "    score = np.inf\n",
    "    while d<len(L):\n",
    "        d+=1\n",
    "        N = find_N(L,d)\n",
    "        s = N*X + d*D\n",
    "        if s > score:\n",
    "            d = d-1\n",
    "            N = find_N(L,d)\n",
    "            return d,N,score\n",
    "        score = s\n",
    "\n",
    "def find_X(L):\n",
    "    D = L[-1]\n",
    "    for X in range(D):\n",
    "        d,N,score = find_N_d(L,X)\n",
    "        if score<=X*X:\n",
    "            return D,X,N,d\n",
    "        \n",
    "def find_Nd(L):\n",
    "        d,N,_ = find_N_d(L,1,1)\n",
    "        return d,N"
   ]
  },
  {
   "cell_type": "code",
   "execution_count": 9,
   "metadata": {},
   "outputs": [
    {
     "data": {
      "image/png": "[encoded data removed]",
      "text/plain": [
       "<Figure size 432x288 with 1 Axes>"
      ]
     },
     "metadata": {
      "needs_background": "light"
     },
     "output_type": "display_data"
    },
    {
     "data": {
      "image/png": "[encoded data removed]",
      "text/plain": [
       "<Figure size 432x288 with 1 Axes>"
      ]
     },
     "metadata": {
      "needs_background": "light"
     },
     "output_type": "display_data"
    },
    {
     "data": {
      "image/png": "[encoded data removed]",
      "text/plain": [
       "<Figure size 432x288 with 1 Axes>"
      ]
     },
     "metadata": {
      "needs_background": "light"
     },
     "output_type": "display_data"
    },
    {
     "name": "stdout",
     "output_type": "stream",
     "text": [
      "1 1167\n"
     ]
    }
   ],
   "source": [
    "G5 = snap.LoadEdgeList(snap.TUNGraph, \"facebook_combined.txt\", 0, 1)\n",
    "#G1 = snap.GenRMat(4039, 88234, 0.6, 0.1, 0.15)\n",
    "G1 = snap.LoadEdgeList(snap.TUNGraph, \"lastfm4.txt\", 0, 1)\n",
    "N_G = G5.GetNodes()\n",
    "n = N_G\n",
    "v5 = 0.006158623641304036\n",
    "alpha = 0.85*v5\n",
    "Deg5 = np.array(deg_list(G5))\n",
    "Deg1 = np.array(deg_list(G1))\n",
    "X5 = [i for i in range(N_G)]\n",
    "N_1 = len(Deg1)\n",
    "X1 = [i for i in range(N_1)]\n",
    "_, ax = plt.subplots()\n",
    "ax.set_yscale('log')\n",
    "plt.plot(X5,Deg5,color = 'orange')\n",
    "plt.show()\n",
    "_, ax = plt.subplots()\n",
    "ax.set_yscale('log')\n",
    "plt.plot(X1,Deg1)\n",
    "plt.show()\n",
    "L5,D5 = [i for i in range(N_G)],[i for i in range(N_G)]\n",
    "L1,D1 = [i for i in range(N_1)],[i for i in range(N_1)]\n",
    "G3 = snap.LoadEdgeList(snap.TNGraph, \"Wiki-Vote.txt\", 0, 1)\n",
    "Deg3 = np.array(deg_list(G3))\n",
    "N_3 = len(deg_list(G3))\n",
    "X3 = [i for i in range(N_3)]\n",
    "_, ax = plt.subplots()\n",
    "ax.set_yscale('log')\n",
    "plt.plot(X3,Deg3,color = 'orange')\n",
    "plt.show()\n",
    "L3,D3 = node_convertor(G3)\n",
    "print(min(Deg3),max(Deg3))"
   ]
  },
  {
   "cell_type": "code",
   "execution_count": 11,
   "metadata": {},
   "outputs": [
    {
     "data": {
      "text/plain": [
       "0.698094550033857"
      ]
     },
     "execution_count": 11,
     "metadata": {},
     "output_type": "execute_result"
    }
   ],
   "source": [
    "np.mean(katz_by_graph_exploration(G5,D5,L5,alpha,40,N_G))"
   ]
  },
  {
   "cell_type": "code",
   "execution_count": 23,
   "metadata": {},
   "outputs": [
    {
     "data": {
      "text/plain": [
       "2.181453030262639"
      ]
     },
     "execution_count": 23,
     "metadata": {},
     "output_type": "execute_result"
    }
   ],
   "source": [
    "L1,D1 = node_convertor(G1)\n",
    "A1 = matrix_convertor_un(G1,D1)\n",
    "v1,_,_ = eig_max_avg(G1,A1)\n",
    "np.mean(katz_by_graph_exploration(G1,D1,L1,0.85*v1,40,N_1))"
   ]
  },
  {
   "cell_type": "code",
   "execution_count": 22,
   "metadata": {},
   "outputs": [
    {
     "name": "stdout",
     "output_type": "stream",
     "text": [
      "0.006158623641304036\n"
     ]
    }
   ],
   "source": [
    "print(v5)"
   ]
  },
  {
   "cell_type": "code",
   "execution_count": 12,
   "metadata": {},
   "outputs": [],
   "source": [
    "G2 = snap.TUNGraph.New()\n",
    "for i in range(1000):\n",
    "    G2.AddNode(i)\n",
    "for i in range(1000):\n",
    "    for j in range(i+1,1000):\n",
    "        if i//500==j//500:\n",
    "            if np.random.random()<0.5:\n",
    "                G2.AddEdge(i,j)\n",
    "        else:\n",
    "            if np.random.random()<0.05:\n",
    "                G2.AddEdge(i,j)\n",
    "G2.PrintInfo(\"Python type TNGraph\")"
   ]
  },
  {
   "cell_type": "code",
   "execution_count": 11,
   "metadata": {},
   "outputs": [
    {
     "name": "stdout",
     "output_type": "stream",
     "text": [
      "1152\n"
     ]
    },
    {
     "data": {
      "image/png": "[encoded data removed]",
      "text/plain": [
       "<Figure size 432x288 with 1 Axes>"
      ]
     },
     "metadata": {
      "needs_background": "light"
     },
     "output_type": "display_data"
    },
    {
     "name": "stdout",
     "output_type": "stream",
     "text": [
      "1 1002\n"
     ]
    }
   ],
   "source": [
    "G2 = snap.LoadEdgeList(snap.TUNGraph, \"deezer_europe_edges_2.txt\", 0, 1)\n",
    "N_2 = len(deg_list(G2))\n",
    "print(N_2)\n",
    "Deg2 = np.array(deg_list(G2))\n",
    "X2 = [i for i in range(N_2)]\n",
    "_, ax = plt.subplots()\n",
    "ax.set_yscale('log')\n",
    "plt.plot(X2,Deg2,color = 'orange')\n",
    "plt.show()\n",
    "L2,D2 = node_convertor(G2)\n",
    "print(min(Deg2),max(Deg2))"
   ]
  },
  {
   "cell_type": "code",
   "execution_count": 20,
   "metadata": {},
   "outputs": [
    {
     "name": "stdout",
     "output_type": "stream",
     "text": [
      "94581\n"
     ]
    }
   ],
   "source": [
    "S=0\n",
    "for N in G2.Nodes():\n",
    "    S+=N.GetDeg()\n",
    "print(S)"
   ]
  },
  {
   "cell_type": "code",
   "execution_count": 30,
   "metadata": {},
   "outputs": [
    {
     "name": "stdout",
     "output_type": "stream",
     "text": [
      "1152\n"
     ]
    }
   ],
   "source": [
    "print(len(L2))"
   ]
  },
  {
   "cell_type": "code",
   "execution_count": 25,
   "metadata": {},
   "outputs": [
    {
     "name": "stdout",
     "output_type": "stream",
     "text": [
      "0.006902847100368064 0.000998003992015968 0.012173729261333616\n"
     ]
    }
   ],
   "source": [
    "A2 = matrix_convertor_un(G2,D2)\n",
    "v2,m2,a2 = eig_max_avg(G2,A2)\n",
    "print(v2,m2,a2)"
   ]
  },
  {
   "cell_type": "code",
   "execution_count": 26,
   "metadata": {},
   "outputs": [
    {
     "name": "stdout",
     "output_type": "stream",
     "text": [
      "94581\n"
     ]
    }
   ],
   "source": [
    "P=0\n",
    "for i in range(1152):\n",
    "    for j in range(1152):\n",
    "        if A2[i,j]>0.5:\n",
    "            P+=1\n",
    "print(P)"
   ]
  },
  {
   "cell_type": "code",
   "execution_count": 23,
   "metadata": {},
   "outputs": [
    {
     "data": {
      "text/plain": [
       "94630"
      ]
     },
     "execution_count": 23,
     "metadata": {},
     "output_type": "execute_result"
    }
   ],
   "source": [
    "47315*2"
   ]
  },
  {
   "cell_type": "code",
   "execution_count": 8,
   "metadata": {},
   "outputs": [
    {
     "ename": "RuntimeError",
     "evalue": "Execution stopped: !IsNode(NId) [Reason:'NodeId 3 already exists'], file C:\\cygwin64\\home\\rok\\build\\snap\\snap-core\\graph.cpp, line 240",
     "output_type": "error",
     "traceback": [
      "\u001b[1;31m---------------------------------------------------------------------------\u001b[0m",
      "\u001b[1;31mRuntimeError\u001b[0m                              Traceback (most recent call last)",
      "\u001b[1;32m<ipython-input-8-2ea1199f6ee3>\u001b[0m in \u001b[0;36m<module>\u001b[1;34m\u001b[0m\n\u001b[0;32m      1\u001b[0m \u001b[0mG3\u001b[0m \u001b[1;33m=\u001b[0m \u001b[0msnap\u001b[0m\u001b[1;33m.\u001b[0m\u001b[0mLoadEdgeList\u001b[0m\u001b[1;33m(\u001b[0m\u001b[0msnap\u001b[0m\u001b[1;33m.\u001b[0m\u001b[0mTNGraph\u001b[0m\u001b[1;33m,\u001b[0m \u001b[1;34m\"Wiki-Vote.txt\"\u001b[0m\u001b[1;33m,\u001b[0m \u001b[1;36m0\u001b[0m\u001b[1;33m,\u001b[0m \u001b[1;36m1\u001b[0m\u001b[1;33m)\u001b[0m\u001b[1;33m\u001b[0m\u001b[1;33m\u001b[0m\u001b[0m\n\u001b[0;32m      2\u001b[0m \u001b[1;32mfor\u001b[0m \u001b[0mi\u001b[0m \u001b[1;32min\u001b[0m \u001b[0mrange\u001b[0m\u001b[1;33m(\u001b[0m\u001b[1;36m4000\u001b[0m\u001b[1;33m)\u001b[0m\u001b[1;33m:\u001b[0m\u001b[1;33m\u001b[0m\u001b[1;33m\u001b[0m\u001b[0m\n\u001b[1;32m----> 3\u001b[1;33m     \u001b[0mG3\u001b[0m\u001b[1;33m.\u001b[0m\u001b[0mAddNode\u001b[0m\u001b[1;33m(\u001b[0m\u001b[0mi\u001b[0m\u001b[1;33m)\u001b[0m\u001b[1;33m\u001b[0m\u001b[1;33m\u001b[0m\u001b[0m\n\u001b[0m\u001b[0;32m      4\u001b[0m \u001b[1;32mfor\u001b[0m \u001b[0mi\u001b[0m \u001b[1;32min\u001b[0m \u001b[0mrange\u001b[0m\u001b[1;33m(\u001b[0m\u001b[1;36m4000\u001b[0m\u001b[1;33m)\u001b[0m\u001b[1;33m:\u001b[0m\u001b[1;33m\u001b[0m\u001b[1;33m\u001b[0m\u001b[0m\n\u001b[0;32m      5\u001b[0m     \u001b[1;32mfor\u001b[0m \u001b[0mj\u001b[0m \u001b[1;32min\u001b[0m \u001b[0mrange\u001b[0m\u001b[1;33m(\u001b[0m\u001b[0mi\u001b[0m\u001b[1;33m+\u001b[0m\u001b[1;36m1\u001b[0m\u001b[1;33m,\u001b[0m\u001b[1;36m4000\u001b[0m\u001b[1;33m)\u001b[0m\u001b[1;33m:\u001b[0m\u001b[1;33m\u001b[0m\u001b[1;33m\u001b[0m\u001b[0m\n",
      "\u001b[1;31mRuntimeError\u001b[0m: Execution stopped: !IsNode(NId) [Reason:'NodeId 3 already exists'], file C:\\cygwin64\\home\\rok\\build\\snap\\snap-core\\graph.cpp, line 240"
     ]
    }
   ],
   "source": [
    "G3 = snap.LoadEdgeList(snap.TNGraph, \"Wiki-Vote.txt\", 0, 1)\n",
    "for i in range(4000):\n",
    "    G3.AddNode(i)\n",
    "for i in range(4000):\n",
    "    for j in range(i+1,4000):\n",
    "        if i//2000==j//2000:\n",
    "            if np.random.random()<0.5:\n",
    "                G3.AddEdge(i,j)\n",
    "        else:\n",
    "            if np.random.random()<0.05:\n",
    "                G3.AddEdge(i,j)\n",
    "G3.PrintInfo(\"Python type TNGraph\")"
   ]
  },
  {
   "cell_type": "code",
   "execution_count": 8,
   "metadata": {},
   "outputs": [
    {
     "data": {
      "image/png": "[encoded data removed]",
      "text/plain": [
       "<Figure size 432x288 with 1 Axes>"
      ]
     },
     "metadata": {
      "needs_background": "light"
     },
     "output_type": "display_data"
    },
    {
     "name": "stdout",
     "output_type": "stream",
     "text": [
      "1 1167\n"
     ]
    }
   ],
   "source": [
    "G3 = snap.LoadEdgeList(snap.TNGraph, \"Wiki-Vote.txt\", 0, 1)\n",
    "Deg3 = np.array(deg_list(G3))\n",
    "N_3 = len(deg_list(G3))\n",
    "X3 = [i for i in range(N_3)]\n",
    "_, ax = plt.subplots()\n",
    "ax.set_yscale('log')\n",
    "plt.plot(X3,Deg3,color = 'orange')\n",
    "plt.show()\n",
    "L3,D3 = node_convertor(G3)\n",
    "print(min(Deg3),max(Deg3))"
   ]
  },
  {
   "cell_type": "code",
   "execution_count": 9,
   "metadata": {},
   "outputs": [
    {
     "name": "stdout",
     "output_type": "stream",
     "text": [
      "0.022150996701210627 0.000856898029134533 0.03430932885841314\n"
     ]
    }
   ],
   "source": [
    "A3 = matrix_convertor(G3,D3)\n",
    "v3,m3,a3 = eig_max_avg(G3,A3)\n",
    "print(v3,m3,a3)"
   ]
  },
  {
   "cell_type": "code",
   "execution_count": 7,
   "metadata": {},
   "outputs": [
    {
     "name": "stdout",
     "output_type": "stream",
     "text": [
      "1045 605 414 110\n"
     ]
    }
   ],
   "source": [
    "deg  = deg_list(G5)\n",
    "D,X,N,d  = find_X(deg)\n",
    "print(D,X,N,d)"
   ]
  },
  {
   "cell_type": "code",
   "execution_count": 16,
   "metadata": {},
   "outputs": [
    {
     "name": "stdout",
     "output_type": "stream",
     "text": [
      "162.37394233563825 162.37394233563825 95.51408372684602\n"
     ]
    }
   ],
   "source": [
    "print(1/v5,0.85/alpha,0.5/alpha)"
   ]
  },
  {
   "cell_type": "code",
   "execution_count": 17,
   "metadata": {},
   "outputs": [],
   "source": [
    "R = [1,1,2]\n",
    "P = build_density(R,3,2)\n",
    "def test(P,n,k):\n",
    "    pointer = 0\n",
    "    used = 0\n",
    "    answer = []\n",
    "    while pointer<n:\n",
    "        if used>=k:\n",
    "            break\n",
    "        x = np.random.rand()\n",
    "        if x<P[pointer,used]:\n",
    "            answer.append(pointer)\n",
    "            used+=1\n",
    "        pointer+=1\n",
    "    return answer \n",
    "\n",
    "def freq(P,n,k,nb):\n",
    "    f1 = 0\n",
    "    f2 = 0\n",
    "    for _ in range(nb):\n",
    "        X = test(P,n,k)\n",
    "        a,b =  X[0],X[1]\n",
    "        if a==0 and b==2:\n",
    "            f1+=1/nb\n",
    "        elif a==0 and b==1:\n",
    "            f2+=1/nb\n",
    "    return f1,f2\n",
    "\n",
    "def freq2(P,n,k,nb):\n",
    "    f1 = 0\n",
    "    f2 = 0\n",
    "    for _ in range(nb):\n",
    "        X = one_time(P,n,k)\n",
    "        a,b = X[0],X[1]\n",
    "        if a+b==2 and a*b==0:\n",
    "            f1+=1/nb\n",
    "        elif a+b==1 and a*b==0:\n",
    "            f2+=1/nb\n",
    "    return f1,f2"
   ]
  },
  {
   "cell_type": "code",
   "execution_count": 91,
   "metadata": {},
   "outputs": [
    {
     "data": {
      "text/plain": [
       "(0.4001400000002594, 0.19881000000005805)"
      ]
     },
     "execution_count": 91,
     "metadata": {},
     "output_type": "execute_result"
    }
   ],
   "source": [
    "freq(P,3,2,100000)"
   ]
  },
  {
   "cell_type": "code",
   "execution_count": 94,
   "metadata": {},
   "outputs": [
    {
     "data": {
      "text/plain": [
       "(0.39919000000025845, 0.2009500000000602)"
      ]
     },
     "execution_count": 94,
     "metadata": {},
     "output_type": "execute_result"
    }
   ],
   "source": [
    "R2 = [.5,.5,1]\n",
    "P2 = build_density(R2,3,2)\n",
    "freq(P2,3,2,100000)"
   ]
  },
  {
   "cell_type": "code",
   "execution_count": 80,
   "metadata": {},
   "outputs": [],
   "source": [
    "def one_time(R,n,k):\n",
    "    I = [i for i in range(n)]\n",
    "    output = []\n",
    "    P = np.zeros(n)\n",
    "    r = sum(R)\n",
    "    for i in range(n):\n",
    "        P[i]=R[i]/r\n",
    "    for _ in range(k):\n",
    "        #print(max(P))\n",
    "        r = np.random.choice(I,p=P)\n",
    "        output.append(int(r))\n",
    "        #print(P[int(r)])\n",
    "        P[int(r)]=0\n",
    "        P=P/sum(P)\n",
    "    return output"
   ]
  },
  {
   "cell_type": "code",
   "execution_count": 85,
   "metadata": {},
   "outputs": [
    {
     "data": {
      "text/plain": [
       "[1, 3]"
      ]
     },
     "execution_count": 85,
     "metadata": {},
     "output_type": "execute_result"
    }
   ],
   "source": [
    "one_time(R,4,2)"
   ]
  },
  {
   "cell_type": "code",
   "execution_count": 93,
   "metadata": {},
   "outputs": [
    {
     "data": {
      "text/plain": [
       "(0.4180400000002773, 0.16832000000002756)"
      ]
     },
     "execution_count": 93,
     "metadata": {},
     "output_type": "execute_result"
    }
   ],
   "source": [
    "freq2(R,3,2,100000)"
   ]
  },
  {
   "cell_type": "code",
   "execution_count": 98,
   "metadata": {},
   "outputs": [
    {
     "name": "stdout",
     "output_type": "stream",
     "text": [
      "[1912, 1941, 1985, 2142, 2233, 2266, 2347, 2543, 2607, 3437]\n",
      "[107, 1684, 1912, 3437, 0, 2347, 2543, 1888, 1800, 2266]\n"
     ]
    },
    {
     "name": "stderr",
     "output_type": "stream",
     "text": [
      "<ipython-input-97-124d4f340755>:240: RuntimeWarning: overflow encountered in double_scalars\n",
      "  A[i,j]=A[i+1,j]+R[i]*A[i+1,j+1]\n",
      "<ipython-input-97-124d4f340755>:245: RuntimeWarning: invalid value encountered in double_scalars\n",
      "  P[i,j]=R[i]*A[i+1,j+1]/A[i,j]\n",
      "<ipython-input-97-124d4f340755>:245: RuntimeWarning: overflow encountered in double_scalars\n",
      "  P[i,j]=R[i]*A[i+1,j+1]/A[i,j]\n"
     ]
    }
   ],
   "source": [
    "n = N_G\n",
    "M7 = exponential2(G5,D5,L5,0.5/alpha,alpha,1,10,n)\n",
    "M4 = exponential(G5,D5,L5,0.5/alpha,alpha,2,10,n)\n",
    "print(M4)\n",
    "print(M7)"
   ]
  },
  {
   "cell_type": "code",
   "execution_count": 15,
   "metadata": {},
   "outputs": [
    {
     "name": "stdout",
     "output_type": "stream",
     "text": [
      "[107, 1684, 1912, 3437, 0, 2543, 2347, 1888, 1800, 1663]\n"
     ]
    }
   ],
   "source": [
    "r_6 = biggest_degree(G5,L5,n)\n",
    "R_6 = [(r_6[i],i) for i in range(len(r_6))]\n",
    "R_6 = sorted(R_6,key=lambda l : l[0],reverse = True)\n",
    "M6 = [R_6[i][1] for i in range(10)]\n",
    "print(M6)"
   ]
  },
  {
   "cell_type": "code",
   "execution_count": 42,
   "metadata": {},
   "outputs": [],
   "source": [
    "S1 = 0\n",
    "S2 = 0\n",
    "count = 0"
   ]
  },
  {
   "cell_type": "code",
   "execution_count": 55,
   "metadata": {},
   "outputs": [
    {
     "name": "stdout",
     "output_type": "stream",
     "text": [
      "0.34615384615384615\n",
      "0.23076923076923087\n"
     ]
    }
   ],
   "source": [
    "#maxDeg,X,N,d = find_X(Deg_O1)\n",
    "#print(X)\n",
    "n  = len(list(G5.Nodes()))\n",
    "alpha = 0.85*v5\n",
    "#print(alpha)\n",
    "X = 0.5/alpha\n",
    "#r_2 = katz_by_clipping_noise(G5,D5,L5, 0.85/alpha, alpha, 5, n,1)\n",
    "#r_3 = katz_clipping_opt(G5,D5,L5, 0.85/alpha, alpha, 5, n,1)\n",
    "#r_1 = katz_by_graph_exploration(G5,D5,L5, alpha, 40,n)\n",
    "r_2 = katz_clipping_opt(G5,D5,L5, 605, alpha, 10,n,1)\n",
    "r_3 = katz_without_clipping(G5,D5,L5, alpha, 10,n,1)\n",
    "#M4 = exponential(G5,D5,L5,0.5/alpha,alpha,5,10,n)\n",
    "#M5 = expo2(G5,D5,L5,0.5/alpha,alpha,5,10,n)\n",
    "#M7 = exponential2(G5,D5,L5,0.5/v5,alpha,5,10,n)\n",
    "#r_6 = katz_without_clipping(G5,D5,L5, alpha, 1,n,1)\n",
    "#r_7 = katz_without_clipping(G5,D5,L5, alpha, 5,n,1)\n",
    "\n",
    "R_1 = [(r_1[i],i) for i in range(len(r_1))]\n",
    "R_2 = [(r_2[i],i) for i in range(len(r_2))]\n",
    "R_3 = [(r_3[i],i) for i in range(len(r_3))]\n",
    "#R_6 = [(r_6[i],i) for i in range(len(r_6))]\n",
    "#R_7 = [(r_7[i],i) for i in range(len(r_7))]\n",
    "R_1 = sorted(R_1,key=lambda l : l[0],reverse = True)\n",
    "R_2 = sorted(R_2,key=lambda l : l[0],reverse = True)\n",
    "R_3 = sorted(R_3,key=lambda l : l[0],reverse = True)\n",
    "#R_6 = sorted(R_6,key=lambda l : l[0],reverse = True)\n",
    "#R_7 = sorted(R_7,key=lambda l : l[0],reverse = True)\n",
    "M1 = [R_1[i][1] for i in range(10)]\n",
    "M2 = [R_2[i][1] for i in range(10)]\n",
    "M3 = [R_3[i][1] for i in range(10)]\n",
    "#M6 = [R_6[i] for i in range(3)]\n",
    "#M7 = [R_7[i] for i in range(3)]\n",
    "\n",
    "#print(M1)\n",
    "#print(M6)\n",
    "#print(M7)\n",
    "#print(M2)\n",
    "#print(M3)\n",
    "#print(M3)\n",
    "#print(M4)\n",
    "#print(M5)\n",
    "#print(M7)\n",
    "#print(M6)\n",
    "for m in M1:\n",
    "    if m in M2:\n",
    "        S1+=0.1\n",
    "    if m in M3:\n",
    "        S2+=0.1\n",
    "count+=1\n",
    "print(S1/count)\n",
    "print(S2/count)"
   ]
  },
  {
   "cell_type": "code",
   "execution_count": 78,
   "metadata": {},
   "outputs": [
    {
     "name": "stdout",
     "output_type": "stream",
     "text": [
      "101.1611886003387\n"
     ]
    }
   ],
   "source": [
    "S = 0\n",
    "for i in range(10000):\n",
    "    S += np.random.laplace(scale = 1)\n",
    "print(S)"
   ]
  },
  {
   "cell_type": "code",
   "execution_count": 17,
   "metadata": {},
   "outputs": [
    {
     "name": "stdout",
     "output_type": "stream",
     "text": [
      "0.020939320380433724\n"
     ]
    },
    {
     "ename": "KeyboardInterrupt",
     "evalue": "",
     "output_type": "error",
     "traceback": [
      "\u001b[1;31m---------------------------------------------------------------------------\u001b[0m",
      "\u001b[1;31mKeyboardInterrupt\u001b[0m                         Traceback (most recent call last)",
      "\u001b[1;32m<ipython-input-17-6328593efe98>\u001b[0m in \u001b[0;36m<module>\u001b[1;34m\u001b[0m\n\u001b[0;32m     14\u001b[0m \u001b[0mr_2\u001b[0m \u001b[1;33m=\u001b[0m \u001b[0mkatz_by_clipping_noise\u001b[0m\u001b[1;33m(\u001b[0m\u001b[0mG1\u001b[0m\u001b[1;33m,\u001b[0m\u001b[0mD5\u001b[0m\u001b[1;33m,\u001b[0m\u001b[0mL5\u001b[0m\u001b[1;33m,\u001b[0m \u001b[1;36m0.85\u001b[0m\u001b[1;33m/\u001b[0m\u001b[0malpha\u001b[0m\u001b[1;33m,\u001b[0m \u001b[0malpha\u001b[0m\u001b[1;33m,\u001b[0m \u001b[1;36m5\u001b[0m\u001b[1;33m,\u001b[0m \u001b[0mn\u001b[0m\u001b[1;33m,\u001b[0m\u001b[1;36m1\u001b[0m\u001b[1;33m)\u001b[0m\u001b[1;33m\u001b[0m\u001b[1;33m\u001b[0m\u001b[0m\n\u001b[0;32m     15\u001b[0m \u001b[0mr_3\u001b[0m \u001b[1;33m=\u001b[0m \u001b[0mkatz_clipping_opt\u001b[0m\u001b[1;33m(\u001b[0m\u001b[0mG1\u001b[0m\u001b[1;33m,\u001b[0m\u001b[0mD5\u001b[0m\u001b[1;33m,\u001b[0m\u001b[0mL5\u001b[0m\u001b[1;33m,\u001b[0m \u001b[1;36m0.85\u001b[0m\u001b[1;33m/\u001b[0m\u001b[0malpha\u001b[0m\u001b[1;33m,\u001b[0m \u001b[0malpha\u001b[0m\u001b[1;33m,\u001b[0m \u001b[1;36m5\u001b[0m\u001b[1;33m,\u001b[0m \u001b[0mn\u001b[0m\u001b[1;33m,\u001b[0m\u001b[1;36m1\u001b[0m\u001b[1;33m)\u001b[0m\u001b[1;33m\u001b[0m\u001b[1;33m\u001b[0m\u001b[0m\n\u001b[1;32m---> 16\u001b[1;33m \u001b[0mr_1\u001b[0m \u001b[1;33m=\u001b[0m \u001b[0mkatz_by_graph_exploration\u001b[0m\u001b[1;33m(\u001b[0m\u001b[0mG1\u001b[0m\u001b[1;33m,\u001b[0m\u001b[0mD5\u001b[0m\u001b[1;33m,\u001b[0m\u001b[0mL5\u001b[0m\u001b[1;33m,\u001b[0m \u001b[0malpha\u001b[0m\u001b[1;33m,\u001b[0m \u001b[1;36m40\u001b[0m\u001b[1;33m,\u001b[0m\u001b[0mn\u001b[0m\u001b[1;33m)\u001b[0m\u001b[1;33m\u001b[0m\u001b[1;33m\u001b[0m\u001b[0m\n\u001b[0m\u001b[0;32m     17\u001b[0m \u001b[0mr_4\u001b[0m \u001b[1;33m=\u001b[0m \u001b[0mbiggest_degree\u001b[0m\u001b[1;33m(\u001b[0m\u001b[0mG1\u001b[0m\u001b[1;33m,\u001b[0m\u001b[0mL5\u001b[0m\u001b[1;33m,\u001b[0m\u001b[0mn\u001b[0m\u001b[1;33m)\u001b[0m\u001b[1;33m\u001b[0m\u001b[1;33m\u001b[0m\u001b[0m\n\u001b[0;32m     18\u001b[0m \u001b[1;33m\u001b[0m\u001b[0m\n",
      "\u001b[1;32m<ipython-input-14-1bdb01916c75>\u001b[0m in \u001b[0;36mkatz_by_graph_exploration\u001b[1;34m(G, D, L, alpha, count, n)\u001b[0m\n\u001b[0;32m    180\u001b[0m         \u001b[1;32mfor\u001b[0m \u001b[0mi\u001b[0m \u001b[1;32min\u001b[0m \u001b[0mrange\u001b[0m\u001b[1;33m(\u001b[0m\u001b[0mn\u001b[0m\u001b[1;33m)\u001b[0m\u001b[1;33m:\u001b[0m\u001b[1;33m\u001b[0m\u001b[1;33m\u001b[0m\u001b[0m\n\u001b[0;32m    181\u001b[0m             \u001b[1;32mfor\u001b[0m \u001b[0me\u001b[0m \u001b[1;32min\u001b[0m \u001b[0mG\u001b[0m\u001b[1;33m.\u001b[0m\u001b[0mGetNI\u001b[0m\u001b[1;33m(\u001b[0m\u001b[0mL\u001b[0m\u001b[1;33m[\u001b[0m\u001b[0mi\u001b[0m\u001b[1;33m]\u001b[0m\u001b[1;33m)\u001b[0m\u001b[1;33m.\u001b[0m\u001b[0mGetOutEdges\u001b[0m\u001b[1;33m(\u001b[0m\u001b[1;33m)\u001b[0m\u001b[1;33m:\u001b[0m\u001b[1;33m\u001b[0m\u001b[1;33m\u001b[0m\u001b[0m\n\u001b[1;32m--> 182\u001b[1;33m                 \u001b[0mB\u001b[0m\u001b[1;33m[\u001b[0m\u001b[0mi\u001b[0m\u001b[1;33m]\u001b[0m\u001b[1;33m+=\u001b[0m\u001b[0malpha\u001b[0m\u001b[1;33m*\u001b[0m\u001b[0mC\u001b[0m\u001b[1;33m[\u001b[0m\u001b[0mD\u001b[0m\u001b[1;33m[\u001b[0m\u001b[0me\u001b[0m\u001b[1;33m]\u001b[0m\u001b[1;33m]\u001b[0m\u001b[1;33m\u001b[0m\u001b[1;33m\u001b[0m\u001b[0m\n\u001b[0m\u001b[0;32m    183\u001b[0m                 \u001b[0mX\u001b[0m\u001b[1;33m[\u001b[0m\u001b[0mi\u001b[0m\u001b[1;33m]\u001b[0m\u001b[1;33m+=\u001b[0m\u001b[0malpha\u001b[0m\u001b[1;33m*\u001b[0m\u001b[0mC\u001b[0m\u001b[1;33m[\u001b[0m\u001b[0mD\u001b[0m\u001b[1;33m[\u001b[0m\u001b[0me\u001b[0m\u001b[1;33m]\u001b[0m\u001b[1;33m]\u001b[0m\u001b[1;33m\u001b[0m\u001b[1;33m\u001b[0m\u001b[0m\n\u001b[0;32m    184\u001b[0m         \u001b[1;32mfor\u001b[0m \u001b[0mi\u001b[0m \u001b[1;32min\u001b[0m \u001b[0mrange\u001b[0m\u001b[1;33m(\u001b[0m\u001b[0mn\u001b[0m\u001b[1;33m)\u001b[0m\u001b[1;33m:\u001b[0m\u001b[1;33m\u001b[0m\u001b[1;33m\u001b[0m\u001b[0m\n",
      "\u001b[1;31mKeyboardInterrupt\u001b[0m: "
     ]
    }
   ],
   "source": [
    "#maxDeg,X,N,d = find_X(Deg_O1)\n",
    "#print(X)\n",
    "n  = len(list(G5.Nodes()))\n",
    "alpha = 0.85*v5\n",
    "#print(alpha)\n",
    "X = 0.5/alpha\n",
    "#print(X)\n",
    "noise = alpha/(1-alpha*X)+2*alpha**3*X**2/((1-alpha*X)**2)\n",
    "print(noise)\n",
    "#Y = max(np.sqrt(maxDeg*d),N)\n",
    "#print(phi*Y*alpha)\n",
    "#b_th = alpha**2*phi*Y*(maxDeg-X)/(1-alpha*phi*Y)\n",
    "#print(b_th)\n",
    "r_2 = katz_by_clipping_noise(G1,D5,L5, 0.85/alpha, alpha, 5, n,1)\n",
    "r_3 = katz_clipping_opt(G1,D5,L5, 0.85/alpha, alpha, 5, n,1)\n",
    "r_1 = katz_by_graph_exploration(G1,D5,L5, alpha, 40,n)\n",
    "r_4 = biggest_degree(G1,L5,n)\n",
    "\n",
    "R_1 = [(r_1[i],i) for i in range(len(r_1))]\n",
    "R_2 = [(r_2[i],i) for i in range(len(r_2))]\n",
    "R_3 = [(r_3[i],i) for i in range(len(r_3))]\n",
    "R_4 = [(r_4[i],i) for i in range(len(r_4))]\n",
    "R_1 = sorted(R_1,key=lambda l : l[0],reverse = True)\n",
    "R_2 = sorted(R_2,key=lambda l : l[0],reverse = True)\n",
    "R_3 = sorted(R_3,key=lambda l : l[0],reverse = True)\n",
    "R_4 = sorted(R_4,key=lambda l : l[0],reverse = True)\n",
    "M1 = [R_1[i][1] for i in range(10)]\n",
    "M2 = [R_2[i][1] for i in range(10)]\n",
    "M3 = [R_3[i][1] for i in range(10)]\n",
    "M4 = [R_4[i][1] for i in range(10)]\n",
    "\n",
    "print(M1)\n",
    "print(M2)\n",
    "print(M3)\n",
    "print(M4)\n",
    "print(M5)"
   ]
  },
  {
   "cell_type": "code",
   "execution_count": 49,
   "metadata": {},
   "outputs": [
    {
     "name": "stdout",
     "output_type": "stream",
     "text": [
      "[765, 952, 527, 899, 517, 863, 520, 681, 925, 682]\n",
      "[952, 765, 10, 527, 255, 899, 681, 443, 591, 639]\n"
     ]
    }
   ],
   "source": [
    "#maxDeg,X,N,d = find_X(Deg_O1)\n",
    "#print(X)\n",
    "n  = 1000\n",
    "alpha = 0.85*v2\n",
    "#print(alpha)\n",
    "X = 1/v2\n",
    "#print(X)\n",
    "#noise = alpha/(1-alpha*X)+2*alpha**3*X**2/((1-alpha*X)**2)\n",
    "#print(noise)\n",
    "#Y = max(np.sqrt(maxDeg*d),N)\n",
    "#print(phi*Y*alpha)\n",
    "#b_th = alpha**2*phi*Y*(maxDeg-X)/(1-alpha*phi*Y)\n",
    "#print(b_th)\n",
    "#r_2 = katz_by_clipping_noise(G1,D5,L5, 0.85/alpha, alpha, 5, n,1)\n",
    "#r_3 = katz_clipping_opt(G1,D5,L5, 0.85/alpha, alpha, 5, n,1)\n",
    "r_1 = katz_by_graph_exploration(G2,D2,L2, alpha, 80,n)\n",
    "r_4 = biggest_degree(G2,L2,n)\n",
    "\n",
    "R_1 = [(r_1[i],i) for i in range(len(r_1))]\n",
    "#R_2 = [(r_2[i],i) for i in range(len(r_2))]\n",
    "#R_3 = [(r_3[i],i) for i in range(len(r_3))]\n",
    "R_4 = [(r_4[i],i) for i in range(len(r_4))]\n",
    "R_1 = sorted(R_1,key=lambda l : l[0],reverse = True)\n",
    "#R_2 = sorted(R_2,key=lambda l : l[0],reverse = True)\n",
    "#R_3 = sorted(R_3,key=lambda l : l[0],reverse = True)\n",
    "R_4 = sorted(R_4,key=lambda l : l[0],reverse = True)\n",
    "M1 = [R_1[i][1] for i in range(10)]\n",
    "#M2 = [R_2[i][1] for i in range(10)]\n",
    "#M3 = [R_3[i][1] for i in range(10)]\n",
    "M4 = [R_4[i][1] for i in range(10)]\n",
    "\n",
    "print(M1)\n",
    "#print(M2)\n",
    "#print(M3)\n",
    "print(M4)\n",
    "#print(M5)"
   ]
  },
  {
   "cell_type": "markdown",
   "metadata": {},
   "source": [
    "# End"
   ]
  },
  {
   "cell_type": "code",
   "execution_count": 36,
   "metadata": {},
   "outputs": [
    {
     "name": "stdout",
     "output_type": "stream",
     "text": [
      "[1912, 107, 2347, 2543, 2266, 2233, 2206, 1985, 2142, 2218]\n",
      "[107, 1684, 1912, 3437, 0, 2543, 2347, 1888, 1800, 1352, 1663, 2266, 348, 483, 1941]\n"
     ]
    }
   ],
   "source": [
    "print([R_1[i][1] for i in range(10)])\n",
    "print([R_4[i][1] for i in range(15)])"
   ]
  },
  {
   "cell_type": "code",
   "execution_count": 40,
   "metadata": {},
   "outputs": [
    {
     "name": "stdout",
     "output_type": "stream",
     "text": [
      "[1912, 107, 2347, 2543, 2266, 2233, 2206, 1985, 2142, 2218]\n",
      "[2, 0, 6, 5, 11, 17, 22, 15, 18, 26]\n"
     ]
    }
   ],
   "source": [
    "print([R_1[i][1] for i in range(10)])\n",
    "print([look_for(R_1[i][1],R_4) for i in range(10)])"
   ]
  },
  {
   "cell_type": "code",
   "execution_count": 38,
   "metadata": {},
   "outputs": [],
   "source": [
    "def look_for(x,R):\n",
    "    for i in range(len(R)):\n",
    "        if R[i][1]==x:\n",
    "            return i\n",
    "    return -1"
   ]
  },
  {
   "cell_type": "code",
   "execution_count": 51,
   "metadata": {},
   "outputs": [],
   "source": [
    "def frequency(nb_tour,nb_step,x_alpha=0.85,choose_X=False):\n",
    "    t1 = time.time()\n",
    "    f1 = 0\n",
    "    f2 = 0\n",
    "    f3 = 0\n",
    "    for i in range(nb_tour):\n",
    "        L1 = extract_subgraph2(G5,1000)\n",
    "        G_O1 = G5.GetSubGraph(L1)\n",
    "        L_O1, D_O1 = node_convertor(G_O1)\n",
    "        A_O1 = matrix_convertor(G_O1,D_O1)\n",
    "        v_O1,_,_ = eig_max_avg(G_O1,A_O1)\n",
    "        n = len(list(G_O1.Nodes()))\n",
    "        alpha = 0.95*v_O1\n",
    "        if choose_X:\n",
    "            Deg_G = deg_list(G_O1)\n",
    "            maxDeg,x,Number,d = find_X(Deg_G)\n",
    "        else:\n",
    "            x = x_alpha/alpha\n",
    "            \n",
    "        \n",
    "        r_2 = katz_by_clipping_noise(G_O1,D_O1,L_O1, x, alpha, 40, n,1)\n",
    "        r_3 = katz_clipping_local(G_O1,D_O1,L_O1, x, alpha, nb_step, n,1)\n",
    "        r_1 = katz_by_graph_exploration(G_O1,D_O1,L_O1, alpha, 40,n)\n",
    "        r_4 = biggest_degree(G_O1,L_O1,n)\n",
    "\n",
    "        R_1 = [(r_1[i],i) for i in range(len(r_1))]\n",
    "        R_2 = [(r_2[i],i) for i in range(len(r_2))]\n",
    "        R_3 = [(r_3[i],i) for i in range(len(r_3))]\n",
    "        R_4 = [(r_4[i],i) for i in range(len(r_4))]\n",
    "        \n",
    "        R_1 = sorted(R_1,key=lambda l : l[0],reverse = True)\n",
    "        R_2 = sorted(R_2,key=lambda l : l[0],reverse = True)\n",
    "        R_3 = sorted(R_3,key=lambda l : l[0],reverse = True)\n",
    "        R_4 = sorted(R_4,key=lambda l : l[0],reverse = True)\n",
    "        \n",
    "        M1 = [R_1[i][1] for i in range(10)]\n",
    "        M2 = [R_2[i][1] for i in range(10)]\n",
    "        M3 = [R_3[i][1] for i in range(10)]\n",
    "        M4 = [R_4[i][1] for i in range(10)]\n",
    "        \n",
    "        for m in M1:\n",
    "            if m in M2:\n",
    "                f1+=1\n",
    "            if m in M3:\n",
    "                f2+=1\n",
    "            if m in M4:\n",
    "                f3+=1\n",
    "                \n",
    "    f1 = f1/(10*nb_tour)\n",
    "    f2 = f2/(10*nb_tour)\n",
    "    f3 = f3/(10*nb_tour)\n",
    "    \n",
    "    t2 = time.time()\n",
    "    #print(t2-t1)\n",
    "    \n",
    "    return f1,f2,f3\n",
    "\n",
    "def frequency2(nb_tour,nb_step,x_alpha=0.85,choose_X=False):\n",
    "    t1 = time.time()\n",
    "    f1 = 0\n",
    "    f2 = 0\n",
    "    f3 = 0\n",
    "    for i in range(nb_tour):\n",
    "        G_O1 = snap.GenRMat(1000, 10000, 0.6, 0.1, 0.15)\n",
    "        L_O1, D_O1 = node_convertor(G_O1)\n",
    "        A_O1 = matrix_convertor(G_O1,D_O1)\n",
    "        v_O1,_,_ = eig_max_avg(G_O1,A_O1)\n",
    "        n = len(list(G_O1.Nodes()))\n",
    "        alpha = 0.85*v_O1\n",
    "        if choose_X:\n",
    "            Deg_G = deg_list(G_O1)\n",
    "            maxDeg,x,Number,d = find_X(Deg_G)\n",
    "        else:\n",
    "            x = x_alpha/alpha\n",
    "        \n",
    "        r_2 = katz_by_clipping_noise(G_O1,D_O1,L_O1, x, nb_step, 40, n,1)\n",
    "        r_3 = katz_clipping_local(G_O1,D_O1,L_O1, x, alpha, nb_step, n,1)\n",
    "        r_1 = katz_by_graph_exploration(G_O1,D_O1,L_O1, alpha, 40,n)\n",
    "        r_4 = biggest_degree(G_O1,L_O1,n)\n",
    "\n",
    "        R_1 = [(r_1[i],i) for i in range(len(r_1))]\n",
    "        R_2 = [(r_2[i],i) for i in range(len(r_2))]\n",
    "        R_3 = [(r_3[i],i) for i in range(len(r_3))]\n",
    "        R_4 = [(r_4[i],i) for i in range(len(r_4))]\n",
    "        \n",
    "        R_1 = sorted(R_1,key=lambda l : l[0],reverse = True)\n",
    "        R_2 = sorted(R_2,key=lambda l : l[0],reverse = True)\n",
    "        R_3 = sorted(R_3,key=lambda l : l[0],reverse = True)\n",
    "        R_4 = sorted(R_4,key=lambda l : l[0],reverse = True)\n",
    "        \n",
    "        M1 = [R_1[i][1] for i in range(10)]\n",
    "        M2 = [R_2[i][1] for i in range(10)]\n",
    "        M3 = [R_3[i][1] for i in range(10)]\n",
    "        M4 = [R_4[i][1] for i in range(10)]\n",
    "        \n",
    "        for m in M1:\n",
    "            if m in M2:\n",
    "                f1+=1\n",
    "            if m in M3:\n",
    "                f2+=1\n",
    "            if m in M4:\n",
    "                f3+=1\n",
    "                \n",
    "    f1 = f1/(10*nb_tour)\n",
    "    f2 = f2/(10*nb_tour)\n",
    "    f3 = f3/(10*nb_tour)\n",
    "    \n",
    "    t2 = time.time()\n",
    "    print(t2-t1)\n",
    "    \n",
    "    return f1,f2,f3\n",
    "            \n",
    "def freq(G,D,L,v,nb_step1,nb_step2,n_big = 10,x_alpha1=0.5,x_alpha2=0.85,choose_X=False):\n",
    "    t1 = time.time()\n",
    "    f1 = 0\n",
    "    f2 = 0\n",
    "    f3 = 0\n",
    "    if True:\n",
    "        n  = len(list(G.Nodes()))\n",
    "        alpha = 0.85*v\n",
    "        x1 = x_alpha1/alpha\n",
    "        x2 = x_alpha2/alpha            \n",
    "        \n",
    "        r_2 = katz_by_clipping_noise(G,D,L, x1, alpha, nb_step1, n,1)\n",
    "        r_3 = katz_clipping_local(G,D,L, x2, alpha, nb_step2, n,1)\n",
    "        r_1 = katz_by_graph_exploration(G,D,L, alpha, 40,n)\n",
    "        r_4 = biggest_degree(G,L,n)\n",
    "\n",
    "        R_1 = [(r_1[i],i) for i in range(len(r_1))]\n",
    "        R_2 = [(r_2[i],i) for i in range(len(r_2))]\n",
    "        R_3 = [(r_3[i],i) for i in range(len(r_3))]\n",
    "        R_4 = [(r_4[i],i) for i in range(len(r_4))]\n",
    "        \n",
    "        R_1 = sorted(R_1,key=lambda l : l[0],reverse = True)\n",
    "        R_2 = sorted(R_2,key=lambda l : l[0],reverse = True)\n",
    "        R_3 = sorted(R_3,key=lambda l : l[0],reverse = True)\n",
    "        R_4 = sorted(R_4,key=lambda l : l[0],reverse = True)\n",
    "        \n",
    "        M1 = [R_1[i][1] for i in range(n_big)]\n",
    "        M2 = [R_2[i][1] for i in range(n_big)]\n",
    "        M3 = [R_3[i][1] for i in range(n_big)]\n",
    "        M4 = [R_4[i][1] for i in range(n_big)]\n",
    "        \n",
    "        print(M1)\n",
    "        print(M2)\n",
    "        print(M3)\n",
    "        print(M4)\n",
    "        \n",
    "        for m in M1:\n",
    "            if m in M2:\n",
    "                f1+=1\n",
    "            if m in M3:\n",
    "                f2+=1\n",
    "            if m in M4:\n",
    "                f3+=1\n",
    "                \n",
    "    f1 = f1/n_big\n",
    "    f2 = f2/n_big\n",
    "    f3 = f3/n_big\n",
    "    \n",
    "    t2 = time.time()\n",
    "    #print(t2-t1)\n",
    "    \n",
    "    return f1,f2,f3"
   ]
  },
  {
   "cell_type": "code",
   "execution_count": 52,
   "metadata": {},
   "outputs": [
    {
     "name": "stdout",
     "output_type": "stream",
     "text": [
      "[1912, 107, 2347, 2543, 2266, 2233, 2206, 1985, 2142, 2218]\n",
      "[107, 1912, 1684, 3437, 2543, 2347, 1985, 1888, 1800, 1941]\n",
      "[107, 1912, 1684, 2347, 2543, 3437, 1985, 2233, 2266, 2142]\n",
      "[107, 1684, 1912, 3437, 0, 2543, 2347, 1888, 1800, 1663]\n"
     ]
    },
    {
     "data": {
      "text/plain": [
       "(0.5, 0.8, 0.4)"
      ]
     },
     "execution_count": 52,
     "metadata": {},
     "output_type": "execute_result"
    }
   ],
   "source": [
    "freq(G5,D5,L5,v5,40,3,10)"
   ]
  },
  {
   "cell_type": "code",
   "execution_count": 46,
   "metadata": {},
   "outputs": [],
   "source": [
    "def grid_search(nb_tour):\n",
    "    print(\"begin\")\n",
    "    x1_opt = 0\n",
    "    opt1 = 0\n",
    "    x2_opt = 0\n",
    "    n=0\n",
    "    opt2 = 0\n",
    "    for x_alpha in np.linspace(0.05,0.95,10):\n",
    "        f1,f2,f3 = frequency(nb_tour,5,x_alpha=x_alpha)\n",
    "        if f1>opt1:\n",
    "            x1_opt = x_alpha\n",
    "            opt1 = f1\n",
    "        if f2>opt2:\n",
    "            opt2 = f2\n",
    "            x2_opt = x_alpha\n",
    "        print(x_alpha,f1,f2,f3)\n",
    "    print(\"end\")\n",
    "    print(x1_opt,opt1)\n",
    "    print(x2_opt,n,opt2)\n",
    "    \n",
    "def grid_search2(nb_tour):\n",
    "    print(\"begin\")\n",
    "    x1_opt = 0\n",
    "    opt1 = 0\n",
    "    x2_opt = 0\n",
    "    n=0\n",
    "    opt2 = 0\n",
    "    for x_alpha in np.linspace(0.05,0.95,10):\n",
    "        f1,f2,f3 = frequency2(nb_tour,5,x_alpha=x_alpha)\n",
    "        if f1>opt1:\n",
    "            x1_opt = x_alpha\n",
    "            opt1 = f1\n",
    "        if f2>opt2:\n",
    "            opt2 = f2\n",
    "            x2_opt = x_alpha\n",
    "        print(x_alpha,f1,f2,f3)\n",
    "    print(\"end\")\n",
    "    print(x1_opt,opt1)\n",
    "    print(x2_opt,n,opt2)"
   ]
  },
  {
   "cell_type": "code",
   "execution_count": 35,
   "metadata": {
    "scrolled": true
   },
   "outputs": [
    {
     "data": {
      "text/plain": [
       "(0.73, 0.75, 0.71)"
      ]
     },
     "execution_count": 35,
     "metadata": {},
     "output_type": "execute_result"
    }
   ],
   "source": [
    "frequency(10,2,x_alpha = 0.5)"
   ]
  },
  {
   "cell_type": "code",
   "execution_count": 34,
   "metadata": {},
   "outputs": [],
   "source": [
    "#frequency2(10,5,x_alpha = 0.5)"
   ]
  },
  {
   "cell_type": "code",
   "execution_count": 89,
   "metadata": {},
   "outputs": [],
   "source": [
    "def biggest(L,nb):\n",
    "    a = [(L[i],i) for i in range(len(L))]\n",
    "    b = sorted(a,key = lambda l : l[0],reverse = True)\n",
    "    c = np.array([b[i][0] for i in range(nb)])\n",
    "    return c\n",
    "    \n",
    "    \n",
    "def plot_biggest_global(G, Alpha, count = 40, choose_X = False, extract=False,N=1000,eps=1,big = 50):\n",
    "    bias_th = 1\n",
    "    if choose_X:\n",
    "        Deg_G = deg_list(G)\n",
    "        maxDeg,x,Number,d = find_X(Deg_G)\n",
    "        Y = max(Number,np.sqrt(maxDeg*d))\n",
    "    if extract:\n",
    "        n=2*N\n",
    "        while n>1.2*N:\n",
    "            L = extract_subgraph2(G,N)\n",
    "            G1 = G.GetSubGraph(L)\n",
    "            n = len(list(G1.Nodes()))\n",
    "    else:\n",
    "        G1=G\n",
    "        n = len(list(G1.Nodes()))\n",
    "    n = len(list(G1.Nodes()))\n",
    "\n",
    "    E1 = [0]*len(Alpha)           \n",
    "    B1 = [0]*len(Alpha)\n",
    "    B2 = [0]*len(Alpha)\n",
    "    B3 = [0]*len(Alpha)\n",
    "    R1 = [0]*len(Alpha)\n",
    "    R2 = [0]*len(Alpha)\n",
    "    S = [0]*len(Alpha)\n",
    "    avg = [0]*len(Alpha)\n",
    "    max_k = [0]*len(Alpha)\n",
    "    L,D = node_convertor(G1)\n",
    "    #A = matrix_convertor(G1,D)\n",
    "    #r_k = katz_matrix(A,alpha)\n",
    "    for i in range(len(Alpha)):\n",
    "        alpha = Alpha[i]\n",
    "        if not(choose_X):\n",
    "            x = 0.85/alpha\n",
    "        r_k = katz_by_graph_exploration(G1,D,L,alpha,count,n)\n",
    "        for r in range(n):\n",
    "            r_k[r] = max(r_k[r],1e-5)\n",
    "        r_k = biggest(r_k,big)\n",
    "        n_k1 = katz_by_clipping_noise(G1,D,L,x,alpha,count,n,eps)\n",
    "        n_k1 = biggest(n_k1,big)\n",
    "        e1,b1,r1 = loss_bias_error(r_k,n_k1,big)\n",
    "        \n",
    "        if choose_X and alpha*phi*Y<1:\n",
    "            bias_th = alpha**2*phi*Y*(maxDeg-X)/(1-alpha*phi*Y)\n",
    "        E1[i] = np.sqrt(e1) \n",
    "        B1[i] = b1\n",
    "        B2[i] = bias_th\n",
    "        B3[i] = max(r_k-n_k1)\n",
    "        R1[i] = r1\n",
    "        R2[i] = max((r_k-n_k1)/r_k)\n",
    "        avg[i] = np.mean(r_k)\n",
    "        max_k[i] = max(r_k)\n",
    "        S[i] = alpha/(1-alpha*x)\n",
    "        \n",
    "\n",
    "    if False:\n",
    "        _, ax = plt.subplots()\n",
    "        ax.set_yscale('log')\n",
    "        plt.plot(Alpha,E1,label = 'loss')\n",
    "        plt.legend(loc = 'upper right')\n",
    "        plt.show()\n",
    "\n",
    "        plt.clf()\n",
    "    \n",
    "    if True:\n",
    "        \n",
    "        _, ax = plt.subplots()\n",
    "        ax.set_yscale('log')\n",
    "        plt.plot(Alpha,R2,label = 'max_relative_err')\n",
    "        plt.plot(Alpha,R1,label = 'avg_relative_err')\n",
    "        plt.legend(loc = 'lower right')\n",
    "        plt.show()\n",
    "        plt.clf()\n",
    "    \n",
    "    if True:\n",
    "        _, ax = plt.subplots()\n",
    "        ax.set_yscale('log')\n",
    "        if choose_X:\n",
    "            plt.plot(Alpha,B2,label = 'th')\n",
    "        plt.plot(Alpha,E1,label = 'loss')\n",
    "        plt.plot(Alpha,max_k,label = 'max_katz_value')\n",
    "        #plt.plot(Alpha,avg,label=  'avg_katz_value')\n",
    "        plt.plot(Alpha,B3,label = 'bias_max')\n",
    "        plt.plot(Alpha,B1,label = 'bias_avg')\n",
    "        plt.plot(Alpha,S,label = \"sensitivity\")\n",
    "        plt.legend(loc = 'upper left')\n",
    "        plt.show()\n",
    "        plt.clf()\n",
    "        \n",
    "    if False:\n",
    "        _, ax = plt.subplots()\n",
    "        ax.set_yscale('log')\n",
    "        H = [B3[i]/max_k[i] for i in range(len(Alpha))]\n",
    "        plt.plot(Alpha,H)\n",
    "        plt.show()\n",
    "        plt.clf()\n",
    "\n",
    "def plot_biggest_local(G, Alpha, count = 40, eps = 1,choose_X = False, extract=False,N=1000):\n",
    "    bias_th = 1\n",
    "    s = 1\n",
    "    if choose_X:\n",
    "        Deg_G = deg_list(G)\n",
    "        maxDeg,x,Number,d = find_X(Deg_G)\n",
    "        gamma = max(1/eps,Number)\n",
    "        l = max(x,np.sqrt(maxDeg*d),np.sqrt(Number*d))\n",
    "        R = max(x,Number,np.sqrt(d*maxDeg))\n",
    "    if extract:\n",
    "        n=2*N\n",
    "        while n>1.2*N:\n",
    "            L = extract_subgraph2(G,N)\n",
    "            G1 = G.GetSubGraph(L)\n",
    "            n = len(list(G1.Nodes()))\n",
    "    else:\n",
    "        G1=G\n",
    "        n = len(list(G1.Nodes()))\n",
    "    n = len(list(G1.Nodes()))\n",
    "\n",
    "    E1 = [0]*len(Alpha)           \n",
    "    B1 = [0]*len(Alpha)\n",
    "    B2 = [0]*len(Alpha)\n",
    "    B3 = [0]*len(Alpha)\n",
    "    R1 = [0]*len(Alpha)\n",
    "    R2 = [0]*len(Alpha)\n",
    "    S = [0]*len(Alpha)\n",
    "    avg = [0]*len(Alpha)\n",
    "    max_k = [0]*len(Alpha)\n",
    "    L,D = node_convertor(G1)\n",
    "    #A = matrix_convertor(G1,D)\n",
    "    #r_k = katz_matrix(A,alpha)\n",
    "    for i in range(len(Alpha)):\n",
    "        alpha = Alpha[i]\n",
    "        if not(choose_X):\n",
    "            x = 0.85/alpha\n",
    "        r_k = katz_by_graph_exploration(G1,D,L,alpha,count,n)\n",
    "        for r in range(n):\n",
    "            r_k[r] = max(r_k[r],1e-5)\n",
    "        r_k = biggest(r_k,big)\n",
    "        n_k1 = katz_clipping_local(G1,D,L,x,alpha,40,n,eps)\n",
    "        n_k1 = biggest(n_k1,big)\n",
    "        e1,b1,r1 = loss_bias_error(r_k,n_k1,big)\n",
    "        \n",
    "        if choose_X and alpha*3*R<1:\n",
    "            bias_th = alpha**2*gamma*maxDeg/(1-alpha*3*R)\n",
    "        if choose_X and np.sqrt(5)*alpha*l<1:\n",
    "            s = alpha*count/(1-np.sqrt(5)*alpha*l)\n",
    "        E1[i] = e1 \n",
    "        B1[i] = b1\n",
    "        B2[i] = bias_th\n",
    "        B3[i] = max(r_k-n_k1)\n",
    "        R1[i] = r1\n",
    "        R2[i] = max((r_k-n_k1)/r_k)\n",
    "        avg[i] = np.mean(r_k)\n",
    "        max_k[i] = max(r_k)\n",
    "        S[i] = s\n",
    "\n",
    "\n",
    "    if False:\n",
    "        _, ax = plt.subplots()\n",
    "        ax.set_yscale('log')\n",
    "        plt.plot(Alpha,E1,label = 'loss')\n",
    "        plt.legend(loc = 'upper right')\n",
    "        plt.show()\n",
    "\n",
    "        plt.clf()\n",
    "    \n",
    "    if True:\n",
    "        \n",
    "        _, ax = plt.subplots()\n",
    "        ax.set_yscale('log')\n",
    "        plt.plot(Alpha,R2,label = 'max_relative_err')\n",
    "        plt.plot(Alpha,R1,label = 'avg_relative_err')\n",
    "        plt.legend(loc = 'lower right')\n",
    "        plt.show()\n",
    "        plt.clf()\n",
    "    \n",
    "    if True:\n",
    "        _, ax = plt.subplots()\n",
    "        ax.set_yscale('log')\n",
    "        if choose_X:\n",
    "            plt.plot(Alpha,B2,label = 'th')\n",
    "        plt.plot(Alpha,max_k,label = 'max_katz_value')\n",
    "        #plt.plot(Alpha,avg,label=  'avg_katz_value')\n",
    "        plt.plot(Alpha,B3,label = 'bias_max')\n",
    "        #plt.plot(Alpha,B1,label = 'bias_avg')\n",
    "        plt.plot(Alpha,S,label = \"sensitivity\")\n",
    "        plt.legend(loc = 'lower right')\n",
    "        plt.show()\n",
    "        plt.clf()\n",
    "        \n",
    "    if False:\n",
    "        _, ax = plt.subplots()\n",
    "        ax.set_yscale('log')\n",
    "        H = [B3[i]/max_k[i] for i in range(len(Alpha))]\n",
    "        plt.plot(Alpha,H)\n",
    "        plt.show()\n",
    "        plt.clf()"
   ]
  },
  {
   "cell_type": "code",
   "execution_count": null,
   "metadata": {},
   "outputs": [],
   "source": []
  }
 ],
 "metadata": {
  "kernelspec": {
   "display_name": "Python 3",
   "language": "python",
   "name": "python3"
  },
  "language_info": {
   "codemirror_mode": {
    "name": "ipython",
    "version": 3
   },
   "file_extension": ".py",
   "mimetype": "text/x-python",
   "name": "python",
   "nbconvert_exporter": "python",
   "pygments_lexer": "ipython3",
   "version": "3.8.5"
  }
 },
 "nbformat": 4,
 "nbformat_minor": 4
}
